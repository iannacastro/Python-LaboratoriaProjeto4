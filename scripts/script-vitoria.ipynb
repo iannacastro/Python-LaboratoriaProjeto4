{
 "cells": [
  {
   "cell_type": "markdown",
   "id": "2fa72f72",
   "metadata": {},
   "source": [
    "# Analysis of flight cancellations and delays data"
   ]
  },
  {
   "cell_type": "markdown",
   "id": "cfcfffcf",
   "metadata": {},
   "source": [
    "### About the database"
   ]
  },
  {
   "cell_type": "markdown",
   "id": "a3f297fc",
   "metadata": {},
   "source": [
    "Dataset of flight cancellations and delays for US airlines in January 2023, extracted from the US Department of Transportation, Bureau of Transportation Statistics (https://www.transstats.bts.gov) and available on Kaggle.\n",
    "\n",
    "Variables include flight routes (origin and destination), time intervals between events (minutes, time at destination), reasons/attributions for delays and cancellations."
   ]
  },
  {
   "cell_type": "markdown",
   "id": "1d9e58b9",
   "metadata": {},
   "source": [
    "#### Variable description"
   ]
  },
  {
   "cell_type": "markdown",
   "id": "c1eec891",
   "metadata": {},
   "source": [
    "##### DOT_CODE_DICTIONARY table"
   ]
  },
  {
   "cell_type": "markdown",
   "id": "d5ee6fd7",
   "metadata": {},
   "source": [
    "| Variable | Description |\n",
    "| -------- | --------- |\n",
    "| Code | Numeric identifier from the U.S. Department of Transportation (DOT) for airlines |\n",
    "| Description | Airline description |"
   ]
  },
  {
   "cell_type": "markdown",
   "id": "94cc2275",
   "metadata": {},
   "source": [
    "##### AIRLINE_CODE_DICTIONARY table"
   ]
  },
  {
   "cell_type": "markdown",
   "id": "b37ed676",
   "metadata": {},
   "source": [
    "| Variable | Description |\n",
    "| -------- | --------- |\n",
    "| Code | Unique operator code for aircraft operator agencies |\n",
    "| Description | Description of the aircraft operator agency |"
   ]
  },
  {
   "cell_type": "markdown",
   "id": "19065b35",
   "metadata": {},
   "source": [
    "##### flights_202301 table"
   ]
  },
  {
   "cell_type": "markdown",
   "id": "0258d6bf",
   "metadata": {},
   "source": [
    "| Variable | Description |\n",
    "| -------- | --------- |\n",
    "| FL_DATE | Flight date (yyyymmdd) |\n",
    "| AIRLINE_CODE | Unique operator code. When multiple operators use the same code, a numeric suffix is used to differentiate previous users, e.g., PA, PA(1), PA(2). |\n",
    "| DOT_CODE | Identification number assigned by the US DOT to identify a unique airline (carrier). A unique airline (carrier) is defined as one that owns and reports under the same DOT certificate regardless of its code, name, or holding/company. |\n",
    "| FL_NUMBER | Flight number |\n",
    "| ORIGIN | Origin airport |\n",
    "| ORIGIN_CITY | Origin airport, city name |\n",
    "| DEST | Destination airport |\n",
    "| DEST_CITY | Destination airport, city name |\n",
    "| CRSDEPTIME | Scheduled departure time recorded in CRS (Computer Reservation System) (local time: hhmm) |\n",
    "| DEP_TIME | Actual departure time (local time: hhmm) |\n",
    "| DEP_DELAY | Difference in minutes between scheduled and actual departure time. Early departures show negative numbers. |\n",
    "| TAXI_OUT | Taxi out time in minutes (taxi is the process of moving an airplane while it is on the runway) |\n",
    "| WHEELS_OFF | Exact takeoff time (local time: hhmm) |\n",
    "| WHEELS_ON | Exact landing time (local time: hhmm) |\n",
    "| TAXI_IN | Taxi in time in minutes |\n",
    "| CRSARRTIME | Scheduled arrival time recorded in CRS (local time: hhmm) |\n",
    "| ARR_TIME | Actual arrival time (local time: hhmm) |\n",
    "| ARR_DELAY | Difference in minutes between scheduled and actual arrival time. Early arrivals show negative numbers. |\n",
    "| CANCELLED | Flight cancelled indicator (1=Yes) |\n",
    "| CANCELLATION_CODE | Specifies the reason for cancellation |\n",
    "| DIVERTED | Flight diverted indicator (1=Yes) |\n",
    "| CRSELAPSEDTIME | Total elapsed flight time in minutes recorded in CRS |\n",
    "| ELAPSED_TIME | Total actual elapsed flight time in minutes |\n",
    "| AIR_TIME | Air time in minutes |\n",
    "| DISTANCE | Distance between airports (miles) |\n",
    "| DELAYDUECARRIER | Carrier delay in minutes |\n",
    "| DELAYDUEWEATHER | Weather delay in minutes |\n",
    "| DELAYDUENAS | National Air System delay in minutes |\n",
    "| DELAYDUESECURITY | Security delay in minutes |\n",
    "| DELAYDUELATE_AIRCRAFT | Late aircraft delay in minutes |"
   ]
  },
  {
   "cell_type": "markdown",
   "id": "cce54b37",
   "metadata": {},
   "source": [
    "## 1. Imports and data"
   ]
  },
  {
   "cell_type": "code",
   "execution_count": 50,
   "id": "1a947548",
   "metadata": {},
   "outputs": [],
   "source": [
    "import pandas as pd\n",
    "import matplotlib.pyplot as plt\n",
    "import seaborn as sns\n",
    "import numpy as np\n",
    "from scipy.stats import zscore\n"
   ]
  },
  {
   "cell_type": "code",
   "execution_count": 51,
   "id": "3a474219",
   "metadata": {},
   "outputs": [],
   "source": [
    "df_dot_code_dictionary = pd.read_excel(\"../dataset/DOT_CODE_DICTIONARY.xlsx\")\n",
    "df_airline_code_dictionary = pd.read_csv(\"../dataset/AIRLINE_CODE_DICTIONARY.csv\")\n",
    "df_flights_202301 = pd.read_csv(\"../dataset/flights_202301.csv\")"
   ]
  },
  {
   "cell_type": "markdown",
   "id": "d771fced",
   "metadata": {},
   "source": [
    "## 2. Data treatment"
   ]
  },
  {
   "cell_type": "markdown",
   "id": "ecd220eb",
   "metadata": {},
   "source": [
    "### a. Renaming columns to create a pattern"
   ]
  },
  {
   "cell_type": "code",
   "execution_count": 52,
   "id": "b9aa2f33",
   "metadata": {},
   "outputs": [],
   "source": [
    "df_dot_code_dictionary = df_dot_code_dictionary.rename(\n",
    "    columns=lambda col: f\"DOT_{col}\" if col != \"Code\" else col\n",
    ")\n",
    "df_airline_code_dictionary = df_airline_code_dictionary.rename(\n",
    "    columns=lambda col: f\"AIRLINE_{col}\" if col != \"Code\" else col\n",
    ")"
   ]
  },
  {
   "cell_type": "markdown",
   "id": "2fef5f6d",
   "metadata": {},
   "source": [
    "### b. Checking initial information and dimensions"
   ]
  },
  {
   "cell_type": "code",
   "execution_count": 53,
   "id": "cf891fdd",
   "metadata": {},
   "outputs": [
    {
     "name": "stdout",
     "output_type": "stream",
     "text": [
      "Shape of df_flights_202301: (538837, 33)\n",
      "Shape of df_dot_code_dictionary: (1737, 2)\n",
      "Shape of df_airline_code_dictionary: (1729, 2)\n"
     ]
    }
   ],
   "source": [
    "print(f\"Shape of df_flights_202301: {df_flights_202301.shape}\")\n",
    "print(f\"Shape of df_dot_code_dictionary: {df_dot_code_dictionary.shape}\")\n",
    "print(f\"Shape of df_airline_code_dictionary: {df_airline_code_dictionary.shape}\")"
   ]
  },
  {
   "cell_type": "code",
   "execution_count": 54,
   "id": "12c99848",
   "metadata": {},
   "outputs": [
    {
     "name": "stdout",
     "output_type": "stream",
     "text": [
      "<class 'pandas.core.frame.DataFrame'>\n",
      "RangeIndex: 538837 entries, 0 to 538836\n",
      "Data columns (total 33 columns):\n",
      " #   Column                   Non-Null Count   Dtype  \n",
      "---  ------                   --------------   -----  \n",
      " 0   FL_DATE                  538837 non-null  object \n",
      " 1   AIRLINE_CODE             538837 non-null  object \n",
      " 2   DOT_CODE                 538837 non-null  int64  \n",
      " 3   FL_NUMBER                538837 non-null  int64  \n",
      " 4   ORIGIN                   538837 non-null  object \n",
      " 5   ORIGIN_CITY              538837 non-null  object \n",
      " 6   DEST                     538837 non-null  object \n",
      " 7   DEST_CITY                538837 non-null  object \n",
      " 8   CRS_DEP_TIME             538837 non-null  int64  \n",
      " 9   DEP_TIME                 528859 non-null  float64\n",
      " 10  DEP_DELAY                528855 non-null  float64\n",
      " 11  TAXI_OUT                 528640 non-null  float64\n",
      " 12  WHEELS_OFF               528640 non-null  float64\n",
      " 13  WHEELS_ON                528318 non-null  float64\n",
      " 14  TAXI_IN                  528318 non-null  float64\n",
      " 15  CRS_ARR_TIME             538837 non-null  int64  \n",
      " 16  ARR_TIME                 528318 non-null  float64\n",
      " 17  ARR_DELAY                527197 non-null  float64\n",
      " 18  CANCELLED                538837 non-null  int64  \n",
      " 19  CANCELLATION_CODE        538837 non-null  object \n",
      " 20  DIVERTED                 538837 non-null  int64  \n",
      " 21  CRS_ELAPSED_TIME         538836 non-null  float64\n",
      " 22  ELAPSED_TIME             527197 non-null  float64\n",
      " 23  AIR_TIME                 527197 non-null  float64\n",
      " 24  DISTANCE                 538837 non-null  int64  \n",
      " 25  DELAY_DUE_CARRIER        116713 non-null  float64\n",
      " 26  DELAY_DUE_WEATHER        116713 non-null  float64\n",
      " 27  DELAY_DUE_NAS            116713 non-null  float64\n",
      " 28  DELAY_DUE_SECURITY       116713 non-null  float64\n",
      " 29  DELAY_DUE_LATE_AIRCRAFT  116713 non-null  float64\n",
      " 30  FL_YEAR                  538837 non-null  int64  \n",
      " 31  FL_MONTH                 538837 non-null  int64  \n",
      " 32  FL_DAY                   538837 non-null  int64  \n",
      "dtypes: float64(16), int64(10), object(7)\n",
      "memory usage: 135.7+ MB\n"
     ]
    }
   ],
   "source": [
    "df_flights_202301.info()"
   ]
  },
  {
   "cell_type": "code",
   "execution_count": 55,
   "id": "4c96f8bc",
   "metadata": {},
   "outputs": [
    {
     "name": "stdout",
     "output_type": "stream",
     "text": [
      "<class 'pandas.core.frame.DataFrame'>\n",
      "RangeIndex: 1729 entries, 0 to 1728\n",
      "Data columns (total 2 columns):\n",
      " #   Column               Non-Null Count  Dtype \n",
      "---  ------               --------------  ----- \n",
      " 0   Code                 1728 non-null   object\n",
      " 1   AIRLINE_Description  1729 non-null   object\n",
      "dtypes: object(2)\n",
      "memory usage: 27.1+ KB\n"
     ]
    }
   ],
   "source": [
    "df_airline_code_dictionary.info()"
   ]
  },
  {
   "cell_type": "code",
   "execution_count": 56,
   "id": "fff2baf4",
   "metadata": {},
   "outputs": [
    {
     "name": "stdout",
     "output_type": "stream",
     "text": [
      "<class 'pandas.core.frame.DataFrame'>\n",
      "RangeIndex: 1737 entries, 0 to 1736\n",
      "Data columns (total 2 columns):\n",
      " #   Column           Non-Null Count  Dtype \n",
      "---  ------           --------------  ----- \n",
      " 0   Code             1737 non-null   int64 \n",
      " 1   DOT_Description  1733 non-null   object\n",
      "dtypes: int64(1), object(1)\n",
      "memory usage: 27.3+ KB\n"
     ]
    }
   ],
   "source": [
    "df_dot_code_dictionary.info()"
   ]
  },
  {
   "cell_type": "markdown",
   "id": "e9f00d6f",
   "metadata": {},
   "source": [
    "### c. Optimizing data types for df_flights_202301"
   ]
  },
  {
   "cell_type": "code",
   "execution_count": 57,
   "id": "58b56a4c",
   "metadata": {},
   "outputs": [],
   "source": [
    "df_flights_optimized = df_flights_202301.copy()"
   ]
  },
  {
   "cell_type": "code",
   "execution_count": 58,
   "id": "666eebb7",
   "metadata": {},
   "outputs": [],
   "source": [
    "# 1. DATE CONVERSION\n",
    "\n",
    "df_flights_optimized[\"FL_DATE\"] = pd.to_datetime(\n",
    "    df_flights_optimized[\"FL_DATE\"].astype(str),\n",
    "    format=\"%Y-%m-%d\",\n",
    "    errors='coerce'\n",
    ")\n",
    "\n",
    "df_flights_optimized[\"FL_YEAR\"] = df_flights_optimized[\"FL_DATE\"].dt.year.astype('float32')\n",
    "df_flights_optimized[\"FL_MONTH\"] = df_flights_optimized[\"FL_DATE\"] .dt.month.astype('float32')\n",
    "df_flights_optimized[\"FL_DAY\"] = df_flights_optimized[\"FL_DATE\"] .dt.day.astype('float32')"
   ]
  },
  {
   "cell_type": "code",
   "execution_count": 59,
   "id": "3bcc2877",
   "metadata": {},
   "outputs": [],
   "source": [
    "# 2. CATEGORICAL COLUMNS\n",
    "\n",
    "cols_category = [\n",
    "    \"AIRLINE_CODE\", \"ORIGIN\", \"ORIGIN_CITY\", \"DEST\", \"DEST_CITY\", \"CANCELLATION_CODE\"\n",
    "]\n",
    "for col in cols_category:\n",
    "    df_flights_optimized[col] = df_flights_optimized[col].astype(\"category\")"
   ]
  },
  {
   "cell_type": "code",
   "execution_count": 60,
   "id": "888dcca1",
   "metadata": {},
   "outputs": [],
   "source": [
    "# 3. BOOLEAN VARIABLES\n",
    "\n",
    "df_flights_optimized[\"CANCELLED\"] = df_flights_optimized[\"CANCELLED\"].astype(bool)\n",
    "df_flights_optimized[\"DIVERTED\"] = df_flights_optimized[\"DIVERTED\"].astype(bool)"
   ]
  },
  {
   "cell_type": "code",
   "execution_count": 61,
   "id": "142788d7",
   "metadata": {},
   "outputs": [],
   "source": [
    "# 4. FUNCTION FOR TIME CONVERSION\n",
    "# Converter colunas de horários (HHMM) para int, ignorando erros\n",
    "\n",
    "time_cols = [\"DEP_TIME\", \"ARR_TIME\", \"CRS_DEP_TIME\", \"CRS_ARR_TIME\", \"AIR_TIME\"]\n",
    "for col in time_cols:\n",
    "    if col in df_flights_optimized.columns:\n",
    "        df_flights_optimized[col] = pd.to_numeric(df_flights_optimized[col], errors=\"coerce\")"
   ]
  },
  {
   "cell_type": "code",
   "execution_count": 62,
   "id": "f550801b",
   "metadata": {},
   "outputs": [],
   "source": [
    "# Converter atrasos e tempos para numérico\n",
    "num_cols = [\"TAXI_IN\", \"TAXI_OUT\", \"ELAPSED_TIME\", \"DEP_DELAY\", \"ARR_DELAY\"]\n",
    "for col in num_cols:\n",
    "    if col in df_flights_optimized.columns:\n",
    "        df_flights_optimized[col] = pd.to_numeric(df_flights_optimized[col], errors=\"coerce\")"
   ]
  },
  {
   "cell_type": "code",
   "execution_count": 63,
   "id": "8536cff9",
   "metadata": {},
   "outputs": [],
   "source": [
    "# 5. NUMERIC TYPE OPTIMIZATION\n",
    "\n",
    "# Columns that can be converted to smaller int (memory saving)\n",
    "int_columns_small = [\"FL_NUMBER\", \"DOT_CODE\"]\n",
    "for col in int_columns_small:\n",
    "    if col in df_flights_optimized.columns:\n",
    "        max_val = df_flights_optimized[col].max()\n",
    "        if max_val <= 32767:  # int16\n",
    "            df_flights_optimized[col] = df_flights_optimized[col].astype(\"int16\")\n",
    "        elif max_val <= 2147483647:  # int32\n",
    "            df_flights_optimized[col] = df_flights_optimized[col].astype(\"int32\")\n",
    "\n",
    "# 'Distance' can likely be int16 (max ~32k miles)\n",
    "if \"DISTANCE\" in df_flights_optimized.columns:\n",
    "    df_flights_optimized[\"DISTANCE\"] = df_flights_optimized[\"DISTANCE\"].astype(\"int16\")\n",
    "\n",
    "# Convert to float32 (saves 50% memory vs float64)\n",
    "float_columns = [\n",
    "    \"DEP_DELAY\", \"TAXI_OUT\", \"TAXI_IN\", \"ARR_DELAY\",\n",
    "    \"CRS_ELAPSED_TIME\", \"ELAPSED_TIME\", \"AIR_TIME\",\n",
    "    \"DELAY_DUE_CARRIER\", \"DELAY_DUE_WEATHER\", \"DELAY_DUE_NAS\",\n",
    "    \"DELAY_DUE_SECURITY\", \"DELAY_DUE_LATE_AIRCRAFT\"\n",
    "]\n",
    "for col in float_columns:\n",
    "    if col in df_flights_optimized.columns:\n",
    "        df_flights_optimized[col] = pd.to_numeric(df_flights_optimized[col], errors='coerce')\n",
    "        df_flights_optimized[col] = df_flights_optimized[col].astype(\"float32\")"
   ]
  },
  {
   "cell_type": "code",
   "execution_count": 64,
   "id": "f6963279",
   "metadata": {},
   "outputs": [
    {
     "name": "stdout",
     "output_type": "stream",
     "text": [
      "<class 'pandas.core.frame.DataFrame'>\n",
      "RangeIndex: 538837 entries, 0 to 538836\n",
      "Data columns (total 33 columns):\n",
      " #   Column                   Non-Null Count   Dtype         \n",
      "---  ------                   --------------   -----         \n",
      " 0   FL_DATE                  538837 non-null  datetime64[ns]\n",
      " 1   AIRLINE_CODE             538837 non-null  category      \n",
      " 2   DOT_CODE                 538837 non-null  int16         \n",
      " 3   FL_NUMBER                538837 non-null  int16         \n",
      " 4   ORIGIN                   538837 non-null  category      \n",
      " 5   ORIGIN_CITY              538837 non-null  category      \n",
      " 6   DEST                     538837 non-null  category      \n",
      " 7   DEST_CITY                538837 non-null  category      \n",
      " 8   CRS_DEP_TIME             538837 non-null  int64         \n",
      " 9   DEP_TIME                 528859 non-null  float64       \n",
      " 10  DEP_DELAY                528855 non-null  float32       \n",
      " 11  TAXI_OUT                 528640 non-null  float32       \n",
      " 12  WHEELS_OFF               528640 non-null  float64       \n",
      " 13  WHEELS_ON                528318 non-null  float64       \n",
      " 14  TAXI_IN                  528318 non-null  float32       \n",
      " 15  CRS_ARR_TIME             538837 non-null  int64         \n",
      " 16  ARR_TIME                 528318 non-null  float64       \n",
      " 17  ARR_DELAY                527197 non-null  float32       \n",
      " 18  CANCELLED                538837 non-null  bool          \n",
      " 19  CANCELLATION_CODE        538837 non-null  category      \n",
      " 20  DIVERTED                 538837 non-null  bool          \n",
      " 21  CRS_ELAPSED_TIME         538836 non-null  float32       \n",
      " 22  ELAPSED_TIME             527197 non-null  float32       \n",
      " 23  AIR_TIME                 527197 non-null  float32       \n",
      " 24  DISTANCE                 538837 non-null  int16         \n",
      " 25  DELAY_DUE_CARRIER        116713 non-null  float32       \n",
      " 26  DELAY_DUE_WEATHER        116713 non-null  float32       \n",
      " 27  DELAY_DUE_NAS            116713 non-null  float32       \n",
      " 28  DELAY_DUE_SECURITY       116713 non-null  float32       \n",
      " 29  DELAY_DUE_LATE_AIRCRAFT  116713 non-null  float32       \n",
      " 30  FL_YEAR                  538837 non-null  float32       \n",
      " 31  FL_MONTH                 538837 non-null  float32       \n",
      " 32  FL_DAY                   538837 non-null  float32       \n",
      "dtypes: bool(2), category(6), datetime64[ns](1), float32(15), float64(4), int16(3), int64(2)\n",
      "memory usage: 68.9 MB\n"
     ]
    }
   ],
   "source": [
    "df_flights_optimized.info()"
   ]
  },
  {
   "cell_type": "markdown",
   "id": "fde2b6e3",
   "metadata": {},
   "source": [
    "### d. Optimizing data types for df_airline_code_dictionary"
   ]
  },
  {
   "cell_type": "code",
   "execution_count": 65,
   "id": "0015a5cb",
   "metadata": {},
   "outputs": [],
   "source": [
    "df_airline_optimized = df_airline_code_dictionary.copy()"
   ]
  },
  {
   "cell_type": "code",
   "execution_count": 66,
   "id": "570d5153",
   "metadata": {},
   "outputs": [],
   "source": [
    "# 1. Convert 'Code' to category\n",
    "df_airline_optimized['Code'] = df_airline_optimized['Code'].astype('category')\n",
    "\n",
    "# 2. Convert 'AIRLINE_Description' to category\n",
    "df_airline_optimized['AIRLINE_Description'] = df_airline_optimized['AIRLINE_Description'].astype('category')"
   ]
  },
  {
   "cell_type": "code",
   "execution_count": 67,
   "id": "071470b7",
   "metadata": {},
   "outputs": [
    {
     "name": "stdout",
     "output_type": "stream",
     "text": [
      "<class 'pandas.core.frame.DataFrame'>\n",
      "RangeIndex: 1729 entries, 0 to 1728\n",
      "Data columns (total 2 columns):\n",
      " #   Column               Non-Null Count  Dtype   \n",
      "---  ------               --------------  -----   \n",
      " 0   Code                 1728 non-null   category\n",
      " 1   AIRLINE_Description  1729 non-null   category\n",
      "dtypes: category(2)\n",
      "memory usage: 163.0 KB\n"
     ]
    }
   ],
   "source": [
    "df_airline_optimized.info()"
   ]
  },
  {
   "cell_type": "markdown",
   "id": "d7531da7",
   "metadata": {},
   "source": [
    "### e. Optimizing data types for df_dot_code_dictionary"
   ]
  },
  {
   "cell_type": "code",
   "execution_count": 68,
   "id": "1c11cbcd",
   "metadata": {},
   "outputs": [],
   "source": [
    "df_dot_optimized = df_dot_code_dictionary.copy()"
   ]
  },
  {
   "cell_type": "code",
   "execution_count": 69,
   "id": "fbb00237",
   "metadata": {},
   "outputs": [],
   "source": [
    "# 1. Convert to numeric type to ensure conversion works\n",
    "df_dot_optimized['Code'] = pd.to_numeric(df_dot_optimized['Code'], errors='coerce')\n",
    "\n",
    "# Check max value to choose best integer type\n",
    "max_dot_code = df_dot_optimized['Code'].max()\n",
    "\n",
    "if max_dot_code <= 32767:  # int16 limit\n",
    "    df_dot_optimized['Code'] = df_dot_optimized['Code'].astype('int16')\n",
    "elif max_dot_code <= 2147483647:  # int32 limit\n",
    "    df_dot_optimized['Code'] = df_dot_optimized['Code'].astype('int32')\n",
    "\n",
    "# 2. Convert 'DOT_Description' to category\n",
    "df_dot_optimized['DOT_Description'] = df_dot_optimized['DOT_Description'].astype('category')\n",
    "\n",
    "# 3. Remove the redundant part after ':'\n",
    "df_dot_optimized[\"DOT_Description\"] = df_dot_optimized[\"DOT_Description\"].str.split(\":\").str[0].str.strip()"
   ]
  },
  {
   "cell_type": "code",
   "execution_count": 70,
   "id": "62309eb1",
   "metadata": {},
   "outputs": [
    {
     "name": "stdout",
     "output_type": "stream",
     "text": [
      "<class 'pandas.core.frame.DataFrame'>\n",
      "RangeIndex: 1737 entries, 0 to 1736\n",
      "Data columns (total 2 columns):\n",
      " #   Column           Non-Null Count  Dtype \n",
      "---  ------           --------------  ----- \n",
      " 0   Code             1737 non-null   int16 \n",
      " 1   DOT_Description  1733 non-null   object\n",
      "dtypes: int16(1), object(1)\n",
      "memory usage: 17.1+ KB\n"
     ]
    }
   ],
   "source": [
    "df_dot_optimized.info()"
   ]
  },
  {
   "cell_type": "markdown",
   "id": "fa775480",
   "metadata": {},
   "source": [
    "### f. Comparing optimized sizes"
   ]
  },
  {
   "cell_type": "code",
   "execution_count": 71,
   "id": "7426338f",
   "metadata": {},
   "outputs": [
    {
     "name": "stdout",
     "output_type": "stream",
     "text": [
      "Memory improvement analysis for **df_flights_202301**\n",
      "Original DataFrame: 306.27 MB\n",
      "Optimized DataFrame: 68.97 MB\n",
      "Savings: 237.31 MB (77.5%)\n",
      "==================================================\n",
      "Memory improvement analysis for **df_airline_code_dictionary**\n",
      "Original DataFrame: 0.20 MB\n",
      "Optimized DataFrame: 0.33 MB\n",
      "Savings: -0.13 MB (-66.2%)\n",
      "==================================================\n",
      "Memory improvement analysis for **df_dot_code_dictionary**\n",
      "Original DataFrame: 0.14 MB\n",
      "Optimized DataFrame: 0.12 MB\n",
      "Savings: 0.02 MB (13.3%)\n",
      "==================================================\n"
     ]
    }
   ],
   "source": [
    "def compare_memory_usage(df_name, df_original, df_optimized):\n",
    "    mem_original = df_original.memory_usage(deep=True).sum() / 1024**2\n",
    "    mem_optimized = df_optimized.memory_usage(deep=True).sum() / 1024**2\n",
    "\n",
    "    print(f\"Memory improvement analysis for **{df_name}**\")\n",
    "    print(f\"Original DataFrame: {mem_original:.2f} MB\")\n",
    "    print(f\"Optimized DataFrame: {mem_optimized:.2f} MB\")\n",
    "    print(f\"Savings: {mem_original - mem_optimized:.2f} MB ({((mem_original - mem_optimized) / mem_original * 100):.1f}%)\")\n",
    "    print(\"=\" * 50)\n",
    "\n",
    "compare_memory_usage(\"df_flights_202301\", df_flights_202301, df_flights_optimized)\n",
    "compare_memory_usage(\"df_airline_code_dictionary\", df_airline_code_dictionary, df_airline_optimized)\n",
    "compare_memory_usage(\"df_dot_code_dictionary\", df_dot_code_dictionary, df_dot_optimized)"
   ]
  },
  {
   "cell_type": "markdown",
   "id": "6e8e9d8f",
   "metadata": {},
   "source": [
    "### g. Merging data"
   ]
  },
  {
   "cell_type": "markdown",
   "id": "1ba16872",
   "metadata": {},
   "source": [
    "Main: df_flights_202301\n",
    "\n",
    "df_airline_code_dictionary: Code <> df_flights_202301: AIRLINE_CODE\n",
    "\n",
    "df_dot_code_dictionary: Code <> df_flights_202301: DOT_CODE"
   ]
  },
  {
   "cell_type": "code",
   "execution_count": 72,
   "id": "cc9239a5",
   "metadata": {},
   "outputs": [],
   "source": [
    "df_merged = pd.merge(\n",
    "    df_flights_optimized,\n",
    "    df_dot_optimized,\n",
    "    left_on=\"DOT_CODE\",\n",
    "    right_on=\"Code\",\n",
    "    how=\"left\"\n",
    ").drop(columns=[\"Code\"])\n",
    "\n",
    "# Merge with AIRLINE_CODE\n",
    "df = pd.merge(\n",
    "    df_merged,\n",
    "    df_airline_optimized,\n",
    "    left_on=\"AIRLINE_CODE\",\n",
    "    right_on=\"Code\",\n",
    "    how=\"left\"\n",
    ").drop(columns=[\"Code\"])"
   ]
  },
  {
   "cell_type": "markdown",
   "id": "132c946e",
   "metadata": {},
   "source": [
    "### h. Checking and treating nulls values"
   ]
  },
  {
   "cell_type": "code",
   "execution_count": 73,
   "id": "65a5efad",
   "metadata": {},
   "outputs": [
    {
     "data": {
      "text/plain": [
       "FL_DATE                         0\n",
       "AIRLINE_CODE                    0\n",
       "DOT_CODE                        0\n",
       "FL_NUMBER                       0\n",
       "ORIGIN                          0\n",
       "ORIGIN_CITY                     0\n",
       "DEST                            0\n",
       "DEST_CITY                       0\n",
       "CRS_DEP_TIME                    0\n",
       "DEP_TIME                     9978\n",
       "DEP_DELAY                    9982\n",
       "TAXI_OUT                    10197\n",
       "WHEELS_OFF                  10197\n",
       "WHEELS_ON                   10519\n",
       "TAXI_IN                     10519\n",
       "CRS_ARR_TIME                    0\n",
       "ARR_TIME                    10519\n",
       "ARR_DELAY                   11640\n",
       "CANCELLED                       0\n",
       "CANCELLATION_CODE               0\n",
       "DIVERTED                        0\n",
       "CRS_ELAPSED_TIME                1\n",
       "ELAPSED_TIME                11640\n",
       "AIR_TIME                    11640\n",
       "DISTANCE                        0\n",
       "DELAY_DUE_CARRIER          422124\n",
       "DELAY_DUE_WEATHER          422124\n",
       "DELAY_DUE_NAS              422124\n",
       "DELAY_DUE_SECURITY         422124\n",
       "DELAY_DUE_LATE_AIRCRAFT    422124\n",
       "FL_YEAR                         0\n",
       "FL_MONTH                        0\n",
       "FL_DAY                          0\n",
       "DOT_Description                 0\n",
       "AIRLINE_Description             0\n",
       "dtype: int64"
      ]
     },
     "execution_count": 73,
     "metadata": {},
     "output_type": "execute_result"
    }
   ],
   "source": [
    "df.isnull().sum()"
   ]
  },
  {
   "cell_type": "code",
   "execution_count": 74,
   "id": "30cca486",
   "metadata": {},
   "outputs": [
    {
     "name": "stdout",
     "output_type": "stream",
     "text": [
      "Proportion of missing data in columns\n",
      "                column_name  percentage\n",
      "0         DELAY_DUE_WEATHER   78.339832\n",
      "1             DELAY_DUE_NAS   78.339832\n",
      "2        DELAY_DUE_SECURITY   78.339832\n",
      "3   DELAY_DUE_LATE_AIRCRAFT   78.339832\n",
      "4         DELAY_DUE_CARRIER   78.339832\n",
      "5                 ARR_DELAY    2.160208\n",
      "6              ELAPSED_TIME    2.160208\n",
      "7                  AIR_TIME    2.160208\n",
      "8                   TAXI_IN    1.952167\n",
      "9                 WHEELS_ON    1.952167\n",
      "10                 ARR_TIME    1.952167\n",
      "11                 TAXI_OUT    1.892409\n",
      "12               WHEELS_OFF    1.892409\n",
      "13                DEP_DELAY    1.852508\n",
      "14                 DEP_TIME    1.851766\n",
      "15         CRS_ELAPSED_TIME    0.000186\n"
     ]
    }
   ],
   "source": [
    "def checkMissing(data,perc=0):\n",
    "    missing = [(i, data[i].isna().mean()*100) for i in data]\n",
    "    missing = pd.DataFrame(missing, columns=[\"column_name\", \"percentage\"])\n",
    "    missing = missing[missing.percentage > perc]\n",
    "    print(missing.sort_values(\"percentage\", ascending=False).reset_index(drop=True))\n",
    "\n",
    "print(\"Proportion of missing data in columns\")\n",
    "checkMissing(df)"
   ]
  },
  {
   "cell_type": "code",
   "execution_count": 75,
   "id": "54bdc184",
   "metadata": {},
   "outputs": [],
   "source": [
    "# Removing null in CRS_ELAPSED_TIME (1)\n",
    "df = df.dropna(subset=[\"CRS_ELAPSED_TIME\"])"
   ]
  },
  {
   "cell_type": "code",
   "execution_count": 76,
   "id": "87ea9a3b",
   "metadata": {},
   "outputs": [
    {
     "name": "stdout",
     "output_type": "stream",
     "text": [
      "Variáveis nulas em voo normal: 0 (0.00%)\n",
      "Variáveis nulas em voo cancelado/desviado: 11,639 (2.16%)\n"
     ]
    }
   ],
   "source": [
    "# Checking null in CANCELLED and DIVERTED\n",
    "null_columns = [\n",
    "    \"ARR_DELAY\",\n",
    "    \"ELAPSED_TIME\",\n",
    "    \"AIR_TIME\",\n",
    "    \"TAXI_IN\",\n",
    "    \"WHEELS_ON\",\n",
    "    \"ARR_TIME\",\n",
    "    \"TAXI_OUT\",\n",
    "    \"WHEELS_OFF\",\n",
    "    \"DEP_DELAY\",\n",
    "    \"DEP_TIME\",\n",
    "    \"CRS_ELAPSED_TIME\"\n",
    "]\n",
    "\n",
    "df_null = df[df[null_columns].isna().any(axis=1)]\n",
    "\n",
    "# Separar normal vs cancelado/desviado\n",
    "null_flag_0 = df_null[(df_null[\"CANCELLED\"] == 0) & (df_null[\"DIVERTED\"] == 0)]\n",
    "null_flag_1 = df_null[(df_null[\"CANCELLED\"] == 1) | (df_null[\"DIVERTED\"] == 1)]\n",
    "\n",
    "total_rows = len(df)\n",
    "prop_null_flag_0 = len(null_flag_0) / total_rows * 100\n",
    "prop_null_flag_1 = len(null_flag_1) / total_rows * 100\n",
    "\n",
    "print(f\"Variáveis nulas em voo normal: {len(null_flag_0):,} ({prop_null_flag_0:.2f}%)\")\n",
    "print(f\"Variáveis nulas em voo cancelado/desviado: {len(null_flag_1):,} ({prop_null_flag_1:.2f}%)\")\n",
    "\n",
    "dist = null_flag_1[[\"CANCELLED\", \"DIVERTED\"]].value_counts()\n",
    "dist_prop = dist / total_rows * 100"
   ]
  },
  {
   "cell_type": "code",
   "execution_count": 77,
   "id": "9395d28a",
   "metadata": {},
   "outputs": [
    {
     "name": "stdout",
     "output_type": "stream",
     "text": [
      "\n",
      "Total de dados: 538,836\n",
      "Delay nulo em voo normal: 410,484 (76.18%)\n",
      "Delay nulo em voo cancelado/desviado: 11,639 (2.16%)\n",
      "\n",
      "Distribuição entre CANCELLED e DIVERTED (valores absolutos e % do total):\n",
      "                    count  proporção %\n",
      "CANCELLED DIVERTED                    \n",
      "True      False     10294     1.910414\n",
      "False     True       1345     0.249612\n",
      "\n",
      "Linhas canceladas/desviadas com TODOS os 5 delays nulos: 11,639\n",
      "Proporção no total do banco: 2.16%\n"
     ]
    }
   ],
   "source": [
    "# Checkin about the DELAYS in CANCELLED and DIVERTED\n",
    "delay_cols = [\n",
    "    \"DELAY_DUE_CARRIER\",\n",
    "    \"DELAY_DUE_WEATHER\",\n",
    "    \"DELAY_DUE_NAS\",\n",
    "    \"DELAY_DUE_SECURITY\",\n",
    "    \"DELAY_DUE_LATE_AIRCRAFT\"\n",
    "]\n",
    "\n",
    "# Filtrar linhas com atraso nulo\n",
    "df_null_delays = df[df[delay_cols].isna().any(axis=1)]\n",
    "\n",
    "# Separar normal vs cancelado/desviado\n",
    "delay_flag_0 = df_null_delays[(df_null_delays[\"CANCELLED\"] == 0) & (df_null_delays[\"DIVERTED\"] == 0)]\n",
    "delay_flag_1 = df_null_delays[(df_null_delays[\"CANCELLED\"] == 1) | (df_null_delays[\"DIVERTED\"] == 1)]\n",
    "\n",
    "total_rows = len(df)\n",
    "prop_delay_flag_0 = len(delay_flag_0) / total_rows * 100\n",
    "prop_delay_flag_1 = len(delay_flag_1) / total_rows * 100\n",
    "\n",
    "print(f\"\\nTotal de dados: {total_rows:,}\")\n",
    "print(f\"Delay nulo em voo normal: {len(delay_flag_0):,} ({prop_delay_flag_0:.2f}%)\")\n",
    "print(f\"Delay nulo em voo cancelado/desviado: {len(delay_flag_1):,} ({prop_delay_flag_1:.2f}%)\")\n",
    "\n",
    "dist = delay_flag_1[[\"CANCELLED\", \"DIVERTED\"]].value_counts()\n",
    "dist_prop = dist / total_rows * 100\n",
    "\n",
    "print(\"\\nDistribuição entre CANCELLED e DIVERTED (valores absolutos e % do total):\")\n",
    "print(pd.concat([dist, dist_prop.rename(\"proporção %\")], axis=1))\n",
    "\n",
    "# Linhas canceladas/desviadas onde TODOS os 5 delays estão nulos\n",
    "all_delay_null = delay_flag_1[delay_flag_1[delay_cols].isna().all(axis=1)]\n",
    "\n",
    "print(f\"\\nLinhas canceladas/desviadas com TODOS os 5 delays nulos: {len(all_delay_null):,}\")\n",
    "print(f\"Proporção no total do banco: {len(all_delay_null) / total_rows * 100:.2f}%\")"
   ]
  },
  {
   "cell_type": "code",
   "execution_count": 78,
   "id": "18dc0af6",
   "metadata": {},
   "outputs": [],
   "source": [
    "df[delay_cols] = df[delay_cols].fillna(0)"
   ]
  },
  {
   "cell_type": "code",
   "execution_count": 79,
   "id": "cf220edb",
   "metadata": {},
   "outputs": [
    {
     "name": "stdout",
     "output_type": "stream",
     "text": [
      "Proportion of missing data in columns\n",
      "    column_name  percentage\n",
      "0      AIR_TIME    2.160026\n",
      "1  ELAPSED_TIME    2.160026\n",
      "2     ARR_DELAY    2.160026\n",
      "3      ARR_TIME    1.951985\n",
      "4     WHEELS_ON    1.951985\n",
      "5       TAXI_IN    1.951985\n",
      "6      TAXI_OUT    1.892227\n",
      "7    WHEELS_OFF    1.892227\n",
      "8     DEP_DELAY    1.852326\n",
      "9      DEP_TIME    1.851584\n"
     ]
    }
   ],
   "source": [
    "print(\"Proportion of missing data in columns\")\n",
    "checkMissing(df)"
   ]
  },
  {
   "cell_type": "markdown",
   "id": "c2bee56a",
   "metadata": {},
   "source": [
    "### i. Checking duplicated values"
   ]
  },
  {
   "cell_type": "code",
   "execution_count": 80,
   "id": "d643d9e6",
   "metadata": {},
   "outputs": [
    {
     "data": {
      "text/plain": [
       "np.False_"
      ]
     },
     "execution_count": 80,
     "metadata": {},
     "output_type": "execute_result"
    }
   ],
   "source": [
    "df.duplicated().any()"
   ]
  },
  {
   "cell_type": "markdown",
   "id": "75bb09da",
   "metadata": {},
   "source": [
    "### j. Checking out-of-scope variable data "
   ]
  },
  {
   "cell_type": "code",
   "execution_count": 81,
   "id": "cb028de0",
   "metadata": {},
   "outputs": [
    {
     "name": "stdout",
     "output_type": "stream",
     "text": [
      "2023-01-01 00:00:00 → 2023-01-31 00:00:00\n"
     ]
    }
   ],
   "source": [
    "# 1. Dates out-of-scope: 2023, january\n",
    "print(df[\"FL_DATE\"].min(), \"→\", df[\"FL_DATE\"].max())"
   ]
  },
  {
   "cell_type": "code",
   "execution_count": 82,
   "id": "62fbfac1",
   "metadata": {},
   "outputs": [
    {
     "name": "stdout",
     "output_type": "stream",
     "text": [
      "DEP_TIME: 48 valores acima de 2359\n",
      "ARR_TIME: 281 valores acima de 2359\n"
     ]
    }
   ],
   "source": [
    "# 2. Checking expected ranges\n",
    "\n",
    "check_ranges = {\n",
    "    \"FL_DAY\": (1, 31),\n",
    "    \"DEP_TIME\": (0, 2359),\n",
    "    \"ARR_TIME\": (0, 2359),\n",
    "    \"CRS_DEP_TIME\": (0, 2359),\n",
    "    \"CRS_ARR_TIME\": (0, 2359),\n",
    "    \"TAXI_IN\": (0, None),\n",
    "    \"TAXI_OUT\": (0, None),\n",
    "    \"ELAPSED_TIME\": (0, None),\n",
    "    \"AIR_TIME\": (0, None),\n",
    "    \"DEP_DELAY\": (None, None),\n",
    "    \"ARR_DELAY\": (None, None),\n",
    "}\n",
    "\n",
    "for col, (low, high) in check_ranges.items():\n",
    "    if col in df.columns:\n",
    "        if low is not None:\n",
    "            invalid_low = df[df[col] < low]\n",
    "            if not invalid_low.empty:\n",
    "                print(f\"{col}: {len(invalid_low)} valores abaixo de {low}\")\n",
    "        if high is not None:\n",
    "            invalid_high = df[df[col] > high]\n",
    "            if not invalid_high.empty:\n",
    "                print(f\"{col}: {len(invalid_high)} valores acima de {high}\")"
   ]
  },
  {
   "cell_type": "code",
   "execution_count": 83,
   "id": "65adc715",
   "metadata": {},
   "outputs": [
    {
     "name": "stdout",
     "output_type": "stream",
     "text": [
      "DEP_TIME inválidos únicos: [2400.]\n",
      "ARR_TIME inválidos únicos: [2400.]\n"
     ]
    }
   ],
   "source": [
    "invalid_dep_time_vals = df.loc[df[\"DEP_TIME\"] > 2359, \"DEP_TIME\"].unique()\n",
    "print(\"DEP_TIME inválidos únicos:\", invalid_dep_time_vals)\n",
    "\n",
    "invalid_arr_time_vals = df.loc[df[\"ARR_TIME\"] > 2359, \"ARR_TIME\"].unique()\n",
    "print(\"ARR_TIME inválidos únicos:\", invalid_arr_time_vals)"
   ]
  },
  {
   "cell_type": "code",
   "execution_count": 84,
   "id": "f78b4c2e",
   "metadata": {},
   "outputs": [],
   "source": [
    "time_cols = [\"DEP_TIME\", \"ARR_TIME\", \"CRS_DEP_TIME\", \"CRS_ARR_TIME\"]\n",
    "\n",
    "for col in time_cols:\n",
    "    if col in df.columns:\n",
    "        df.loc[df[col] == 2400, col] = 0"
   ]
  },
  {
   "cell_type": "markdown",
   "id": "aa498ba9",
   "metadata": {},
   "source": [
    "### k. Checking the categorical data"
   ]
  },
  {
   "cell_type": "code",
   "execution_count": 85,
   "id": "d3dec21b",
   "metadata": {},
   "outputs": [
    {
     "name": "stdout",
     "output_type": "stream",
     "text": [
      "🔎 Exploração de valores categóricos:\n",
      "\n",
      "Index(['AIRLINE_CODE', 'ORIGIN', 'ORIGIN_CITY', 'DEST', 'DEST_CITY',\n",
      "       'CANCELLATION_CODE', 'DOT_Description', 'AIRLINE_Description'],\n",
      "      dtype='object')\n",
      "📌 Coluna: AIRLINE_CODE\n",
      "Quantidade de categorias únicas: 15\n",
      "Categorias encontradas: ['9E' 'AA' 'AS' 'B6' 'DL' 'F9' 'G4' 'HA' 'MQ' 'NK' 'WN' 'YX' 'OH' 'OO'\n",
      " 'UA']\n",
      "--------------------------------------------------------------------------------\n",
      "📌 Coluna: ORIGIN\n",
      "Quantidade de categorias únicas: 339\n",
      "Categorias encontradas: ['BDL', 'LGA', 'DLH', 'ATL', 'FAY', ..., 'APN', 'PLN', 'BJI', 'GUM', 'SPN']\n",
      "Length: 339\n",
      "Categories (339, object): ['ABE', 'ABI', 'ABQ', 'ABR', ..., 'XNA', 'XWA', 'YAK', 'YUM']\n",
      "--------------------------------------------------------------------------------\n",
      "📌 Coluna: ORIGIN_CITY\n",
      "Quantidade de categorias únicas: 333\n",
      "Categorias encontradas: ['Hartford, CT', 'New York, NY', 'Duluth, MN', 'Atlanta, GA', 'Fayetteville, NC', ..., 'Alpena, MI', 'Pellston, MI', 'Bemidji, MN', 'Guam, TT', 'Saipan, TT']\n",
      "Length: 333\n",
      "Categories (333, object): ['Aberdeen, SD', 'Abilene, TX', 'Adak Island, AK', 'Aguadilla, PR', ..., 'Worcester, MA', 'Wrangell, AK', 'Yakutat, AK', 'Yuma, AZ']\n",
      "--------------------------------------------------------------------------------\n",
      "📌 Coluna: DEST\n",
      "Quantidade de categorias únicas: 339\n",
      "Categorias encontradas: ['LGA', 'CVG', 'BGM', 'MSP', 'FAY', ..., 'APN', 'CIU', 'PIH', 'GUM', 'SPN']\n",
      "Length: 339\n",
      "Categories (339, object): ['ABE', 'ABI', 'ABQ', 'ABR', ..., 'XNA', 'XWA', 'YAK', 'YUM']\n",
      "--------------------------------------------------------------------------------\n",
      "📌 Coluna: DEST_CITY\n",
      "Quantidade de categorias únicas: 333\n",
      "Categorias encontradas: ['New York, NY', 'Cincinnati, OH', 'Binghamton, NY', 'Minneapolis, MN', 'Fayetteville, NC', ..., 'Alpena, MI', 'Sault Ste. Marie, MI', 'Pocatello, ID', 'Guam, TT', 'Saipan, TT']\n",
      "Length: 333\n",
      "Categories (333, object): ['Aberdeen, SD', 'Abilene, TX', 'Adak Island, AK', 'Aguadilla, PR', ..., 'Worcester, MA', 'Wrangell, AK', 'Yakutat, AK', 'Yuma, AZ']\n",
      "--------------------------------------------------------------------------------\n",
      "📌 Coluna: CANCELLATION_CODE\n",
      "Quantidade de categorias únicas: 5\n",
      "Categorias encontradas: ['Z', 'C', 'B', 'D', 'A']\n",
      "Categories (5, object): ['A', 'B', 'C', 'D', 'Z']\n",
      "--------------------------------------------------------------------------------\n",
      "📌 Coluna: DOT_Description\n",
      "Quantidade de categorias únicas: 15\n",
      "Categorias encontradas: ['Endeavor Air Inc.' 'American Airlines Inc.' 'Alaska Airlines Inc.'\n",
      " 'JetBlue Airways' 'Delta Air Lines Inc.' 'Frontier Airlines Inc.'\n",
      " 'Allegiant Air' 'Hawaiian Airlines Inc.' 'Envoy Air' 'Spirit Air Lines'\n",
      " 'Southwest Airlines Co.' 'Republic Airline' 'PSA Airlines Inc.'\n",
      " 'SkyWest Airlines Inc.' 'United Air Lines Inc.']\n",
      "--------------------------------------------------------------------------------\n",
      "📌 Coluna: AIRLINE_Description\n",
      "Quantidade de categorias únicas: 15\n",
      "Categorias encontradas: ['Endeavor Air Inc.', 'American Airlines Inc.', 'Alaska Airlines Inc.', 'JetBlue Airways', 'Delta Air Lines Inc.', ..., 'Southwest Airlines Co.', 'Republic Airline', 'PSA Airlines Inc.', 'SkyWest Airlines Inc.', 'United Air Lines Inc.']\n",
      "Length: 15\n",
      "Categories (1729, object): ['1263343 Alberta Inc. d/b/a Lynx Air', '21 Air LLC', '40-Mile Air', 'A/S Conair', ..., 'Zantop International', 'Zas Airline Of Egypt', 'Zeal 320', 'Zuliana De Aviacion']\n",
      "--------------------------------------------------------------------------------\n"
     ]
    }
   ],
   "source": [
    "# 1. List information about categorical data\n",
    "\n",
    "categorical_data = df.select_dtypes(include=['object', 'category']).columns\n",
    "\n",
    "print(\"🔎 Exploração de valores categóricos:\\n\")\n",
    "print(categorical_data)\n",
    "\n",
    "for data_column in categorical_data:\n",
    "    print(f\"📌 Coluna: {data_column}\")\n",
    "    print(\"Quantidade de categorias únicas:\", df[data_column].nunique())\n",
    "    print(\"Categorias encontradas:\", df[data_column].unique())\n",
    "    print(\"-\" * 80)"
   ]
  },
  {
   "cell_type": "code",
   "execution_count": 86,
   "id": "e82d2d23",
   "metadata": {},
   "outputs": [],
   "source": [
    "# 2. Create pattern\n",
    "    \n",
    "df[categorical_data] = df[categorical_data].apply(\n",
    "    lambda col: col.astype(str)\n",
    "                    .str.strip()\n",
    "                    .str.upper()\n",
    "                    .replace(['NA', 'N/A', 'NONE', 'NULL', '?', 'UNKNOWN'], np.nan)\n",
    ")\n",
    "\n",
    "if 'DOT_Description' in df.columns:\n",
    "    df['DOT_Description'] = df['DOT_Description'].str.strip()"
   ]
  },
  {
   "cell_type": "code",
   "execution_count": 87,
   "id": "4a96904b",
   "metadata": {},
   "outputs": [
    {
     "name": "stdout",
     "output_type": "stream",
     "text": [
      "DOT_Description\n",
      "SOUTHWEST AIRLINES CO.    112430\n",
      "DELTA AIR LINES INC.       75174\n",
      "AMERICAN AIRLINES INC.     74999\n",
      "UNITED AIR LINES INC.      56657\n",
      "SKYWEST AIRLINES INC.      50346\n",
      "REPUBLIC AIRLINE           24476\n",
      "JETBLUE AIRWAYS            23249\n",
      "SPIRIT AIR LINES           21876\n",
      "ALASKA AIRLINES INC.       19801\n",
      "ENVOY AIR                  18849\n",
      "ENDEAVOR AIR INC.          16926\n",
      "PSA AIRLINES INC.          15456\n",
      "FRONTIER AIRLINES INC.     13285\n",
      "ALLEGIANT AIR               8615\n",
      "HAWAIIAN AIRLINES INC.      6697\n",
      "Name: count, dtype: int64\n",
      "\n",
      "AIRLINE_Description\n",
      "SOUTHWEST AIRLINES CO.    112430\n",
      "DELTA AIR LINES INC.       75174\n",
      "AMERICAN AIRLINES INC.     74999\n",
      "UNITED AIR LINES INC.      56657\n",
      "SKYWEST AIRLINES INC.      50346\n",
      "REPUBLIC AIRLINE           24476\n",
      "JETBLUE AIRWAYS            23249\n",
      "SPIRIT AIR LINES           21876\n",
      "ALASKA AIRLINES INC.       19801\n",
      "ENVOY AIR                  18849\n",
      "ENDEAVOR AIR INC.          16926\n",
      "PSA AIRLINES INC.          15456\n",
      "FRONTIER AIRLINES INC.     13285\n",
      "ALLEGIANT AIR               8615\n",
      "HAWAIIAN AIRLINES INC.      6697\n",
      "Name: count, dtype: int64\n"
     ]
    }
   ],
   "source": [
    "# 3. Checking similarity in DOT_Description and AIRLINE_Description\n",
    "\n",
    "count_DOT_Description = df['DOT_Description'].value_counts()\n",
    "print(count_DOT_Description)\n",
    "\n",
    "count_AIRLINE_Description = df['AIRLINE_Description'].value_counts()\n",
    "print(f\"\\n{count_AIRLINE_Description}\")"
   ]
  },
  {
   "cell_type": "code",
   "execution_count": 88,
   "id": "dc7ed82c",
   "metadata": {},
   "outputs": [
    {
     "name": "stdout",
     "output_type": "stream",
     "text": [
      "As colunas são idênticas linha a linha? True\n",
      "As colunas têm os mesmos valores únicos? True\n"
     ]
    }
   ],
   "source": [
    "# Lines are the same?\n",
    "similar_description = (df['DOT_Description'] == df['AIRLINE_Description']).all()\n",
    "print(\"As colunas são idênticas linha a linha?\", similar_description)\n",
    "\n",
    "if not similar_description:\n",
    "    dif = df[df['DOT_Description'] != df['AIRLINE_Description']]\n",
    "    print(f\"Número de diferenças: {len(dif)}\")\n",
    "    print(dif.head())\n",
    "\n",
    "#  Same unique values?\n",
    "similar_category = set(df['DOT_Description'].dropna().unique()) == set(df['AIRLINE_Description'].dropna().unique())\n",
    "print(\"As colunas têm os mesmos valores únicos?\", similar_category)"
   ]
  },
  {
   "cell_type": "code",
   "execution_count": 89,
   "id": "236d3f8a",
   "metadata": {},
   "outputs": [],
   "source": [
    "# Removing DOT_DESCRIPTION\n",
    "df = df.drop('DOT_Description', axis=1)"
   ]
  },
  {
   "cell_type": "code",
   "execution_count": 90,
   "id": "9803f150",
   "metadata": {},
   "outputs": [
    {
     "name": "stdout",
     "output_type": "stream",
     "text": [
      "AIRLINE_CODE: 0 valores suspeitos\n",
      "ORIGIN: 0 valores suspeitos\n",
      "ORIGIN_CITY: 0 valores suspeitos\n",
      "DEST: 0 valores suspeitos\n",
      "DEST_CITY: 0 valores suspeitos\n",
      "CANCELLATION_CODE: 0 valores suspeitos\n",
      "AIRLINE_Description: 0 valores suspeitos\n"
     ]
    }
   ],
   "source": [
    "# 4. Checking inconsistent values\n",
    "categorical_data = df.select_dtypes(include=['object', 'category']).columns\n",
    "\n",
    "for col in categorical_data:\n",
    "    print(f\"{col}: {df[col].isin(['NA','?','None','UNKNOWN']).sum()} valores suspeitos\")"
   ]
  },
  {
   "cell_type": "markdown",
   "id": "bd20779f",
   "metadata": {},
   "source": [
    "### l. Checking the numerical data"
   ]
  },
  {
   "cell_type": "code",
   "execution_count": null,
   "id": "aeab1210",
   "metadata": {},
   "outputs": [
    {
     "name": "stdout",
     "output_type": "stream",
     "text": [
      "🔎 Outliers identificados (IQR):\n",
      "- DEP_DELAY: 65189 registros\n",
      "- ARR_DELAY: 48102 registros\n",
      "- TAXI_IN: 36666 registros\n",
      "- TAXI_OUT: 35661 registros\n",
      "- AIR_TIME: 26674 registros\n",
      "- ELAPSED_TIME: 25005 registros\n",
      "- CRS_ELAPSED_TIME: 27542 registros\n",
      "- DISTANCE: 32099 registros\n",
      "- DELAY_DUE_CARRIER: 12005 registros\n",
      "- DELAY_DUE_WEATHER: 6507 registros\n",
      "- DELAY_DUE_NAS: 8966 registros\n",
      "- DELAY_DUE_SECURITY: 626 registros\n",
      "- DELAY_DUE_LATE_AIRCRAFT: 12750 registros\n",
      "\n",
      "🔎 Outliers identificados (Z-Score):\n",
      "- DEP_DELAY: 7656 registros\n",
      "- ARR_DELAY: 7475 registros\n",
      "- TAXI_IN: 10083 registros\n",
      "- TAXI_OUT: 9732 registros\n",
      "- AIR_TIME: 8061 registros\n",
      "- ELAPSED_TIME: 7721 registros\n",
      "- CRS_ELAPSED_TIME: 8720 registros\n",
      "- DISTANCE: 4831 registros\n",
      "- DELAY_DUE_CARRIER: 1395 registros\n",
      "- DELAY_DUE_WEATHER: 1045 registros\n",
      "- DELAY_DUE_NAS: 2270 registros\n",
      "- DELAY_DUE_SECURITY: 495 registros\n",
      "- DELAY_DUE_LATE_AIRCRAFT: 1936 registros\n"
     ]
    }
   ],
   "source": [
    "numeric_cols = [\n",
    "    'DEP_DELAY', 'ARR_DELAY', 'TAXI_IN', 'TAXI_OUT',\n",
    "    'AIR_TIME', 'ELAPSED_TIME', 'CRS_ELAPSED_TIME', 'DISTANCE',\n",
    "    'DELAY_DUE_CARRIER', 'DELAY_DUE_WEATHER', 'DELAY_DUE_NAS',\n",
    "    'DELAY_DUE_SECURITY', 'DELAY_DUE_LATE_AIRCRAFT'\n",
    "]\n",
    "\n",
    "def detect_outliers_iqr(series):\n",
    "    Q1, Q3 = series.quantile([0.25, 0.75])\n",
    "    IQR = Q3 - Q1\n",
    "    lower, upper = Q1 - 1.5 * IQR, Q3 + 1.5 * IQR\n",
    "    return series[(series < lower) | (series > upper)]\n",
    "\n",
    "def detect_outliers_zscore(series, threshold=3):\n",
    "    z_scores = zscore(series.dropna())\n",
    "    return series.iloc[(abs(z_scores) > threshold).nonzero()[0]]\n",
    "\n",
    "outliers_iqr, outliers_zscore = {}, {}\n",
    "\n",
    "for col in numeric_cols:\n",
    "    if col in df_merged.columns:\n",
    "        outliers_iqr[col] = detect_outliers_iqr(df_merged[col])\n",
    "        outliers_zscore[col] = detect_outliers_zscore(df_merged[col])\n",
    "\n",
    "print(\"🔎 Outliers identificados (IQR):\")\n",
    "for col, vals in outliers_iqr.items():\n",
    "    print(f\"- {col}: {len(vals)} registros\")\n",
    "\n",
    "print(\"\\n🔎 Outliers identificados (Z-Score):\")\n",
    "for col, vals in outliers_zscore.items():\n",
    "    print(f\"- {col}: {len(vals)} registros\")\n"
   ]
  },
  {
   "cell_type": "markdown",
   "id": "b1e94be1",
   "metadata": {},
   "source": [
    "## 3. Exploratory Data Analysis (EDA)"
   ]
  },
  {
   "cell_type": "markdown",
   "id": "4222662e",
   "metadata": {},
   "source": [
    "### a. Merge and see categorial information"
   ]
  },
  {
   "cell_type": "code",
   "execution_count": null,
   "id": "4737297f",
   "metadata": {},
   "outputs": [
    {
     "name": "stdout",
     "output_type": "stream",
     "text": [
      "Voos Cancelados:\n",
      "10294\n",
      "Voos Desviados:\n",
      "1345\n"
     ]
    }
   ],
   "source": [
    "# Contagem de voos cancelados e desviados\n",
    "print(\"Voos Cancelados:\")\n",
    "print(df[\"CANCELLED\"] .sum())\n",
    "print(\"Voos Desviados:\")\n",
    "print(df[\"DIVERTED\"] .sum())"
   ]
  },
  {
   "cell_type": "code",
   "execution_count": 94,
   "id": "303b191c",
   "metadata": {},
   "outputs": [
    {
     "name": "stdout",
     "output_type": "stream",
     "text": [
      "Top 10 Companhias Aéreas com Mais Atrasos na Partida:\n",
      "AIRLINE_Description\n",
      "SOUTHWEST AIRLINES CO.    51880\n",
      "DELTA AIR LINES INC.      28270\n",
      "AMERICAN AIRLINES INC.    26095\n",
      "UNITED AIR LINES INC.     23266\n",
      "SKYWEST AIRLINES INC.     15423\n",
      "SPIRIT AIR LINES           9594\n",
      "JETBLUE AIRWAYS            9354\n",
      "ALASKA AIRLINES INC.       6957\n",
      "FRONTIER AIRLINES INC.     6717\n",
      "ENVOY AIR                  5856\n",
      "Name: DEP_DELAY, dtype: int64\n"
     ]
    }
   ],
   "source": [
    "# Top 10 companhias aéreas com mais atrasos (considerando DEP_DELAY > 0)\n",
    "top_delayed_airlines = df[df[\"DEP_DELAY\"] > 0].groupby(\"AIRLINE_Description\")[\"DEP_DELAY\"] .count().nlargest(10)\n",
    "print(\"Top 10 Companhias Aéreas com Mais Atrasos na Partida:\")\n",
    "print(top_delayed_airlines)"
   ]
  },
  {
   "cell_type": "code",
   "execution_count": 95,
   "id": "348e0e59",
   "metadata": {},
   "outputs": [
    {
     "name": "stdout",
     "output_type": "stream",
     "text": [
      "Média de Atraso na Partida por Companhia Aérea:\n",
      "AIRLINE_Description\n",
      "FRONTIER AIRLINES INC.    26.052259\n",
      "SPIRIT AIR LINES          18.594975\n",
      "ALLEGIANT AIR             17.502411\n",
      "JETBLUE AIRWAYS           16.881086\n",
      "AMERICAN AIRLINES INC.    14.610332\n",
      "Name: DEP_DELAY, dtype: float32\n"
     ]
    }
   ],
   "source": [
    "# Média de atraso por companhia aérea\n",
    "avg_delay_airline = df.groupby(\"AIRLINE_Description\")[\"DEP_DELAY\"] .mean().sort_values(ascending=False)\n",
    "print(\"Média de Atraso na Partida por Companhia Aérea:\")\n",
    "print(avg_delay_airline.head())"
   ]
  },
  {
   "cell_type": "code",
   "execution_count": 96,
   "id": "77a0bbdd",
   "metadata": {},
   "outputs": [
    {
     "data": {
      "image/png": "[encoded data removed]",
      "text/plain": [
       "<Figure size 1200x600 with 1 Axes>"
      ]
     },
     "metadata": {},
     "output_type": "display_data"
    }
   ],
   "source": [
    "# Distribuição dos atrasos\n",
    "\n",
    "plt.figure(figsize=(12, 6))\n",
    "sns.histplot(df[\"DEP_DELAY\"] .dropna(), bins=50, kde=True)\n",
    "plt.title(\"Distribuição dos Atrasos na Partida\")\n",
    "plt.xlabel(\"Atraso na Partida (minutos)\")\n",
    "plt.ylabel(\"Frequência\")\n",
    "plt.xlim(-60, 300) # Limitar o eixo x para melhor visualização de atrasos comuns\n",
    "plt.show()"
   ]
  },
  {
   "cell_type": "code",
   "execution_count": 97,
   "id": "7c4afe72",
   "metadata": {},
   "outputs": [
    {
     "name": "stdout",
     "output_type": "stream",
     "text": [
      "Média de Atraso na Partida por Dia da Semana:\n",
      "DAY_OF_WEEK\n",
      "Monday       14.987736\n",
      "Tuesday      12.078774\n",
      "Wednesday    26.550163\n",
      "Thursday     10.890819\n",
      "Friday        7.716964\n",
      "Saturday      6.407958\n",
      "Sunday       11.926554\n",
      "Name: DEP_DELAY, dtype: float32\n"
     ]
    }
   ],
   "source": [
    "# Atrasos por dia da semana (se FL_DATE foi convertida corretamente, podemos extrair o dia da semana)\n",
    "df[\"DAY_OF_WEEK\"] = df[\"FL_DATE\"] .dt.day_name()\n",
    "delay_by_day = df.groupby(\"DAY_OF_WEEK\")[\"DEP_DELAY\"] .mean().reindex(\n",
    "    [\"Monday\", \"Tuesday\", \"Wednesday\", \"Thursday\", \"Friday\", \"Saturday\", \"Sunday\"]\n",
    ")\n",
    "print(\"Média de Atraso na Partida por Dia da Semana:\")\n",
    "print(delay_by_day)"
   ]
  },
  {
   "cell_type": "code",
   "execution_count": 98,
   "id": "b2e87ed1",
   "metadata": {},
   "outputs": [
    {
     "data": {
      "image/png": "[encoded data removed]",
      "text/plain": [
       "<Figure size 1000x500 with 1 Axes>"
      ]
     },
     "metadata": {},
     "output_type": "display_data"
    }
   ],
   "source": [
    "plt.figure(figsize=(10, 5))\n",
    "sns.barplot(x=delay_by_day.index, y=delay_by_day.values)\n",
    "plt.title(\"Média de Atraso na Partida por Dia da Semana\")\n",
    "plt.xlabel(\"Dia da Semana\")\n",
    "plt.ylabel(\"Média de Atraso (minutos)\")\n",
    "plt.show()"
   ]
  }
 ],
 "metadata": {
  "kernelspec": {
   "display_name": "py12_lab4",
   "language": "python",
   "name": "python3"
  },
  "language_info": {
   "codemirror_mode": {
    "name": "ipython",
    "version": 3
   },
   "file_extension": ".py",
   "mimetype": "text/x-python",
   "name": "python",
   "nbconvert_exporter": "python",
   "pygments_lexer": "ipython3",
   "version": "3.12.11"
  }
 },
 "nbformat": 4,
 "nbformat_minor": 5
}
