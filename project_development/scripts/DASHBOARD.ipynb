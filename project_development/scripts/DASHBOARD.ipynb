{
 "cells": [
  {
   "cell_type": "markdown",
   "id": "b36dad63",
   "metadata": {},
   "source": [
    "# Avaliação de padrões problemáticos em voos de janeiro de 2023"
   ]
  },
  {
   "cell_type": "markdown",
   "id": "659e8b8a",
   "metadata": {},
   "source": [
    "O objetivo deste estudo é analisar padrões de atrasos, cancelamentos e desvios em voos domésticos, identificando segmentos que diferenciam o comportamento operacional das companhias aéreas, aeroportos e períodos de tempo. A partir da aplicação de estatísticas descritivas, segmentações, testes de hipótese, cálculo de risco relativo e modelos de regressão, busca-se compreender não apenas se existem diferenças significativas entre grupos, mas também a magnitude e direção dessas diferenças. O propósito final é gerar insights acionáveis que apoiem decisões estratégicas para melhorar a eficiência operacional, otimizar recursos e reduzir impactos para passageiros e companhias.\n",
    "\n",
    "Acesse as sessões posterior ao **Gerencimento do notebook** para conferir o dashboard"
   ]
  },
  {
   "cell_type": "markdown",
   "id": "c1b586af",
   "metadata": {},
   "source": [
    "## Gerenciamento do notebook"
   ]
  },
  {
   "cell_type": "markdown",
   "id": "d8c08fff",
   "metadata": {},
   "source": [
    "### Imports e dataset"
   ]
  },
  {
   "cell_type": "code",
   "execution_count": 3,
   "id": "ef7691ad",
   "metadata": {},
   "outputs": [],
   "source": [
    "import pandas as pd"
   ]
  },
  {
   "cell_type": "code",
   "execution_count": 4,
   "id": "f5759070",
   "metadata": {},
   "outputs": [],
   "source": [
    "df = pd.read_csv(\"../dataset/created/df_view.csv\")"
   ]
  },
  {
   "cell_type": "markdown",
   "id": "bd03ca8c",
   "metadata": {},
   "source": [
    "### Definições"
   ]
  },
  {
   "cell_type": "markdown",
   "id": "7eaa856f",
   "metadata": {},
   "source": [
    "### Funções utilizadas"
   ]
  },
  {
   "cell_type": "markdown",
   "id": "1a0d743a",
   "metadata": {},
   "source": [
    "## Dashboard"
   ]
  },
  {
   "cell_type": "code",
   "execution_count": 6,
   "id": "434ef17b",
   "metadata": {},
   "outputs": [
    {
     "name": "stdout",
     "output_type": "stream",
     "text": [
      "536720\n"
     ]
    }
   ],
   "source": [
    "print(len(df))"
   ]
  }
 ],
 "metadata": {
  "kernelspec": {
   "display_name": "py12_lab",
   "language": "python",
   "name": "python3"
  },
  "language_info": {
   "codemirror_mode": {
    "name": "ipython",
    "version": 3
   },
   "file_extension": ".py",
   "mimetype": "text/x-python",
   "name": "python",
   "nbconvert_exporter": "python",
   "pygments_lexer": "ipython3",
   "version": "3.12.0"
  }
 },
 "nbformat": 4,
 "nbformat_minor": 5
}
