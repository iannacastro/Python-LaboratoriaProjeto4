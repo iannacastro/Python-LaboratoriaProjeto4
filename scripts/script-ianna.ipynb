{
 "cells": [
  {
   "cell_type": "code",
   "execution_count": 5,
   "id": "5e030b1a",
   "metadata": {},
   "outputs": [
    {
     "name": "stdout",
     "output_type": "stream",
     "text": [
      "Requirement already satisfied: pandas in c:\\users\\notebook\\appdata\\local\\programs\\python\\python313\\lib\\site-packages (2.3.2)\n",
      "Requirement already satisfied: openpyxl in c:\\users\\notebook\\appdata\\local\\programs\\python\\python313\\lib\\site-packages (3.1.5)\n",
      "Requirement already satisfied: numpy>=1.26.0 in c:\\users\\notebook\\appdata\\local\\programs\\python\\python313\\lib\\site-packages (from pandas) (2.3.3)\n",
      "Requirement already satisfied: python-dateutil>=2.8.2 in c:\\users\\notebook\\appdata\\roaming\\python\\python313\\site-packages (from pandas) (2.9.0.post0)\n",
      "Requirement already satisfied: pytz>=2020.1 in c:\\users\\notebook\\appdata\\local\\programs\\python\\python313\\lib\\site-packages (from pandas) (2025.2)\n",
      "Requirement already satisfied: tzdata>=2022.7 in c:\\users\\notebook\\appdata\\local\\programs\\python\\python313\\lib\\site-packages (from pandas) (2025.2)\n",
      "Requirement already satisfied: et-xmlfile in c:\\users\\notebook\\appdata\\local\\programs\\python\\python313\\lib\\site-packages (from openpyxl) (2.0.0)\n",
      "Requirement already satisfied: six>=1.5 in c:\\users\\notebook\\appdata\\roaming\\python\\python313\\site-packages (from python-dateutil>=2.8.2->pandas) (1.17.0)\n",
      "Note: you may need to restart the kernel to use updated packages.\n"
     ]
    }
   ],
   "source": [
    "pip install pandas openpyxl"
   ]
  },
  {
   "cell_type": "markdown",
   "id": "d77d0c03",
   "metadata": {},
   "source": [
    "## 1. Instalar as bibliotecas necessárias"
   ]
  },
  {
   "cell_type": "code",
   "execution_count": 12,
   "id": "adbbab94",
   "metadata": {},
   "outputs": [],
   "source": [
    "import pandas as pd\n",
    "from datetime import time as dt_time\n",
    "from datetime import datetime"
   ]
  },
  {
   "cell_type": "markdown",
   "id": "62559066",
   "metadata": {},
   "source": [
    "## 2. Importar os arquivos no notebook"
   ]
  },
  {
   "cell_type": "code",
   "execution_count": 13,
   "id": "a1526e96",
   "metadata": {},
   "outputs": [
    {
     "name": "stdout",
     "output_type": "stream",
     "text": [
      "Voos:\n"
     ]
    },
    {
     "data": {
      "text/html": [
       "<div>\n",
       "<style scoped>\n",
       "    .dataframe tbody tr th:only-of-type {\n",
       "        vertical-align: middle;\n",
       "    }\n",
       "\n",
       "    .dataframe tbody tr th {\n",
       "        vertical-align: top;\n",
       "    }\n",
       "\n",
       "    .dataframe thead th {\n",
       "        text-align: right;\n",
       "    }\n",
       "</style>\n",
       "<table border=\"1\" class=\"dataframe\">\n",
       "  <thead>\n",
       "    <tr style=\"text-align: right;\">\n",
       "      <th></th>\n",
       "      <th>FL_DATE</th>\n",
       "      <th>AIRLINE_CODE</th>\n",
       "      <th>DOT_CODE</th>\n",
       "      <th>FL_NUMBER</th>\n",
       "      <th>ORIGIN</th>\n",
       "      <th>ORIGIN_CITY</th>\n",
       "      <th>DEST</th>\n",
       "      <th>DEST_CITY</th>\n",
       "      <th>CRS_DEP_TIME</th>\n",
       "      <th>DEP_TIME</th>\n",
       "      <th>...</th>\n",
       "      <th>AIR_TIME</th>\n",
       "      <th>DISTANCE</th>\n",
       "      <th>DELAY_DUE_CARRIER</th>\n",
       "      <th>DELAY_DUE_WEATHER</th>\n",
       "      <th>DELAY_DUE_NAS</th>\n",
       "      <th>DELAY_DUE_SECURITY</th>\n",
       "      <th>DELAY_DUE_LATE_AIRCRAFT</th>\n",
       "      <th>FL_YEAR</th>\n",
       "      <th>FL_MONTH</th>\n",
       "      <th>FL_DAY</th>\n",
       "    </tr>\n",
       "  </thead>\n",
       "  <tbody>\n",
       "    <tr>\n",
       "      <th>0</th>\n",
       "      <td>2023-01-02</td>\n",
       "      <td>9E</td>\n",
       "      <td>20363</td>\n",
       "      <td>4628</td>\n",
       "      <td>BDL</td>\n",
       "      <td>Hartford, CT</td>\n",
       "      <td>LGA</td>\n",
       "      <td>New York, NY</td>\n",
       "      <td>800</td>\n",
       "      <td>757.0</td>\n",
       "      <td>...</td>\n",
       "      <td>25.0</td>\n",
       "      <td>101</td>\n",
       "      <td>NaN</td>\n",
       "      <td>NaN</td>\n",
       "      <td>NaN</td>\n",
       "      <td>NaN</td>\n",
       "      <td>NaN</td>\n",
       "      <td>2023</td>\n",
       "      <td>1</td>\n",
       "      <td>2</td>\n",
       "    </tr>\n",
       "    <tr>\n",
       "      <th>1</th>\n",
       "      <td>2023-01-03</td>\n",
       "      <td>9E</td>\n",
       "      <td>20363</td>\n",
       "      <td>4628</td>\n",
       "      <td>BDL</td>\n",
       "      <td>Hartford, CT</td>\n",
       "      <td>LGA</td>\n",
       "      <td>New York, NY</td>\n",
       "      <td>800</td>\n",
       "      <td>755.0</td>\n",
       "      <td>...</td>\n",
       "      <td>37.0</td>\n",
       "      <td>101</td>\n",
       "      <td>NaN</td>\n",
       "      <td>NaN</td>\n",
       "      <td>NaN</td>\n",
       "      <td>NaN</td>\n",
       "      <td>NaN</td>\n",
       "      <td>2023</td>\n",
       "      <td>1</td>\n",
       "      <td>3</td>\n",
       "    </tr>\n",
       "    <tr>\n",
       "      <th>2</th>\n",
       "      <td>2023-01-04</td>\n",
       "      <td>9E</td>\n",
       "      <td>20363</td>\n",
       "      <td>4628</td>\n",
       "      <td>BDL</td>\n",
       "      <td>Hartford, CT</td>\n",
       "      <td>LGA</td>\n",
       "      <td>New York, NY</td>\n",
       "      <td>800</td>\n",
       "      <td>755.0</td>\n",
       "      <td>...</td>\n",
       "      <td>28.0</td>\n",
       "      <td>101</td>\n",
       "      <td>NaN</td>\n",
       "      <td>NaN</td>\n",
       "      <td>NaN</td>\n",
       "      <td>NaN</td>\n",
       "      <td>NaN</td>\n",
       "      <td>2023</td>\n",
       "      <td>1</td>\n",
       "      <td>4</td>\n",
       "    </tr>\n",
       "    <tr>\n",
       "      <th>3</th>\n",
       "      <td>2023-01-05</td>\n",
       "      <td>9E</td>\n",
       "      <td>20363</td>\n",
       "      <td>4628</td>\n",
       "      <td>BDL</td>\n",
       "      <td>Hartford, CT</td>\n",
       "      <td>LGA</td>\n",
       "      <td>New York, NY</td>\n",
       "      <td>800</td>\n",
       "      <td>754.0</td>\n",
       "      <td>...</td>\n",
       "      <td>38.0</td>\n",
       "      <td>101</td>\n",
       "      <td>NaN</td>\n",
       "      <td>NaN</td>\n",
       "      <td>NaN</td>\n",
       "      <td>NaN</td>\n",
       "      <td>NaN</td>\n",
       "      <td>2023</td>\n",
       "      <td>1</td>\n",
       "      <td>5</td>\n",
       "    </tr>\n",
       "    <tr>\n",
       "      <th>4</th>\n",
       "      <td>2023-01-06</td>\n",
       "      <td>9E</td>\n",
       "      <td>20363</td>\n",
       "      <td>4628</td>\n",
       "      <td>BDL</td>\n",
       "      <td>Hartford, CT</td>\n",
       "      <td>LGA</td>\n",
       "      <td>New York, NY</td>\n",
       "      <td>800</td>\n",
       "      <td>759.0</td>\n",
       "      <td>...</td>\n",
       "      <td>28.0</td>\n",
       "      <td>101</td>\n",
       "      <td>NaN</td>\n",
       "      <td>NaN</td>\n",
       "      <td>NaN</td>\n",
       "      <td>NaN</td>\n",
       "      <td>NaN</td>\n",
       "      <td>2023</td>\n",
       "      <td>1</td>\n",
       "      <td>6</td>\n",
       "    </tr>\n",
       "  </tbody>\n",
       "</table>\n",
       "<p>5 rows × 33 columns</p>\n",
       "</div>"
      ],
      "text/plain": [
       "      FL_DATE AIRLINE_CODE  DOT_CODE  FL_NUMBER ORIGIN   ORIGIN_CITY DEST  \\\n",
       "0  2023-01-02           9E     20363       4628    BDL  Hartford, CT  LGA   \n",
       "1  2023-01-03           9E     20363       4628    BDL  Hartford, CT  LGA   \n",
       "2  2023-01-04           9E     20363       4628    BDL  Hartford, CT  LGA   \n",
       "3  2023-01-05           9E     20363       4628    BDL  Hartford, CT  LGA   \n",
       "4  2023-01-06           9E     20363       4628    BDL  Hartford, CT  LGA   \n",
       "\n",
       "      DEST_CITY  CRS_DEP_TIME  DEP_TIME  ...  AIR_TIME  DISTANCE  \\\n",
       "0  New York, NY           800     757.0  ...      25.0       101   \n",
       "1  New York, NY           800     755.0  ...      37.0       101   \n",
       "2  New York, NY           800     755.0  ...      28.0       101   \n",
       "3  New York, NY           800     754.0  ...      38.0       101   \n",
       "4  New York, NY           800     759.0  ...      28.0       101   \n",
       "\n",
       "   DELAY_DUE_CARRIER  DELAY_DUE_WEATHER  DELAY_DUE_NAS  DELAY_DUE_SECURITY  \\\n",
       "0                NaN                NaN            NaN                 NaN   \n",
       "1                NaN                NaN            NaN                 NaN   \n",
       "2                NaN                NaN            NaN                 NaN   \n",
       "3                NaN                NaN            NaN                 NaN   \n",
       "4                NaN                NaN            NaN                 NaN   \n",
       "\n",
       "   DELAY_DUE_LATE_AIRCRAFT  FL_YEAR  FL_MONTH FL_DAY  \n",
       "0                      NaN     2023         1      2  \n",
       "1                      NaN     2023         1      3  \n",
       "2                      NaN     2023         1      4  \n",
       "3                      NaN     2023         1      5  \n",
       "4                      NaN     2023         1      6  \n",
       "\n",
       "[5 rows x 33 columns]"
      ]
     },
     "metadata": {},
     "output_type": "display_data"
    },
    {
     "name": "stdout",
     "output_type": "stream",
     "text": [
      "Dicionário de companhias aéreas:\n"
     ]
    },
    {
     "data": {
      "text/html": [
       "<div>\n",
       "<style scoped>\n",
       "    .dataframe tbody tr th:only-of-type {\n",
       "        vertical-align: middle;\n",
       "    }\n",
       "\n",
       "    .dataframe tbody tr th {\n",
       "        vertical-align: top;\n",
       "    }\n",
       "\n",
       "    .dataframe thead th {\n",
       "        text-align: right;\n",
       "    }\n",
       "</style>\n",
       "<table border=\"1\" class=\"dataframe\">\n",
       "  <thead>\n",
       "    <tr style=\"text-align: right;\">\n",
       "      <th></th>\n",
       "      <th>Code</th>\n",
       "      <th>Description</th>\n",
       "    </tr>\n",
       "  </thead>\n",
       "  <tbody>\n",
       "    <tr>\n",
       "      <th>0</th>\n",
       "      <td>02Q</td>\n",
       "      <td>Titan Airways</td>\n",
       "    </tr>\n",
       "    <tr>\n",
       "      <th>1</th>\n",
       "      <td>04Q</td>\n",
       "      <td>Tradewind Aviation</td>\n",
       "    </tr>\n",
       "    <tr>\n",
       "      <th>2</th>\n",
       "      <td>05Q</td>\n",
       "      <td>Comlux Aviation, AG</td>\n",
       "    </tr>\n",
       "    <tr>\n",
       "      <th>3</th>\n",
       "      <td>06Q</td>\n",
       "      <td>Master Top Linhas Aereas Ltd.</td>\n",
       "    </tr>\n",
       "    <tr>\n",
       "      <th>4</th>\n",
       "      <td>07Q</td>\n",
       "      <td>Flair Airlines Ltd.</td>\n",
       "    </tr>\n",
       "  </tbody>\n",
       "</table>\n",
       "</div>"
      ],
      "text/plain": [
       "  Code                    Description\n",
       "0  02Q                  Titan Airways\n",
       "1  04Q             Tradewind Aviation\n",
       "2  05Q            Comlux Aviation, AG\n",
       "3  06Q  Master Top Linhas Aereas Ltd.\n",
       "4  07Q            Flair Airlines Ltd."
      ]
     },
     "metadata": {},
     "output_type": "display_data"
    },
    {
     "name": "stdout",
     "output_type": "stream",
     "text": [
      "Dicionário DOT:\n"
     ]
    },
    {
     "data": {
      "text/html": [
       "<div>\n",
       "<style scoped>\n",
       "    .dataframe tbody tr th:only-of-type {\n",
       "        vertical-align: middle;\n",
       "    }\n",
       "\n",
       "    .dataframe tbody tr th {\n",
       "        vertical-align: top;\n",
       "    }\n",
       "\n",
       "    .dataframe thead th {\n",
       "        text-align: right;\n",
       "    }\n",
       "</style>\n",
       "<table border=\"1\" class=\"dataframe\">\n",
       "  <thead>\n",
       "    <tr style=\"text-align: right;\">\n",
       "      <th></th>\n",
       "      <th>Code</th>\n",
       "      <th>Description</th>\n",
       "    </tr>\n",
       "  </thead>\n",
       "  <tbody>\n",
       "    <tr>\n",
       "      <th>0</th>\n",
       "      <td>19031</td>\n",
       "      <td>Mackey International Inc.: MAC</td>\n",
       "    </tr>\n",
       "    <tr>\n",
       "      <th>1</th>\n",
       "      <td>19032</td>\n",
       "      <td>Munz Northern Airlines Inc.: XY</td>\n",
       "    </tr>\n",
       "    <tr>\n",
       "      <th>2</th>\n",
       "      <td>19033</td>\n",
       "      <td>Cochise Airlines Inc.: COC</td>\n",
       "    </tr>\n",
       "    <tr>\n",
       "      <th>3</th>\n",
       "      <td>19034</td>\n",
       "      <td>Golden Gate Airlines Inc.: GSA</td>\n",
       "    </tr>\n",
       "    <tr>\n",
       "      <th>4</th>\n",
       "      <td>19035</td>\n",
       "      <td>Aeromech Inc.: RZZ</td>\n",
       "    </tr>\n",
       "  </tbody>\n",
       "</table>\n",
       "</div>"
      ],
      "text/plain": [
       "    Code                      Description\n",
       "0  19031   Mackey International Inc.: MAC\n",
       "1  19032  Munz Northern Airlines Inc.: XY\n",
       "2  19033       Cochise Airlines Inc.: COC\n",
       "3  19034   Golden Gate Airlines Inc.: GSA\n",
       "4  19035               Aeromech Inc.: RZZ"
      ]
     },
     "metadata": {},
     "output_type": "display_data"
    }
   ],
   "source": [
    "# Carregar arquivos excel\n",
    "\n",
    "flights = pd.read_csv(r\"C:\\Users\\Notebook\\Documents\\Laboratoria\\flights_202301.csv\")\n",
    "airline_dict = pd.read_csv(r\"C:\\Users\\Notebook\\Documents\\Laboratoria\\AIRLINE_CODE_DICTIONARY.csv\")\n",
    "dot_dict = pd.read_excel(r\"C:\\Users\\Notebook\\Documents\\Laboratoria\\DOT_CODE_DICTIONARY.xlsx\")\n",
    "\n",
    "# conferir \n",
    "\n",
    "print(\"Voos:\")\n",
    "display(flights.head())\n",
    "\n",
    "print(\"Dicionário de companhias aéreas:\")\n",
    "display(airline_dict.head())\n",
    "\n",
    "print(\"Dicionário DOT:\")\n",
    "display(dot_dict.head())"
   ]
  },
  {
   "cell_type": "markdown",
   "id": "bfd25d06",
   "metadata": {},
   "source": [
    "## 3. Conferir informações iniciais"
   ]
  },
  {
   "cell_type": "code",
   "execution_count": 89,
   "id": "6ac7ecda",
   "metadata": {},
   "outputs": [],
   "source": [
    "# Ajustar nomes das colunas\n",
    "airline_dict = airline_dict.rename(\n",
    "    columns=lambda col: f\"AIRLINE_{col}\" \n",
    ")\n",
    "\n",
    "dot_dict = dot_dict.rename(\n",
    "    columns=lambda col: f\"DOT_{col}\" \n",
    ")"
   ]
  },
  {
   "cell_type": "code",
   "execution_count": 104,
   "id": "df25bf19",
   "metadata": {},
   "outputs": [],
   "source": [
    "airline_dict = airline_dict.rename(\n",
    "    columns={\"AIRLINE_AIRLINE_AIRLINE_{col}\": \"AIRLINE_Description\"}\n",
    ")\n",
    "\n",
    "dot_dict = dot_dict.rename(\n",
    "    columns={\"DOT_{col}\": \"DOT_Description\"}\n",
    ")"
   ]
  },
  {
   "cell_type": "code",
   "execution_count": 56,
   "id": "3c6e85ba",
   "metadata": {},
   "outputs": [
    {
     "name": "stdout",
     "output_type": "stream",
     "text": [
      "Voos: (538837, 33)\n",
      "Airline dict: (1729, 2)\n",
      "DOT dict: (1737, 2)\n"
     ]
    }
   ],
   "source": [
    "# Ver dimensões\n",
    "print(\"Voos:\", flights.shape)\n",
    "print(\"Airline dict:\", airline_dict.shape)\n",
    "print(\"DOT dict:\", dot_dict.shape)"
   ]
  },
  {
   "cell_type": "code",
   "execution_count": 81,
   "id": "e316907d",
   "metadata": {},
   "outputs": [
    {
     "name": "stdout",
     "output_type": "stream",
     "text": [
      "<class 'pandas.core.frame.DataFrame'>\n",
      "RangeIndex: 538837 entries, 0 to 538836\n",
      "Data columns (total 33 columns):\n",
      " #   Column                   Non-Null Count   Dtype  \n",
      "---  ------                   --------------   -----  \n",
      " 0   FL_DATE                  538837 non-null  object \n",
      " 1   AIRLINE_CODE             538837 non-null  object \n",
      " 2   DOT_CODE                 538837 non-null  int64  \n",
      " 3   FL_NUMBER                538837 non-null  int64  \n",
      " 4   ORIGIN                   538837 non-null  object \n",
      " 5   ORIGIN_CITY              538837 non-null  object \n",
      " 6   DEST                     538837 non-null  object \n",
      " 7   DEST_CITY                538837 non-null  object \n",
      " 8   CRS_DEP_TIME             538837 non-null  int64  \n",
      " 9   DEP_TIME                 528859 non-null  float64\n",
      " 10  DEP_DELAY                528855 non-null  float64\n",
      " 11  TAXI_OUT                 528640 non-null  float64\n",
      " 12  WHEELS_OFF               528640 non-null  float64\n",
      " 13  WHEELS_ON                528318 non-null  float64\n",
      " 14  TAXI_IN                  528318 non-null  float64\n",
      " 15  CRS_ARR_TIME             538837 non-null  int64  \n",
      " 16  ARR_TIME                 528318 non-null  float64\n",
      " 17  ARR_DELAY                527197 non-null  float64\n",
      " 18  CANCELLED                538837 non-null  int64  \n",
      " 19  CANCELLATION_CODE        538837 non-null  object \n",
      " 20  DIVERTED                 538837 non-null  int64  \n",
      " 21  CRS_ELAPSED_TIME         538836 non-null  float64\n",
      " 22  ELAPSED_TIME             527197 non-null  float64\n",
      " 23  AIR_TIME                 527197 non-null  float64\n",
      " 24  DISTANCE                 538837 non-null  int64  \n",
      " 25  DELAY_DUE_CARRIER        116713 non-null  float64\n",
      " 26  DELAY_DUE_WEATHER        116713 non-null  float64\n",
      " 27  DELAY_DUE_NAS            116713 non-null  float64\n",
      " 28  DELAY_DUE_SECURITY       116713 non-null  float64\n",
      " 29  DELAY_DUE_LATE_AIRCRAFT  116713 non-null  float64\n",
      " 30  FL_YEAR                  538837 non-null  int64  \n",
      " 31  FL_MONTH                 538837 non-null  int64  \n",
      " 32  FL_DAY                   538837 non-null  int64  \n",
      "dtypes: float64(16), int64(10), object(7)\n",
      "memory usage: 135.7+ MB\n"
     ]
    }
   ],
   "source": [
    "pd.set_option(\"display.max_rows\", None)\n",
    "\n",
    "# Resumo das colunas\n",
    "flights.info()"
   ]
  },
  {
   "cell_type": "code",
   "execution_count": 92,
   "id": "d65b9b7c",
   "metadata": {},
   "outputs": [
    {
     "name": "stdout",
     "output_type": "stream",
     "text": [
      "<class 'pandas.core.frame.DataFrame'>\n",
      "RangeIndex: 1729 entries, 0 to 1728\n",
      "Data columns (total 2 columns):\n",
      " #   Column                       Non-Null Count  Dtype \n",
      "---  ------                       --------------  ----- \n",
      " 0   AIRLINE_Code                 1728 non-null   object\n",
      " 1   AIRLINE_AIRLINE_Description  1729 non-null   object\n",
      "dtypes: object(2)\n",
      "memory usage: 27.1+ KB\n"
     ]
    }
   ],
   "source": [
    "airline_dict.info()"
   ]
  },
  {
   "cell_type": "code",
   "execution_count": 99,
   "id": "3869af3c",
   "metadata": {},
   "outputs": [
    {
     "name": "stdout",
     "output_type": "stream",
     "text": [
      "<class 'pandas.core.frame.DataFrame'>\n",
      "RangeIndex: 1737 entries, 0 to 1736\n",
      "Data columns (total 2 columns):\n",
      " #   Column           Non-Null Count  Dtype \n",
      "---  ------           --------------  ----- \n",
      " 0   DOT_Code         1737 non-null   int64 \n",
      " 1   DOT_Description  1733 non-null   object\n",
      "dtypes: int64(1), object(1)\n",
      "memory usage: 27.3+ KB\n"
     ]
    }
   ],
   "source": [
    "dot_dict.info()"
   ]
  },
  {
   "cell_type": "markdown",
   "id": "4f9f7d96",
   "metadata": {},
   "source": [
    "## 4. Ajustar tipo de dados"
   ]
  },
  {
   "cell_type": "markdown",
   "id": "7325077a",
   "metadata": {},
   "source": [
    "4.1. Flights"
   ]
  },
  {
   "cell_type": "code",
   "execution_count": null,
   "id": "b2db3970",
   "metadata": {},
   "outputs": [],
   "source": [
    "def optimize_flight_data_types(df):\n",
    "    df_optimized = df.copy()\n",
    "    # Cria uma cópia do dataframe original para não alterar df em memória\n",
    "    ## Preserva o original caso seja necessário reverter ou comparar\n",
    "\n",
    "    # 1. Converter datas\n",
    "    if \"FL_DATE\" in df_optimized.columns:\n",
    "        df_optimized[\"FL_DATE\"] = pd.to_datetime(\n",
    "            df_optimized[\"FL_DATE\"], format=\"%Y-%m-%d\", errors=\"coerce\"\n",
    "        )\n",
    "        ## procura a coluna, se existir, converte para data. \n",
    "        ### mostra o formato esperado (ex.: 2023-01-05)\n",
    "        #### errors='coerce' transforma números inválidos em nulos\n",
    "\n",
    "    # 2. Converter para categóricas\n",
    "    cols_category = [\"AIRLINE_CODE\", \"ORIGIN\", \"ORIGIN_CITY\",\n",
    "                     \"DEST\", \"DEST_CITY\", \"CANCELLATION_CODE\"]\n",
    "    for col in cols_category:\n",
    "        if col in df_optimized.columns:\n",
    "            df_optimized[col] = df_optimized[col].astype(\"category\")\n",
    "        ## para cada coluna da lista, se ela existir, converte para category, pois reduz o uso da memória e acelera operações\n",
    "        ### os valores permanecem como texto, mas internamente são armazenados como códigos inteiros + mapeamento \n",
    "    \n",
    "    # 3. Converter variáveis booleanas\n",
    "    if \"CANCELLED\" in df_optimized.columns:\n",
    "        df_optimized[\"CANCELLED\"] = df_optimized[\"CANCELLED\"].astype(\"boolean\")\n",
    "    if \"DIVERTED\" in df_optimized.columns:\n",
    "        df_optimized[\"DIVERTED\"] = df_optimized[\"DIVERTED\"].astype(\"boolean\")\n",
    "        ## os NA são presercados ao utilizadas .astype(\"boolean\")\n",
    "\n",
    "    # 4. Ajustar a conversão de tempo e todas as colunas de tempo\n",
    "    def hhmm_to_time_optimized(val):\n",
    "        \"\"\"Convert HHMM format to time, with robust error handling\"\"\"\n",
    "        if pd.isna(val):\n",
    "            return pd.NaT\n",
    "        try:\n",
    "            val = int(val)\n",
    "            if val == 2400:\n",
    "                val = 0\n",
    "            elif val > 2400:\n",
    "                return pd.NaT\n",
    "            hh = val // 100\n",
    "            mm = val % 100\n",
    "            if hh > 23 or mm > 59:\n",
    "                return pd.NaT\n",
    "            return time(hh, mm)\n",
    "        except (ValueError, TypeError):\n",
    "            return pd.NaT\n",
    "         ## converte valors no formato HHMM para um objeto {time(hh,mm)}\n",
    "    time_columns = [\n",
    "        \"CRS_DEP_TIME\", \"DEP_TIME\", \"WHEELS_OFF\", \"WHEELS_ON\",\n",
    "        \"CRS_ARR_TIME\", \"ARR_TIME\"\n",
    "    ]\n",
    "    for col in time_columns:\n",
    "        if col in df_optimized.columns:\n",
    "            df_optimized[col] = df_optimized[col].apply(hhmm_to_time_optimized)\n",
    "        ## para cada coluna do tempo presente, aplica a função, para que essas colunas possam conter datetime.time ou pd.NaT\n",
    "                    \n",
    "    # 5. Converter colunas numéricas inteiras\n",
    "    int_columns_small = [\"FL_NUMBER\", \"DOT_CODE\", \"FL_YEAR\", \"FL_MONTH\", \"FL_DAY\"]\n",
    "    for col in int_columns_small:\n",
    "        if col in df_optimized.columns:\n",
    "            max_val = df_optimized[col].max()\n",
    "            if max_val <= 32767:  # int16\n",
    "                df_optimized[col] = df_optimized[col].astype(\"int16\")\n",
    "            elif max_val <= 2147483647:  # int32\n",
    "                df_optimized[col] = df_optimized[col].astype(\"int32\")\n",
    "    \n",
    "    if \"DISTANCE\" in df_optimized.columns:\n",
    "        df_optimized[\"DISTANCE\"] = df_optimized[\"DISTANCE\"].astype(\"int16\")\n",
    "        ## para cada coluna inteira listada, pega o max e decide qual tipo de inteiro menor cabe (16 ou 32)\n",
    "        ### o objetivo é reduzi memória usando inteiros menores quando possível\n",
    "\n",
    "    # 6. Converter colunas numéricas com casas decimais\n",
    "    float_columns = [\n",
    "        \"DEP_DELAY\", \"TAXI_OUT\", \"TAXI_IN\", \"ARR_DELAY\",\n",
    "        \"CRS_ELAPSED_TIME\", \"ELAPSED_TIME\", \"AIR_TIME\",\n",
    "        \"DELAY_DUE_CARRIER\", \"DELAY_DUE_WEATHER\", \"DELAY_DUE_NAS\",\n",
    "        \"DELAY_DUE_SECURITY\", \"DELAY_DUE_LATE_AIRCRAFT\"\n",
    "    ]\n",
    "    for col in float_columns:\n",
    "        if col in df_optimized.columns:\n",
    "            df_optimized[col] = pd.to_numeric(df_optimized[col], errors=\"coerce\").astype(\"float32\")\n",
    "        ## para cada coluna, converte primeiro em numérico e depois apra float32\n",
    "        ### reduz o uso de memória mantendo precisão adequada para análise exploratória e modelagem básica\n",
    "\n",
    "    return df_optimized\n"
   ]
  },
  {
   "cell_type": "code",
   "execution_count": 44,
   "id": "fdeab6dd",
   "metadata": {},
   "outputs": [],
   "source": [
    "# Aplicar no dataframe flights\n",
    "flights_optimized = optimize_flight_data_types(flights)"
   ]
  },
  {
   "cell_type": "code",
   "execution_count": 45,
   "id": "dc4d780e",
   "metadata": {},
   "outputs": [
    {
     "name": "stdout",
     "output_type": "stream",
     "text": [
      "<class 'pandas.core.frame.DataFrame'>\n",
      "RangeIndex: 538837 entries, 0 to 538836\n",
      "Data columns (total 33 columns):\n",
      " #   Column                   Non-Null Count   Dtype         \n",
      "---  ------                   --------------   -----         \n",
      " 0   FL_DATE                  538837 non-null  datetime64[ns]\n",
      " 1   AIRLINE_CODE             538837 non-null  category      \n",
      " 2   DOT_CODE                 538837 non-null  int16         \n",
      " 3   FL_NUMBER                538837 non-null  int16         \n",
      " 4   ORIGIN                   538837 non-null  category      \n",
      " 5   ORIGIN_CITY              538837 non-null  category      \n",
      " 6   DEST                     538837 non-null  category      \n",
      " 7   DEST_CITY                538837 non-null  category      \n",
      " 8   CRS_DEP_TIME             538837 non-null  object        \n",
      " 9   DEP_TIME                 528859 non-null  object        \n",
      " 10  DEP_DELAY                528855 non-null  float32       \n",
      " 11  TAXI_OUT                 528640 non-null  float32       \n",
      " 12  WHEELS_OFF               528640 non-null  object        \n",
      " 13  WHEELS_ON                528318 non-null  object        \n",
      " 14  TAXI_IN                  528318 non-null  float32       \n",
      " 15  CRS_ARR_TIME             538837 non-null  object        \n",
      " 16  ARR_TIME                 528318 non-null  object        \n",
      " 17  ARR_DELAY                527197 non-null  float32       \n",
      " 18  CANCELLED                538837 non-null  boolean       \n",
      " 19  CANCELLATION_CODE        538837 non-null  category      \n",
      " 20  DIVERTED                 538837 non-null  boolean       \n",
      " 21  CRS_ELAPSED_TIME         538836 non-null  float32       \n",
      " 22  ELAPSED_TIME             527197 non-null  float32       \n",
      " 23  AIR_TIME                 527197 non-null  float32       \n",
      " 24  DISTANCE                 538837 non-null  int16         \n",
      " 25  DELAY_DUE_CARRIER        116713 non-null  float32       \n",
      " 26  DELAY_DUE_WEATHER        116713 non-null  float32       \n",
      " 27  DELAY_DUE_NAS            116713 non-null  float32       \n",
      " 28  DELAY_DUE_SECURITY       116713 non-null  float32       \n",
      " 29  DELAY_DUE_LATE_AIRCRAFT  116713 non-null  float32       \n",
      " 30  FL_YEAR                  538837 non-null  int16         \n",
      " 31  FL_MONTH                 538837 non-null  int16         \n",
      " 32  FL_DAY                   538837 non-null  int16         \n",
      "dtypes: boolean(2), category(6), datetime64[ns](1), float32(12), int16(6), object(6)\n",
      "memory usage: 66.8+ MB\n"
     ]
    }
   ],
   "source": [
    "# Verificar resultado\n",
    "flights_optimized.info()"
   ]
  },
  {
   "cell_type": "markdown",
   "id": "3a35fc01",
   "metadata": {},
   "source": [
    "4.2. airline_dict"
   ]
  },
  {
   "cell_type": "code",
   "execution_count": 68,
   "id": "5c425414",
   "metadata": {},
   "outputs": [],
   "source": [
    "df_airline_optimized = airline_dict.copy()\n",
    "\n",
    "df_airline_optimized['Code'] = df_airline_optimized['Code'].astype('category')\n",
    "\n",
    "# 2. Convert 'AIRLINE_Description' to category\n",
    "df_airline_optimized['AIRLINE_Description'] = df_airline_optimized['AIRLINE_Description'].astype('category')"
   ]
  },
  {
   "cell_type": "code",
   "execution_count": 69,
   "id": "4d1c8eab",
   "metadata": {},
   "outputs": [
    {
     "name": "stdout",
     "output_type": "stream",
     "text": [
      "<class 'pandas.core.frame.DataFrame'>\n",
      "RangeIndex: 1729 entries, 0 to 1728\n",
      "Data columns (total 2 columns):\n",
      " #   Column               Non-Null Count  Dtype   \n",
      "---  ------               --------------  -----   \n",
      " 0   Code                 1728 non-null   category\n",
      " 1   AIRLINE_Description  1729 non-null   category\n",
      "dtypes: category(2)\n",
      "memory usage: 163.0 KB\n"
     ]
    }
   ],
   "source": [
    "df_airline_optimized.info()"
   ]
  },
  {
   "cell_type": "markdown",
   "id": "eb785636",
   "metadata": {},
   "source": [
    "4.3. dot_dict"
   ]
  },
  {
   "cell_type": "code",
   "execution_count": 70,
   "id": "a9d7be16",
   "metadata": {},
   "outputs": [],
   "source": [
    "df_dot_optimized = dot_dict.copy()\n",
    "\n",
    "df_dot_optimized['Code'] = pd.to_numeric(df_dot_optimized['Code'], errors='coerce')\n",
    "\n",
    "max_dot_code = df_dot_optimized['Code'].max()\n",
    "\n",
    "if max_dot_code <= 32767:  \n",
    "    df_dot_optimized['Code'] = df_dot_optimized['Code'].astype('int16')\n",
    "elif max_dot_code <= 2147483647: \n",
    "    df_dot_optimized['Code'] = df_dot_optimized['Code'].astype('int32')\n",
    "\n",
    "df_dot_optimized['DOT_Description'] = df_dot_optimized['DOT_Description'].astype('category')"
   ]
  },
  {
   "cell_type": "code",
   "execution_count": 71,
   "id": "0ef6a22f",
   "metadata": {},
   "outputs": [
    {
     "name": "stdout",
     "output_type": "stream",
     "text": [
      "<class 'pandas.core.frame.DataFrame'>\n",
      "RangeIndex: 1737 entries, 0 to 1736\n",
      "Data columns (total 2 columns):\n",
      " #   Column           Non-Null Count  Dtype   \n",
      "---  ------           --------------  -----   \n",
      " 0   Code             1737 non-null   int16   \n",
      " 1   DOT_Description  1733 non-null   category\n",
      "dtypes: category(1), int16(1)\n",
      "memory usage: 85.0 KB\n"
     ]
    }
   ],
   "source": [
    "df_dot_optimized.info()"
   ]
  },
  {
   "cell_type": "markdown",
   "id": "8c6bc9e7",
   "metadata": {},
   "source": [
    "## 5. Unir Tabelas"
   ]
  },
  {
   "cell_type": "markdown",
   "id": "a8140bf7",
   "metadata": {},
   "source": [
    "Análise das variáveis AIRLINE_CODE e DOT_CODE na tabela flights"
   ]
  },
  {
   "cell_type": "code",
   "execution_count": 85,
   "id": "89d256c5",
   "metadata": {},
   "outputs": [
    {
     "data": {
      "text/plain": [
       "['9E', 'AA', 'AS', 'B6', 'DL', ..., 'WN', 'YX', 'OH', 'OO', 'UA']\n",
       "Length: 15\n",
       "Categories (15, object): ['9E', 'AA', 'AS', 'B6', ..., 'OO', 'UA', 'WN', 'YX']"
      ]
     },
     "execution_count": 85,
     "metadata": {},
     "output_type": "execute_result"
    }
   ],
   "source": [
    "flights_optimized[\"AIRLINE_CODE\"].unique()"
   ]
  },
  {
   "cell_type": "code",
   "execution_count": 86,
   "id": "5a54a0c1",
   "metadata": {},
   "outputs": [
    {
     "data": {
      "text/plain": [
       "array([20363, 19805, 19930, 20409, 19790, 20436, 20368, 19690, 20398,\n",
       "       20416, 19393, 20452, 20397, 20304, 19977], dtype=int16)"
      ]
     },
     "execution_count": 86,
     "metadata": {},
     "output_type": "execute_result"
    }
   ],
   "source": [
    "flights_optimized[\"DOT_CODE\"].unique()"
   ]
  },
  {
   "cell_type": "code",
   "execution_count": 107,
   "id": "438d3468",
   "metadata": {},
   "outputs": [
    {
     "ename": "KeyError",
     "evalue": "'DOT_CODE'",
     "output_type": "error",
     "traceback": [
      "\u001b[31m---------------------------------------------------------------------------\u001b[39m",
      "\u001b[31mKeyError\u001b[39m                                  Traceback (most recent call last)",
      "\u001b[32m~\\AppData\\Local\\Temp\\ipykernel_13876\\820842157.py\u001b[39m in \u001b[36m?\u001b[39m\u001b[34m()\u001b[39m\n\u001b[32m      1\u001b[39m \u001b[38;5;66;03m# Merge com a tabela de voos\u001b[39;00m\n\u001b[32m----> \u001b[39m\u001b[32m2\u001b[39m df_merged = pd.merge(\n\u001b[32m      3\u001b[39m     flights_optimized,\n\u001b[32m      4\u001b[39m     df_dot_optimized,\n\u001b[32m      5\u001b[39m     on=\u001b[33m\"DOT_CODE\"\u001b[39m,\n",
      "\u001b[32mc:\\Users\\Notebook\\AppData\\Local\\Programs\\Python\\Python313\\Lib\\site-packages\\pandas\\core\\reshape\\merge.py\u001b[39m in \u001b[36m?\u001b[39m\u001b[34m(left, right, how, on, left_on, right_on, left_index, right_index, sort, suffixes, copy, indicator, validate)\u001b[39m\n\u001b[32m    166\u001b[39m             validate=validate,\n\u001b[32m    167\u001b[39m             copy=copy,\n\u001b[32m    168\u001b[39m         )\n\u001b[32m    169\u001b[39m     \u001b[38;5;28;01melse\u001b[39;00m:\n\u001b[32m--> \u001b[39m\u001b[32m170\u001b[39m         op = _MergeOperation(\n\u001b[32m    171\u001b[39m             left_df,\n\u001b[32m    172\u001b[39m             right_df,\n\u001b[32m    173\u001b[39m             how=how,\n",
      "\u001b[32mc:\\Users\\Notebook\\AppData\\Local\\Programs\\Python\\Python313\\Lib\\site-packages\\pandas\\core\\reshape\\merge.py\u001b[39m in \u001b[36m?\u001b[39m\u001b[34m(self, left, right, how, on, left_on, right_on, left_index, right_index, sort, suffixes, indicator, validate)\u001b[39m\n\u001b[32m    790\u001b[39m             self.right_join_keys,\n\u001b[32m    791\u001b[39m             self.join_names,\n\u001b[32m    792\u001b[39m             left_drop,\n\u001b[32m    793\u001b[39m             right_drop,\n\u001b[32m--> \u001b[39m\u001b[32m794\u001b[39m         ) = self._get_merge_keys()\n\u001b[32m    795\u001b[39m \n\u001b[32m    796\u001b[39m         \u001b[38;5;28;01mif\u001b[39;00m left_drop:\n\u001b[32m    797\u001b[39m             self.left = self.left._drop_labels_or_levels(left_drop)\n",
      "\u001b[32mc:\\Users\\Notebook\\AppData\\Local\\Programs\\Python\\Python313\\Lib\\site-packages\\pandas\\core\\reshape\\merge.py\u001b[39m in \u001b[36m?\u001b[39m\u001b[34m(self)\u001b[39m\n\u001b[32m   1294\u001b[39m                         \u001b[38;5;66;03m# Then we're either Hashable or a wrong-length arraylike,\u001b[39;00m\n\u001b[32m   1295\u001b[39m                         \u001b[38;5;66;03m#  the latter of which will raise\u001b[39;00m\n\u001b[32m   1296\u001b[39m                         rk = cast(Hashable, rk)\n\u001b[32m   1297\u001b[39m                         \u001b[38;5;28;01mif\u001b[39;00m rk \u001b[38;5;28;01mis\u001b[39;00m \u001b[38;5;28;01mnot\u001b[39;00m \u001b[38;5;28;01mNone\u001b[39;00m:\n\u001b[32m-> \u001b[39m\u001b[32m1298\u001b[39m                             right_keys.append(right._get_label_or_level_values(rk))\n\u001b[32m   1299\u001b[39m                         \u001b[38;5;28;01melse\u001b[39;00m:\n\u001b[32m   1300\u001b[39m                             \u001b[38;5;66;03m# work-around for merge_asof(right_index=True)\u001b[39;00m\n\u001b[32m   1301\u001b[39m                             right_keys.append(right.index._values)\n",
      "\u001b[32mc:\\Users\\Notebook\\AppData\\Local\\Programs\\Python\\Python313\\Lib\\site-packages\\pandas\\core\\generic.py\u001b[39m in \u001b[36m?\u001b[39m\u001b[34m(self, key, axis)\u001b[39m\n\u001b[32m   1907\u001b[39m             values = self.xs(key, axis=other_axes[\u001b[32m0\u001b[39m])._values\n\u001b[32m   1908\u001b[39m         \u001b[38;5;28;01melif\u001b[39;00m self._is_level_reference(key, axis=axis):\n\u001b[32m   1909\u001b[39m             values = self.axes[axis].get_level_values(key)._values\n\u001b[32m   1910\u001b[39m         \u001b[38;5;28;01melse\u001b[39;00m:\n\u001b[32m-> \u001b[39m\u001b[32m1911\u001b[39m             \u001b[38;5;28;01mraise\u001b[39;00m KeyError(key)\n\u001b[32m   1912\u001b[39m \n\u001b[32m   1913\u001b[39m         \u001b[38;5;66;03m# Check for duplicates\u001b[39;00m\n\u001b[32m   1914\u001b[39m         \u001b[38;5;28;01mif\u001b[39;00m values.ndim > \u001b[32m1\u001b[39m:\n",
      "\u001b[31mKeyError\u001b[39m: 'DOT_CODE'"
     ]
    }
   ],
   "source": [
    "# Merge com a tabela de voos\n",
    "df_merged = pd.merge(\n",
    "    flights_optimized,\n",
    "    df_dot_optimized,\n",
    "    on=\"DOT_CODE\",\n",
    "    how=\"left\"\n",
    ")\n",
    "\n",
    "df_merged = pd.merge(\n",
    "    df_merged,\n",
    "    df_airline_optimized,\n",
    "    on=\"AIRLINE_CODE\",\n",
    "    how=\"left\"\n",
    ")"
   ]
  }
 ],
 "metadata": {
  "kernelspec": {
   "display_name": "Python 3",
   "language": "python",
   "name": "python3"
  },
  "language_info": {
   "codemirror_mode": {
    "name": "ipython",
    "version": 3
   },
   "file_extension": ".py",
   "mimetype": "text/x-python",
   "name": "python",
   "nbconvert_exporter": "python",
   "pygments_lexer": "ipython3",
   "version": "3.13.7"
  }
 },
 "nbformat": 4,
 "nbformat_minor": 5
}
