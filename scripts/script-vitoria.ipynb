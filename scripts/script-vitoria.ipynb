{
 "cells": [
  {
   "cell_type": "markdown",
   "id": "2fa72f72",
   "metadata": {},
   "source": [
    "# Analysis"
   ]
  },
  {
   "cell_type": "markdown",
   "id": "cfcfffcf",
   "metadata": {},
   "source": [
    "### About the database"
   ]
  },
  {
   "cell_type": "markdown",
   "id": "a3f297fc",
   "metadata": {},
   "source": [
    "Dataset of flight cancellations and delays for US airlines in January 2023, extracted from the US Department of Transportation, Bureau of Transportation Statistics (https://www.transstats.bts.gov) and available on Kaggle.\n",
    "\n",
    "Variables include flight routes (origin and destination), time intervals between events (minutes, time at destination), reasons/attributions for delays and cancellations."
   ]
  },
  {
   "cell_type": "markdown",
   "id": "1d9e58b9",
   "metadata": {},
   "source": [
    "### Variable description"
   ]
  },
  {
   "cell_type": "markdown",
   "id": "c1eec891",
   "metadata": {},
   "source": [
    "#### DOT_CODE_DICTIONARY Table"
   ]
  },
  {
   "cell_type": "markdown",
   "id": "d5ee6fd7",
   "metadata": {},
   "source": [
    "| Variable | Description |\n",
    "| -------- | --------- |\n",
    "| Code | Numeric identifier from the U.S. Department of Transportation (DOT) for airlines |\n",
    "| Description | Airline description |"
   ]
  },
  {
   "cell_type": "markdown",
   "id": "94cc2275",
   "metadata": {},
   "source": [
    "#### AIRLINE_CODE_DICTIONARY Table"
   ]
  },
  {
   "cell_type": "markdown",
   "id": "b37ed676",
   "metadata": {},
   "source": [
    "| Variable | Description |\n",
    "| -------- | --------- |\n",
    "| Code | Unique operator code for aircraft operator agencies |\n",
    "| Description | Description of the aircraft operator agency |"
   ]
  },
  {
   "cell_type": "markdown",
   "id": "19065b35",
   "metadata": {},
   "source": [
    "#### flights_202301 Table"
   ]
  },
  {
   "cell_type": "markdown",
   "id": "0258d6bf",
   "metadata": {},
   "source": [
    "| Variable | Description |\n",
    "| -------- | --------- |\n",
    "| FL_DATE | Flight date (yyyymmdd) |\n",
    "| AIRLINE_CODE | Unique operator code. When multiple operators use the same code, a numeric suffix is used to differentiate previous users, e.g., PA, PA(1), PA(2). |\n",
    "| DOT_CODE | Identification number assigned by the US DOT to identify a unique airline (carrier). A unique airline (carrier) is defined as one that owns and reports under the same DOT certificate regardless of its code, name, or holding/company. |\n",
    "| FL_NUMBER | Flight number |\n",
    "| ORIGIN | Origin airport |\n",
    "| ORIGIN_CITY | Origin airport, city name |\n",
    "| DEST | Destination airport |\n",
    "| DEST_CITY | Destination airport, city name |\n",
    "| CRSDEPTIME | Scheduled departure time recorded in CRS (Computer Reservation System) (local time: hhmm) |\n",
    "| DEP_TIME | Actual departure time (local time: hhmm) |\n",
    "| DEP_DELAY | Difference in minutes between scheduled and actual departure time. Early departures show negative numbers. |\n",
    "| TAXI_OUT | Taxi out time in minutes (taxi is the process of moving an airplane while it is on the runway) |\n",
    "| WHEELS_OFF | Exact takeoff time (local time: hhmm) |\n",
    "| WHEELS_ON | Exact landing time (local time: hhmm) |\n",
    "| TAXI_IN | Taxi in time in minutes |\n",
    "| CRSARRTIME | Scheduled arrival time recorded in CRS (local time: hhmm) |\n",
    "| ARR_TIME | Actual arrival time (local time: hhmm) |\n",
    "| ARR_DELAY | Difference in minutes between scheduled and actual arrival time. Early arrivals show negative numbers. |\n",
    "| CANCELLED | Flight cancelled indicator (1=Yes) |\n",
    "| CANCELLATION_CODE | Specifies the reason for cancellation |\n",
    "| DIVERTED | Flight diverted indicator (1=Yes) |\n",
    "| CRSELAPSEDTIME | Total elapsed flight time in minutes recorded in CRS |\n",
    "| ELAPSED_TIME | Total actual elapsed flight time in minutes |\n",
    "| AIR_TIME | Air time in minutes |\n",
    "| DISTANCE | Distance between airports (miles) |\n",
    "| DELAYDUECARRIER | Carrier delay in minutes |\n",
    "| DELAYDUEWEATHER | Weather delay in minutes |\n",
    "| DELAYDUENAS | National Air System delay in minutes |\n",
    "| DELAYDUESECURITY | Security delay in minutes |\n",
    "| DELAYDUELATE_AIRCRAFT | Late aircraft delay in minutes |"
   ]
  },
  {
   "cell_type": "markdown",
   "id": "cce54b37",
   "metadata": {},
   "source": [
    "## 1. Imports"
   ]
  },
  {
   "cell_type": "code",
   "execution_count": 1,
   "id": "1a947548",
   "metadata": {},
   "outputs": [],
   "source": [
    "import pandas as pd\n",
    "from datetime import time"
   ]
  },
  {
   "cell_type": "code",
   "execution_count": null,
   "id": "3a474219",
   "metadata": {},
   "outputs": [],
   "source": [
    "df_dot_code_dictionary = pd.read_excel(\"../dataset/DOT_CODE_DICTIONARY.xlsx\")\n",
    "df_airline_code_dictionary = pd.read_csv(\"../dataset/AIRLINE_CODE_DICTIONARY.csv\")\n",
    "df_flights_202301 = pd.read_csv(\"../dataset/flights_202301.csv\")"
   ]
  },
  {
   "cell_type": "markdown",
   "id": "d771fced",
   "metadata": {},
   "source": [
    "## 2. Data treatment"
   ]
  },
  {
   "cell_type": "code",
   "execution_count": null,
   "id": "b9aa2f33",
   "metadata": {},
   "outputs": [],
   "source": [
    "# Renaming columns to create a pattern\n",
    "df_dot_code_dictionary = df_dot_code_dictionary.rename(\n",
    "    columns=lambda col: f\"DOT_{col}\" if col != \"Code\" else col\n",
    ")\n",
    "df_airline_code_dictionary = df_airline_code_dictionary.rename(\n",
    "    columns=lambda col: f\"AIRLINE_{col}\" if col != \"Code\" else col\n",
    ")"
   ]
  },
  {
   "cell_type": "code",
   "execution_count": null,
   "id": "cf891fdd",
   "metadata": {},
   "outputs": [
    {
     "name": "stdout",
     "output_type": "stream",
     "text": [
      "Shape de df_voos202301: (538837, 33)\n",
      "Shape de df_DotCodeDictionary: (1737, 2)\n",
      "Shape de df_AirlineCodeDictionary: (1729, 2)\n"
     ]
    }
   ],
   "source": [
    "print(f\"Shape of df_flights_202301: {df_flights_202301.shape}\")\n",
    "print(f\"Shape of df_dot_code_dictionary: {df_dot_code_dictionary.shape}\")\n",
    "print(f\"Shape of df_airline_code_dictionary: {df_airline_code_dictionary.shape}\")"
   ]
  },
  {
   "cell_type": "markdown",
   "id": "e9f00d6f",
   "metadata": {},
   "source": [
    "### a. Converting types in df_flights_202301"
   ]
  },
  {
   "cell_type": "code",
   "execution_count": null,
   "id": "dbbcaa27",
   "metadata": {},
   "outputs": [
    {
     "name": "stdout",
     "output_type": "stream",
     "text": [
      "<class 'pandas.core.frame.DataFrame'>\n",
      "RangeIndex: 538837 entries, 0 to 538836\n",
      "Data columns (total 33 columns):\n",
      " #   Column                   Non-Null Count   Dtype  \n",
      "---  ------                   --------------   -----  \n",
      " 0   FL_DATE                  538837 non-null  object \n",
      " 1   AIRLINE_CODE             538837 non-null  object \n",
      " 2   DOT_CODE                 538837 non-null  int64  \n",
      " 3   FL_NUMBER                538837 non-null  int64  \n",
      " 4   ORIGIN                   538837 non-null  object \n",
      " 5   ORIGIN_CITY              538837 non-null  object \n",
      " 6   DEST                     538837 non-null  object \n",
      " 7   DEST_CITY                538837 non-null  object \n",
      " 8   CRS_DEP_TIME             538837 non-null  int64  \n",
      " 9   DEP_TIME                 528859 non-null  float64\n",
      " 10  DEP_DELAY                528855 non-null  float64\n",
      " 11  TAXI_OUT                 528640 non-null  float64\n",
      " 12  WHEELS_OFF               528640 non-null  float64\n",
      " 13  WHEELS_ON                528318 non-null  float64\n",
      " 14  TAXI_IN                  528318 non-null  float64\n",
      " 15  CRS_ARR_TIME             538837 non-null  int64  \n",
      " 16  ARR_TIME                 528318 non-null  float64\n",
      " 17  ARR_DELAY                527197 non-null  float64\n",
      " 18  CANCELLED                538837 non-null  int64  \n",
      " 19  CANCELLATION_CODE        538837 non-null  object \n",
      " 20  DIVERTED                 538837 non-null  int64  \n",
      " 21  CRS_ELAPSED_TIME         538836 non-null  float64\n",
      " 22  ELAPSED_TIME             527197 non-null  float64\n",
      " 23  AIR_TIME                 527197 non-null  float64\n",
      " 24  DISTANCE                 538837 non-null  int64  \n",
      " 25  DELAY_DUE_CARRIER        116713 non-null  float64\n",
      " 26  DELAY_DUE_WEATHER        116713 non-null  float64\n",
      " 27  DELAY_DUE_NAS            116713 non-null  float64\n",
      " 28  DELAY_DUE_SECURITY       116713 non-null  float64\n",
      " 29  DELAY_DUE_LATE_AIRCRAFT  116713 non-null  float64\n",
      " 30  FL_YEAR                  538837 non-null  int64  \n",
      " 31  FL_MONTH                 538837 non-null  int64  \n",
      " 32  FL_DAY                   538837 non-null  int64  \n",
      "dtypes: float64(16), int64(10), object(7)\n",
      "memory usage: 135.7+ MB\n"
     ]
    }
   ],
   "source": [
    "df_flights_202301.info()"
   ]
  },
  {
   "cell_type": "code",
   "execution_count": null,
   "id": "58b56a4c",
   "metadata": {},
   "outputs": [],
   "source": [
    "def optimize_flight_data_types(df):\n",
    "    df_optimized = df.copy()\n",
    "\n",
    "    # 1. DATE CONVERSION - more robust\n",
    "    df_optimized[\"FL_DATE\"] = pd.to_datetime(\n",
    "        df_optimized[\"FL_DATE\"],\n",
    "        format=\"%Y-%m-%d\",\n",
    "        errors='coerce'\n",
    "    )\n",
    "\n",
    "    # 2. CATEGORICAL COLUMNS - with memory optimization\n",
    "    cols_category = [\n",
    "        \"AIRLINE_CODE\", \"ORIGIN\", \"ORIGIN_CITY\",\n",
    "        \"DEST\", \"DEST_CITY\", \"CANCELLATION_CODE\"\n",
    "    ]\n",
    "    for col in cols_category:\n",
    "        df_optimized[col] = df_optimized[col].astype(\"category\")\n",
    "\n",
    "    # 3. BOOLEAN VARIABLES\n",
    "    df_optimized[\"CANCELLED\"] = df_optimized[\"CANCELLED\"].astype(bool)\n",
    "    df_optimized[\"DIVERTED\"] = df_optimized[\"DIVERTED\"].astype(bool)\n",
    "\n",
    "    # 4. IMPROVED FUNCTION FOR TIME CONVERSION AND ALL TIME COLUMNS\n",
    "    def hhmm_to_time_optimized(val):\n",
    "        \"\"\"Convert HHMM format to time, with robust error handling\"\"\"\n",
    "        if pd.isna(val):\n",
    "            return pd.NaT\n",
    "        try:\n",
    "            val = int(val)\n",
    "            if val == 2400:\n",
    "                val = 0\n",
    "            elif val > 2400:\n",
    "                return pd.NaT\n",
    "            hh = val // 100\n",
    "            mm = val % 100\n",
    "            if hh > 23 or mm > 59:\n",
    "                return pd.NaT\n",
    "            return time(hh, mm)\n",
    "        except (ValueError, TypeError):\n",
    "            return pd.NaT\n",
    "    time_columns = [\n",
    "        \"CRS_DEP_TIME\", \"DEP_TIME\", \"WHEELS_OFF\", \"WHEELS_ON\",\n",
    "        \"CRS_ARR_TIME\", \"ARR_TIME\"\n",
    "    ]\n",
    "    for col in time_columns:\n",
    "        if col in df_optimized.columns:\n",
    "            df_optimized[col] = df_optimized[col].apply(hhmm_to_time_optimized)\n",
    "\n",
    "    # 5. NUMERIC TYPE OPTIMIZATION\n",
    "    # Columns that can be converted to smaller int (memory saving)\n",
    "    int_columns_small = [\"FL_NUMBER\", \"DOT_CODE\", \"FL_YEAR\", \"FL_MONTH\", \"FL_DAY\"]\n",
    "    for col in int_columns_small:\n",
    "        if col in df_optimized.columns:\n",
    "            max_val = df_optimized[col].max()\n",
    "            if max_val <= 32767:  # int16\n",
    "                df_optimized[col] = df_optimized[col].astype(\"int16\")\n",
    "            elif max_val <= 2147483647:  # int32\n",
    "                df_optimized[col] = df_optimized[col].astype(\"int32\")\n",
    "    # Distance can likely be int16 (max ~32k miles)\n",
    "    if \"DISTANCE\" in df_optimized.columns:\n",
    "        df_optimized[\"DISTANCE\"] = df_optimized[\"DISTANCE\"].astype(\"int16\")\n",
    "    # Convert to float32 (saves 50% memory vs float64)\n",
    "    float_columns = [\n",
    "        \"DEP_DELAY\", \"TAXI_OUT\", \"TAXI_IN\", \"ARR_DELAY\",\n",
    "        \"CRS_ELAPSED_TIME\", \"ELAPSED_TIME\", \"AIR_TIME\",\n",
    "        \"DELAY_DUE_CARRIER\", \"DELAY_DUE_WEATHER\", \"DELAY_DUE_NAS\",\n",
    "        \"DELAY_DUE_SECURITY\", \"DELAY_DUE_LATE_AIRCRAFT\"\n",
    "    ]\n",
    "    for col in float_columns:\n",
    "        if col in df_optimized.columns:\n",
    "            df_optimized[col] = pd.to_numeric(df_optimized[col], errors='coerce')\n",
    "            df_optimized[col] = df_optimized[col].astype(\"float32\")\n",
    "\n",
    "    return df_optimized"
   ]
  },
  {
   "cell_type": "code",
   "execution_count": null,
   "id": "28c4be71",
   "metadata": {},
   "outputs": [],
   "source": [
    "df_flights_optimized = optimize_flight_data_types(df_flights_202301)"
   ]
  },
  {
   "cell_type": "code",
   "execution_count": 8,
   "id": "f6a416ec",
   "metadata": {},
   "outputs": [
    {
     "name": "stdout",
     "output_type": "stream",
     "text": [
      "<class 'pandas.core.frame.DataFrame'>\n",
      "RangeIndex: 538837 entries, 0 to 538836\n",
      "Data columns (total 33 columns):\n",
      " #   Column                   Non-Null Count   Dtype         \n",
      "---  ------                   --------------   -----         \n",
      " 0   FL_DATE                  538837 non-null  datetime64[ns]\n",
      " 1   AIRLINE_CODE             538837 non-null  category      \n",
      " 2   DOT_CODE                 538837 non-null  int16         \n",
      " 3   FL_NUMBER                538837 non-null  int16         \n",
      " 4   ORIGIN                   538837 non-null  category      \n",
      " 5   ORIGIN_CITY              538837 non-null  category      \n",
      " 6   DEST                     538837 non-null  category      \n",
      " 7   DEST_CITY                538837 non-null  category      \n",
      " 8   CRS_DEP_TIME             538837 non-null  object        \n",
      " 9   DEP_TIME                 528859 non-null  object        \n",
      " 10  DEP_DELAY                528855 non-null  float32       \n",
      " 11  TAXI_OUT                 528640 non-null  float32       \n",
      " 12  WHEELS_OFF               528640 non-null  object        \n",
      " 13  WHEELS_ON                528318 non-null  object        \n",
      " 14  TAXI_IN                  528318 non-null  float32       \n",
      " 15  CRS_ARR_TIME             538837 non-null  object        \n",
      " 16  ARR_TIME                 528318 non-null  object        \n",
      " 17  ARR_DELAY                527197 non-null  float32       \n",
      " 18  CANCELLED                538837 non-null  bool          \n",
      " 19  CANCELLATION_CODE        538837 non-null  category      \n",
      " 20  DIVERTED                 538837 non-null  bool          \n",
      " 21  CRS_ELAPSED_TIME         538836 non-null  float32       \n",
      " 22  ELAPSED_TIME             527197 non-null  float32       \n",
      " 23  AIR_TIME                 527197 non-null  float32       \n",
      " 24  DISTANCE                 538837 non-null  int16         \n",
      " 25  DELAY_DUE_CARRIER        116713 non-null  float32       \n",
      " 26  DELAY_DUE_WEATHER        116713 non-null  float32       \n",
      " 27  DELAY_DUE_NAS            116713 non-null  float32       \n",
      " 28  DELAY_DUE_SECURITY       116713 non-null  float32       \n",
      " 29  DELAY_DUE_LATE_AIRCRAFT  116713 non-null  float32       \n",
      " 30  FL_YEAR                  538837 non-null  int16         \n",
      " 31  FL_MONTH                 538837 non-null  int16         \n",
      " 32  FL_DAY                   538837 non-null  int16         \n",
      "dtypes: bool(2), category(6), datetime64[ns](1), float32(12), int16(6), object(6)\n",
      "memory usage: 65.8+ MB\n"
     ]
    }
   ],
   "source": [
    "df_flights_optimized.info()"
   ]
  },
  {
   "cell_type": "markdown",
   "id": "fde2b6e3",
   "metadata": {},
   "source": [
    "### b. Converting types of df_airline_code_dictionary"
   ]
  },
  {
   "cell_type": "code",
   "execution_count": null,
   "id": "4922d2a5",
   "metadata": {},
   "outputs": [
    {
     "name": "stdout",
     "output_type": "stream",
     "text": [
      "<class 'pandas.core.frame.DataFrame'>\n",
      "RangeIndex: 1729 entries, 0 to 1728\n",
      "Data columns (total 2 columns):\n",
      " #   Column               Non-Null Count  Dtype \n",
      "---  ------               --------------  ----- \n",
      " 0   Code                 1728 non-null   object\n",
      " 1   AIRLINE_Description  1729 non-null   object\n",
      "dtypes: object(2)\n",
      "memory usage: 27.1+ KB\n"
     ]
    }
   ],
   "source": [
    "df_airline_code_dictionary.info()"
   ]
  },
  {
   "cell_type": "code",
   "execution_count": null,
   "id": "0015a5cb",
   "metadata": {},
   "outputs": [],
   "source": [
    "df_airline_optimized = df_airline_code_dictionary.copy()"
   ]
  },
  {
   "cell_type": "code",
   "execution_count": null,
   "id": "570d5153",
   "metadata": {},
   "outputs": [],
   "source": [
    "# 1. Convert 'Code' to category\n",
    "df_airline_optimized['Code'] = df_airline_optimized['Code'].astype('category')\n",
    "\n",
    "# 2. Convert 'AIRLINE_Description' to category\n",
    "df_airline_optimized['AIRLINE_Description'] = df_airline_optimized['AIRLINE_Description'].astype('category')"
   ]
  },
  {
   "cell_type": "code",
   "execution_count": 12,
   "id": "e0c7e032",
   "metadata": {},
   "outputs": [
    {
     "name": "stdout",
     "output_type": "stream",
     "text": [
      "<class 'pandas.core.frame.DataFrame'>\n",
      "RangeIndex: 1729 entries, 0 to 1728\n",
      "Data columns (total 2 columns):\n",
      " #   Column               Non-Null Count  Dtype   \n",
      "---  ------               --------------  -----   \n",
      " 0   Code                 1728 non-null   category\n",
      " 1   AIRLINE_Description  1729 non-null   category\n",
      "dtypes: category(2)\n",
      "memory usage: 163.0 KB\n"
     ]
    }
   ],
   "source": [
    "df_airline_optimized.info()"
   ]
  },
  {
   "cell_type": "markdown",
   "id": "d7531da7",
   "metadata": {},
   "source": [
    "### c. Converting types of df_dot_code_dictionary"
   ]
  },
  {
   "cell_type": "code",
   "execution_count": null,
   "id": "2ac313ed",
   "metadata": {},
   "outputs": [
    {
     "name": "stdout",
     "output_type": "stream",
     "text": [
      "<class 'pandas.core.frame.DataFrame'>\n",
      "RangeIndex: 1737 entries, 0 to 1736\n",
      "Data columns (total 2 columns):\n",
      " #   Column           Non-Null Count  Dtype \n",
      "---  ------           --------------  ----- \n",
      " 0   Code             1737 non-null   int64 \n",
      " 1   DOT_Description  1733 non-null   object\n",
      "dtypes: int64(1), object(1)\n",
      "memory usage: 27.3+ KB\n"
     ]
    }
   ],
   "source": [
    "df_dot_code_dictionary.info()"
   ]
  },
  {
   "cell_type": "code",
   "execution_count": null,
   "id": "1c11cbcd",
   "metadata": {},
   "outputs": [],
   "source": [
    "df_dot_optimized = df_dot_code_dictionary.copy()"
   ]
  },
  {
   "cell_type": "code",
   "execution_count": null,
   "id": "fbb00237",
   "metadata": {},
   "outputs": [],
   "source": [
    "# 1. Convert to numeric type to ensure conversion works\n",
    "df_dot_optimized['Code'] = pd.to_numeric(df_dot_optimized['Code'], errors='coerce')\n",
    "\n",
    "# Check max value to choose best integer type\n",
    "max_dot_code = df_dot_optimized['Code'].max()\n",
    "\n",
    "if max_dot_code <= 32767:  # int16 limit\n",
    "    df_dot_optimized['Code'] = df_dot_optimized['Code'].astype('int16')\n",
    "elif max_dot_code <= 2147483647:  # int32 limit\n",
    "    df_dot_optimized['Code'] = df_dot_optimized['Code'].astype('int32')\n",
    "\n",
    "# 2. Convert 'DOT_Description' to category\n",
    "df_dot_optimized['DOT_Description'] = df_dot_optimized['DOT_Description'].astype('category')"
   ]
  },
  {
   "cell_type": "code",
   "execution_count": 16,
   "id": "41abc99b",
   "metadata": {},
   "outputs": [
    {
     "name": "stdout",
     "output_type": "stream",
     "text": [
      "<class 'pandas.core.frame.DataFrame'>\n",
      "RangeIndex: 1737 entries, 0 to 1736\n",
      "Data columns (total 2 columns):\n",
      " #   Column           Non-Null Count  Dtype   \n",
      "---  ------           --------------  -----   \n",
      " 0   Code             1737 non-null   int16   \n",
      " 1   DOT_Description  1733 non-null   category\n",
      "dtypes: category(1), int16(1)\n",
      "memory usage: 85.0 KB\n"
     ]
    }
   ],
   "source": [
    "df_dot_optimized.info()"
   ]
  },
  {
   "cell_type": "markdown",
   "id": "fa775480",
   "metadata": {},
   "source": [
    "### d. Checking optimized sizes"
   ]
  },
  {
   "cell_type": "code",
   "execution_count": null,
   "id": "7426338f",
   "metadata": {},
   "outputs": [
    {
     "name": "stdout",
     "output_type": "stream",
     "text": [
      "Analise de melhora de **df_voos202301**\n",
      "DataFrame original: 306.27 MB\n",
      "DataFrame otimizado: 191.10 MB\n",
      "Economia: 115.17 MB (37.6%)\n",
      "==================================================\n",
      "Analise de melhora de **df_AirlineCodeDictionary**\n",
      "DataFrame original: 0.20 MB\n",
      "DataFrame otimizado: 0.33 MB\n",
      "Economia: -0.13 MB (-66.2%)\n",
      "==================================================\n",
      "Analise de melhora de **df_DotCodeDictionary**\n",
      "DataFrame original: 0.14 MB\n",
      "DataFrame otimizado: 0.19 MB\n",
      "Economia: -0.06 MB (-41.2%)\n",
      "==================================================\n"
     ]
    }
   ],
   "source": [
    "def compare_memory_usage(df_name, df_original, df_optimized):\n",
    "    mem_original = df_original.memory_usage(deep=True).sum() / 1024**2\n",
    "    mem_optimized = df_optimized.memory_usage(deep=True).sum() / 1024**2\n",
    "\n",
    "    print(f\"Memory improvement analysis for **{df_name}**\")\n",
    "    print(f\"Original DataFrame: {mem_original:.2f} MB\")\n",
    "    print(f\"Optimized DataFrame: {mem_optimized:.2f} MB\")\n",
    "    print(f\"Savings: {mem_original - mem_optimized:.2f} MB ({((mem_original - mem_optimized) / mem_original * 100):.1f}%)\")\n",
    "    print(\"=\" * 50)\n",
    "\n",
    "compare_memory_usage(\"df_flights_202301\", df_flights_202301, df_flights_optimized)\n",
    "compare_memory_usage(\"df_airline_code_dictionary\", df_airline_code_dictionary, df_airline_optimized)\n",
    "compare_memory_usage(\"df_dot_code_dictionary\", df_dot_code_dictionary, df_dot_optimized)"
   ]
  },
  {
   "cell_type": "markdown",
   "id": "6e8e9d8f",
   "metadata": {},
   "source": [
    "### Merge data"
   ]
  },
  {
   "cell_type": "markdown",
   "id": "1ba16872",
   "metadata": {},
   "source": [
    "Main: df_flights_202301\n",
    "\n",
    "df_airline_code_dictionary: Code <> df_flights_202301: AIRLINE_CODE\n",
    "\n",
    "df_dot_code_dictionary: Code <> df_flights_202301: DOT_CODE"
   ]
  },
  {
   "cell_type": "code",
   "execution_count": null,
   "id": "60017bb7",
   "metadata": {},
   "outputs": [
    {
     "data": {
      "text/plain": [
       "array(['9E', 'AA', 'AS', 'B6', 'DL', 'F9', 'G4', 'HA', 'MQ', 'NK', 'WN',\n",
       "       'YX', 'OH', 'OO', 'UA'], dtype=object)"
      ]
     },
     "execution_count": 18,
     "metadata": {},
     "output_type": "execute_result"
    }
   ],
   "source": [
    "df_flights_202301[\"AIRLINE_CODE\"].unique()"
   ]
  },
  {
   "cell_type": "code",
   "execution_count": null,
   "id": "24b3d750",
   "metadata": {},
   "outputs": [
    {
     "data": {
      "text/plain": [
       "array([20363, 19805, 19930, 20409, 19790, 20436, 20368, 19690, 20398,\n",
       "       20416, 19393, 20452, 20397, 20304, 19977])"
      ]
     },
     "execution_count": 19,
     "metadata": {},
     "output_type": "execute_result"
    }
   ],
   "source": [
    "df_flights_202301[\"DOT_CODE\"].unique()"
   ]
  },
  {
   "cell_type": "code",
   "execution_count": null,
   "id": "cc9239a5",
   "metadata": {},
   "outputs": [],
   "source": [
    "df_merged = pd.merge(\n",
    "    df_flights_202301,\n",
    "    df_dot_code_dictionary,\n",
    "    left_on=\"DOT_CODE\",\n",
    "    right_on=\"Code\",\n",
    "    how=\"left\"\n",
    ").drop(columns=[\"Code\"])\n",
    "\n",
    "# Merge with AIRLINE_CODE\n",
    "df_merged = pd.merge(\n",
    "    df_merged,\n",
    "    df_airline_code_dictionary,\n",
    "    left_on=\"AIRLINE_CODE\",\n",
    "    right_on=\"Code\",\n",
    "    how=\"left\"\n",
    ").drop(columns=[\"Code\"])"
   ]
  },
  {
   "cell_type": "code",
   "execution_count": 21,
   "id": "99dcfc69",
   "metadata": {},
   "outputs": [
    {
     "data": {
      "text/html": [
       "<div>\n",
       "<style scoped>\n",
       "    .dataframe tbody tr th:only-of-type {\n",
       "        vertical-align: middle;\n",
       "    }\n",
       "\n",
       "    .dataframe tbody tr th {\n",
       "        vertical-align: top;\n",
       "    }\n",
       "\n",
       "    .dataframe thead th {\n",
       "        text-align: right;\n",
       "    }\n",
       "</style>\n",
       "<table border=\"1\" class=\"dataframe\">\n",
       "  <thead>\n",
       "    <tr style=\"text-align: right;\">\n",
       "      <th></th>\n",
       "      <th>FL_DATE</th>\n",
       "      <th>AIRLINE_CODE</th>\n",
       "      <th>DOT_CODE</th>\n",
       "      <th>FL_NUMBER</th>\n",
       "      <th>ORIGIN</th>\n",
       "      <th>ORIGIN_CITY</th>\n",
       "      <th>DEST</th>\n",
       "      <th>DEST_CITY</th>\n",
       "      <th>CRS_DEP_TIME</th>\n",
       "      <th>DEP_TIME</th>\n",
       "      <th>...</th>\n",
       "      <th>DELAY_DUE_CARRIER</th>\n",
       "      <th>DELAY_DUE_WEATHER</th>\n",
       "      <th>DELAY_DUE_NAS</th>\n",
       "      <th>DELAY_DUE_SECURITY</th>\n",
       "      <th>DELAY_DUE_LATE_AIRCRAFT</th>\n",
       "      <th>FL_YEAR</th>\n",
       "      <th>FL_MONTH</th>\n",
       "      <th>FL_DAY</th>\n",
       "      <th>DOT_Description</th>\n",
       "      <th>AIRLINE_Description</th>\n",
       "    </tr>\n",
       "  </thead>\n",
       "  <tbody>\n",
       "    <tr>\n",
       "      <th>0</th>\n",
       "      <td>2023-01-02</td>\n",
       "      <td>9E</td>\n",
       "      <td>20363</td>\n",
       "      <td>4628</td>\n",
       "      <td>BDL</td>\n",
       "      <td>Hartford, CT</td>\n",
       "      <td>LGA</td>\n",
       "      <td>New York, NY</td>\n",
       "      <td>800</td>\n",
       "      <td>757.0</td>\n",
       "      <td>...</td>\n",
       "      <td>NaN</td>\n",
       "      <td>NaN</td>\n",
       "      <td>NaN</td>\n",
       "      <td>NaN</td>\n",
       "      <td>NaN</td>\n",
       "      <td>2023</td>\n",
       "      <td>1</td>\n",
       "      <td>2</td>\n",
       "      <td>Endeavor Air Inc.: 9E</td>\n",
       "      <td>Endeavor Air Inc.</td>\n",
       "    </tr>\n",
       "    <tr>\n",
       "      <th>1</th>\n",
       "      <td>2023-01-03</td>\n",
       "      <td>9E</td>\n",
       "      <td>20363</td>\n",
       "      <td>4628</td>\n",
       "      <td>BDL</td>\n",
       "      <td>Hartford, CT</td>\n",
       "      <td>LGA</td>\n",
       "      <td>New York, NY</td>\n",
       "      <td>800</td>\n",
       "      <td>755.0</td>\n",
       "      <td>...</td>\n",
       "      <td>NaN</td>\n",
       "      <td>NaN</td>\n",
       "      <td>NaN</td>\n",
       "      <td>NaN</td>\n",
       "      <td>NaN</td>\n",
       "      <td>2023</td>\n",
       "      <td>1</td>\n",
       "      <td>3</td>\n",
       "      <td>Endeavor Air Inc.: 9E</td>\n",
       "      <td>Endeavor Air Inc.</td>\n",
       "    </tr>\n",
       "    <tr>\n",
       "      <th>2</th>\n",
       "      <td>2023-01-04</td>\n",
       "      <td>9E</td>\n",
       "      <td>20363</td>\n",
       "      <td>4628</td>\n",
       "      <td>BDL</td>\n",
       "      <td>Hartford, CT</td>\n",
       "      <td>LGA</td>\n",
       "      <td>New York, NY</td>\n",
       "      <td>800</td>\n",
       "      <td>755.0</td>\n",
       "      <td>...</td>\n",
       "      <td>NaN</td>\n",
       "      <td>NaN</td>\n",
       "      <td>NaN</td>\n",
       "      <td>NaN</td>\n",
       "      <td>NaN</td>\n",
       "      <td>2023</td>\n",
       "      <td>1</td>\n",
       "      <td>4</td>\n",
       "      <td>Endeavor Air Inc.: 9E</td>\n",
       "      <td>Endeavor Air Inc.</td>\n",
       "    </tr>\n",
       "    <tr>\n",
       "      <th>3</th>\n",
       "      <td>2023-01-05</td>\n",
       "      <td>9E</td>\n",
       "      <td>20363</td>\n",
       "      <td>4628</td>\n",
       "      <td>BDL</td>\n",
       "      <td>Hartford, CT</td>\n",
       "      <td>LGA</td>\n",
       "      <td>New York, NY</td>\n",
       "      <td>800</td>\n",
       "      <td>754.0</td>\n",
       "      <td>...</td>\n",
       "      <td>NaN</td>\n",
       "      <td>NaN</td>\n",
       "      <td>NaN</td>\n",
       "      <td>NaN</td>\n",
       "      <td>NaN</td>\n",
       "      <td>2023</td>\n",
       "      <td>1</td>\n",
       "      <td>5</td>\n",
       "      <td>Endeavor Air Inc.: 9E</td>\n",
       "      <td>Endeavor Air Inc.</td>\n",
       "    </tr>\n",
       "    <tr>\n",
       "      <th>4</th>\n",
       "      <td>2023-01-06</td>\n",
       "      <td>9E</td>\n",
       "      <td>20363</td>\n",
       "      <td>4628</td>\n",
       "      <td>BDL</td>\n",
       "      <td>Hartford, CT</td>\n",
       "      <td>LGA</td>\n",
       "      <td>New York, NY</td>\n",
       "      <td>800</td>\n",
       "      <td>759.0</td>\n",
       "      <td>...</td>\n",
       "      <td>NaN</td>\n",
       "      <td>NaN</td>\n",
       "      <td>NaN</td>\n",
       "      <td>NaN</td>\n",
       "      <td>NaN</td>\n",
       "      <td>2023</td>\n",
       "      <td>1</td>\n",
       "      <td>6</td>\n",
       "      <td>Endeavor Air Inc.: 9E</td>\n",
       "      <td>Endeavor Air Inc.</td>\n",
       "    </tr>\n",
       "  </tbody>\n",
       "</table>\n",
       "<p>5 rows × 35 columns</p>\n",
       "</div>"
      ],
      "text/plain": [
       "      FL_DATE AIRLINE_CODE  DOT_CODE  FL_NUMBER ORIGIN   ORIGIN_CITY DEST  \\\n",
       "0  2023-01-02           9E     20363       4628    BDL  Hartford, CT  LGA   \n",
       "1  2023-01-03           9E     20363       4628    BDL  Hartford, CT  LGA   \n",
       "2  2023-01-04           9E     20363       4628    BDL  Hartford, CT  LGA   \n",
       "3  2023-01-05           9E     20363       4628    BDL  Hartford, CT  LGA   \n",
       "4  2023-01-06           9E     20363       4628    BDL  Hartford, CT  LGA   \n",
       "\n",
       "      DEST_CITY  CRS_DEP_TIME  DEP_TIME  ...  DELAY_DUE_CARRIER  \\\n",
       "0  New York, NY           800     757.0  ...                NaN   \n",
       "1  New York, NY           800     755.0  ...                NaN   \n",
       "2  New York, NY           800     755.0  ...                NaN   \n",
       "3  New York, NY           800     754.0  ...                NaN   \n",
       "4  New York, NY           800     759.0  ...                NaN   \n",
       "\n",
       "   DELAY_DUE_WEATHER  DELAY_DUE_NAS  DELAY_DUE_SECURITY  \\\n",
       "0                NaN            NaN                 NaN   \n",
       "1                NaN            NaN                 NaN   \n",
       "2                NaN            NaN                 NaN   \n",
       "3                NaN            NaN                 NaN   \n",
       "4                NaN            NaN                 NaN   \n",
       "\n",
       "   DELAY_DUE_LATE_AIRCRAFT  FL_YEAR  FL_MONTH  FL_DAY        DOT_Description  \\\n",
       "0                      NaN     2023         1       2  Endeavor Air Inc.: 9E   \n",
       "1                      NaN     2023         1       3  Endeavor Air Inc.: 9E   \n",
       "2                      NaN     2023         1       4  Endeavor Air Inc.: 9E   \n",
       "3                      NaN     2023         1       5  Endeavor Air Inc.: 9E   \n",
       "4                      NaN     2023         1       6  Endeavor Air Inc.: 9E   \n",
       "\n",
       "  AIRLINE_Description  \n",
       "0   Endeavor Air Inc.  \n",
       "1   Endeavor Air Inc.  \n",
       "2   Endeavor Air Inc.  \n",
       "3   Endeavor Air Inc.  \n",
       "4   Endeavor Air Inc.  \n",
       "\n",
       "[5 rows x 35 columns]"
      ]
     },
     "execution_count": 21,
     "metadata": {},
     "output_type": "execute_result"
    }
   ],
   "source": [
    "df_merged.head()"
   ]
  },
  {
   "cell_type": "code",
   "execution_count": 22,
   "id": "2ff04636",
   "metadata": {},
   "outputs": [
    {
     "data": {
      "text/plain": [
       "(538837, 35)"
      ]
     },
     "execution_count": 22,
     "metadata": {},
     "output_type": "execute_result"
    }
   ],
   "source": [
    "df_merged.shape"
   ]
  }
 ],
 "metadata": {
  "kernelspec": {
   "display_name": "py12_lab4",
   "language": "python",
   "name": "python3"
  },
  "language_info": {
   "codemirror_mode": {
    "name": "ipython",
    "version": 3
   },
   "file_extension": ".py",
   "mimetype": "text/x-python",
   "name": "python",
   "nbconvert_exporter": "python",
   "pygments_lexer": "ipython3",
   "version": "3.12.11"
  }
 },
 "nbformat": 4,
 "nbformat_minor": 5
}
