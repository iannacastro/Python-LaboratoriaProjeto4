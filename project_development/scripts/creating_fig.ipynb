{
 "cells": [
  {
   "cell_type": "code",
   "execution_count": 1,
   "id": "18fe91d0",
   "metadata": {},
   "outputs": [],
   "source": [
    "import pandas as pd\n",
    "import matplotlib.pyplot as plt\n",
    "import matplotlib.font_manager as fm\n",
    "import seaborn as sns"
   ]
  },
  {
   "cell_type": "code",
   "execution_count": 2,
   "id": "5b7abfa5",
   "metadata": {},
   "outputs": [],
   "source": [
    "palette = [\"#0077C8\", \"#005EA8\", \"#003F72\", \"#0094D8\", \"#66C5E3\"]\n",
    "palette_red = [\"#DC1C13\", \"#EA4C46\", \"#F07470\"]"
   ]
  },
  {
   "cell_type": "code",
   "execution_count": 3,
   "id": "c1d109f3",
   "metadata": {},
   "outputs": [],
   "source": [
    "anotonio_path = \"../fonts/Antonio-Regular.ttf\"\n",
    "poppins_path = \"../fonts/Poppins-Regular.ttf\"\n",
    "fm.fontManager.addfont(anotonio_path)\n",
    "fm.fontManager.addfont(poppins_path)\n",
    "plt.rcParams['font.family'] = 'antonio'"
   ]
  },
  {
   "cell_type": "code",
   "execution_count": 4,
   "id": "a8f741ca",
   "metadata": {},
   "outputs": [],
   "source": [
    "df = pd.read_csv(\"../dataset/created/df_view.csv\")"
   ]
  },
  {
   "cell_type": "code",
   "execution_count": 5,
   "id": "1e79527f",
   "metadata": {},
   "outputs": [],
   "source": [
    "df[\"ATRASADO\"] = df[\"DELAY\"]\n",
    "df[\"CANCELADO\"] = df[\"CANCELLED\"]\n",
    "df[\"DESVIADO\"] = df[\"DIVERTED\"]\n"
   ]
  },
  {
   "cell_type": "code",
   "execution_count": 6,
   "id": "321701d2",
   "metadata": {},
   "outputs": [],
   "source": [
    "problematic_columns = ['ATRASADO', 'CANCELADO', 'DESVIADO']"
   ]
  },
  {
   "cell_type": "code",
   "execution_count": 7,
   "id": "0a5585eb",
   "metadata": {},
   "outputs": [
    {
     "data": {
      "text/plain": [
       "536720"
      ]
     },
     "execution_count": 7,
     "metadata": {},
     "output_type": "execute_result"
    }
   ],
   "source": [
    "total_flights = len(df)\n",
    "total_flights"
   ]
  },
  {
   "cell_type": "code",
   "execution_count": 8,
   "id": "3f656a79",
   "metadata": {},
   "outputs": [
    {
     "data": {
      "text/plain": [
       "np.int64(201760)"
      ]
     },
     "execution_count": 8,
     "metadata": {},
     "output_type": "execute_result"
    }
   ],
   "source": [
    "df['ATRASADO'].sum()"
   ]
  },
  {
   "cell_type": "code",
   "execution_count": 9,
   "id": "da87b0fa",
   "metadata": {},
   "outputs": [
    {
     "data": {
      "text/plain": [
       "np.int64(10230)"
      ]
     },
     "execution_count": 9,
     "metadata": {},
     "output_type": "execute_result"
    }
   ],
   "source": [
    "df['CANCELADO'].sum()"
   ]
  },
  {
   "cell_type": "code",
   "execution_count": 10,
   "id": "3ad085ba",
   "metadata": {},
   "outputs": [
    {
     "data": {
      "text/plain": [
       "np.int64(1335)"
      ]
     },
     "execution_count": 10,
     "metadata": {},
     "output_type": "execute_result"
    }
   ],
   "source": [
    "df['DESVIADO'].sum()"
   ]
  },
  {
   "cell_type": "code",
   "execution_count": null,
   "id": "a746f635",
   "metadata": {},
   "outputs": [
    {
     "data": {
      "image/png": "[encoded data removed]",
      "text/plain": [
       "<Figure size 900x500 with 1 Axes>"
      ]
     },
     "metadata": {},
     "output_type": "display_data"
    }
   ],
   "source": [
    "problem_counts = df[problematic_columns].sum()\n",
    "\n",
    "total_problematic_flights = df[problematic_columns].any(axis=1).sum()\n",
    "normal_flights_count = total_flights - total_problematic_flights\n",
    "\n",
    "all_counts = problem_counts.to_dict()\n",
    "all_counts[\"NORMAL\"] = normal_flights_count\n",
    "summary_df = pd.DataFrame(all_counts.items(), columns=[\"Problem_Type\", \"Count\"])\n",
    "\n",
    "summary_df[\"Percentage\"] = (summary_df[\"Count\"] / total_flights) * 100\n",
    "summary_df.loc[summary_df['Problem_Type'] == 'DEP_DEL15', 'Problem_Type'] = 'ATRASADO'\n",
    "summary_df_sorted = summary_df.sort_values(by=\"Percentage\", ascending=False)\n",
    "\n",
    "plt.figure(figsize=(9, 5))\n",
    "ax = sns.barplot(\n",
    "    data=summary_df_sorted,\n",
    "    x=\"Percentage\",\n",
    "    y=\"Problem_Type\",\n",
    "    hue=\"Problem_Type\",\n",
    "    palette=[\"#003F72\", \"#DC1C13\", \"#EA4C46\", \"#F07470\"],\n",
    "    legend=False\n",
    ")\n",
    "\n",
    "# Adiciona rótulos de porcentagem\n",
    "for p in ax.patches:\n",
    "    width = p.get_width()\n",
    "    ax.text(width + 1, p.get_y() + p.get_height() / 2.,\n",
    "            f'{width:.1f}%',\n",
    "            ha=\"left\", va=\"center\", fontsize=11, fontweight=\"medium\", family=\"Poppins\")\n",
    "\n",
    "# Ajusta título com Manrope\n",
    "plt.title(\"Proporção de Voos por Categoria\", fontsize=16, fontweight=\"bold\", family=\"Antonio\")\n",
    "\n",
    "# Ajustes minimalistas\n",
    "plt.xlabel(\"\")  \n",
    "plt.ylabel(\"\")\n",
    "plt.xlim(0, 100)\n",
    "plt.xticks([])  # remove ticks do eixo x\n",
    "plt.yticks(fontsize=12, family=\"Poppins\")\n",
    "sns.despine(left=True, bottom=True)  # remove bordas extras\n",
    "plt.grid(axis=\"x\", linestyle=\"--\", alpha=0.4)\n",
    "\n",
    "plt.tight_layout()\n",
    "plt.show()"
   ]
  }
 ],
 "metadata": {
  "kernelspec": {
   "display_name": "py12_lab",
   "language": "python",
   "name": "python3"
  },
  "language_info": {
   "codemirror_mode": {
    "name": "ipython",
    "version": 3
   },
   "file_extension": ".py",
   "mimetype": "text/x-python",
   "name": "python",
   "nbconvert_exporter": "python",
   "pygments_lexer": "ipython3",
   "version": "3.12.0"
  }
 },
 "nbformat": 4,
 "nbformat_minor": 5
}
