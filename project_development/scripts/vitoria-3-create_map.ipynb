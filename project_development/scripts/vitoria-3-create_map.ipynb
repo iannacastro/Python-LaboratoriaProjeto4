{
 "cells": [
  {
   "cell_type": "code",
   "execution_count": 14,
   "id": "5464c784",
   "metadata": {},
   "outputs": [],
   "source": [
    "import pandas as pd\n",
    "import plotly.express as px\n",
    "import plotly.graph_objects as go\n",
    "import numpy as np"
   ]
  },
  {
   "cell_type": "code",
   "execution_count": 15,
   "id": "47b57554",
   "metadata": {},
   "outputs": [],
   "source": [
    "df_map = pd.read_csv(\"../dataset/created/df_map.csv\")"
   ]
  },
  {
   "cell_type": "code",
   "execution_count": 16,
   "id": "f0b4b188",
   "metadata": {},
   "outputs": [
    {
     "data": {
      "application/vnd.plotly.v1+json": {
       "config": {
        "plotlyServerURL": "https://plot.ly"
       },
       "data": [
        {
         "customdata": [
          [
           false,
           false,
           3063
          ],
          [
           false,
           false,
           2687
          ],
          [
           false,
           false,
           2557
          ],
          [
           false,
           false,
           2229
          ],
          [
           false,
           false,
           2078
          ],
          [
           false,
           false,
           2061
          ],
          [
           false,
           false,
           2027
          ],
          [
           false,
           false,
           1927
          ],
          [
           false,
           false,
           1877
          ],
          [
           false,
           false,
           1775
          ],
          [
           false,
           false,
           1755
          ],
          [
           false,
           false,
           1740
          ],
          [
           false,
           false,
           1736
          ],
          [
           false,
           false,
           1729
          ],
          [
           false,
           false,
           1716
          ],
          [
           false,
           false,
           1691
          ],
          [
           false,
           false,
           1688
          ],
          [
           false,
           false,
           1686
          ],
          [
           false,
           false,
           1667
          ],
          [
           false,
           false,
           1653
          ],
          [
           false,
           false,
           1648
          ],
          [
           false,
           false,
           1627
          ],
          [
           false,
           false,
           1581
          ],
          [
           false,
           false,
           1580
          ],
          [
           false,
           false,
           1566
          ],
          [
           false,
           false,
           1561
          ],
          [
           false,
           false,
           1559
          ],
          [
           false,
           false,
           1554
          ],
          [
           false,
           false,
           1547
          ],
          [
           false,
           false,
           1525
          ],
          [
           false,
           false,
           1505
          ],
          [
           false,
           false,
           1496
          ],
          [
           false,
           false,
           1491
          ],
          [
           false,
           false,
           1489
          ],
          [
           false,
           false,
           1488
          ],
          [
           false,
           false,
           1486
          ],
          [
           false,
           false,
           1482
          ],
          [
           false,
           false,
           1481
          ],
          [
           false,
           false,
           1473
          ],
          [
           false,
           false,
           1472
          ],
          [
           false,
           false,
           1467
          ],
          [
           false,
           false,
           1467
          ],
          [
           false,
           false,
           1434
          ],
          [
           false,
           false,
           1429
          ],
          [
           false,
           false,
           1425
          ],
          [
           false,
           false,
           1418
          ],
          [
           false,
           false,
           1418
          ],
          [
           false,
           false,
           1414
          ],
          [
           false,
           false,
           1397
          ],
          [
           false,
           false,
           1394
          ],
          [
           false,
           false,
           1391
          ],
          [
           false,
           false,
           1388
          ],
          [
           false,
           false,
           1387
          ],
          [
           false,
           false,
           1382
          ],
          [
           false,
           false,
           1369
          ],
          [
           false,
           false,
           1364
          ],
          [
           false,
           false,
           1363
          ],
          [
           false,
           false,
           1353
          ],
          [
           false,
           false,
           1343
          ],
          [
           false,
           false,
           1334
          ],
          [
           false,
           false,
           1330
          ],
          [
           false,
           false,
           1328
          ],
          [
           false,
           false,
           1327
          ],
          [
           false,
           false,
           1324
          ],
          [
           false,
           false,
           1320
          ],
          [
           false,
           false,
           1320
          ],
          [
           false,
           false,
           1314
          ],
          [
           false,
           false,
           1313
          ],
          [
           false,
           false,
           1309
          ],
          [
           false,
           false,
           1300
          ],
          [
           false,
           false,
           1286
          ],
          [
           false,
           false,
           1283
          ],
          [
           false,
           false,
           1277
          ],
          [
           false,
           false,
           1274
          ],
          [
           false,
           false,
           1272
          ],
          [
           false,
           false,
           1254
          ],
          [
           false,
           false,
           1244
          ],
          [
           false,
           false,
           1244
          ],
          [
           false,
           false,
           1239
          ],
          [
           false,
           false,
           1238
          ],
          [
           false,
           false,
           1229
          ],
          [
           false,
           false,
           1228
          ],
          [
           false,
           false,
           1224
          ],
          [
           false,
           false,
           1221
          ],
          [
           false,
           false,
           1221
          ],
          [
           false,
           false,
           1219
          ],
          [
           false,
           false,
           1219
          ],
          [
           false,
           false,
           1217
          ],
          [
           false,
           false,
           1216
          ],
          [
           false,
           false,
           1214
          ],
          [
           false,
           false,
           1213
          ],
          [
           false,
           false,
           1212
          ],
          [
           false,
           false,
           1209
          ],
          [
           false,
           false,
           1206
          ],
          [
           false,
           false,
           1205
          ],
          [
           false,
           false,
           1204
          ],
          [
           false,
           false,
           1204
          ],
          [
           false,
           false,
           1203
          ],
          [
           false,
           false,
           1194
          ],
          [
           false,
           false,
           1193
          ]
         ],
         "hovertemplate": "<b>%{hovertext}</b><br><br>DELAY_OVERALL=%{marker.color}<br>ORIGIN_LAT=%{lat}<br>ORIGIN_LON=%{lon}<br>CANCELLED=%{customdata[0]}<br>DIVERTED=%{customdata[1]}<extra></extra>",
         "hovertext": [
          "SLC",
          "BNA",
          "SNA",
          "LAS",
          "ORD",
          "PBI",
          "LAX",
          "PBI",
          "STL",
          "DTW",
          "GFK",
          "HPN",
          "SFB",
          "IND",
          "MSP",
          "AMA",
          "MEM",
          "IND",
          "SEA",
          "MSN",
          "ABQ",
          "MSN",
          "SBA",
          "OMA",
          "BUF",
          "OMA",
          "BUF",
          "GRR",
          "SRQ",
          "BOS",
          "MSN",
          "VPS",
          "SEA",
          "DEN",
          "FSD",
          "AMA",
          "XNA",
          "SRQ",
          "TXK",
          "CMH",
          "CMI",
          "FSD",
          "CLT",
          "SYR",
          "SYR",
          "MIA",
          "PIE",
          "LAS",
          "OKC",
          "FAR",
          "CMH",
          "MDT",
          "SEA",
          "LAS",
          "TYS",
          "PGD",
          "PHX",
          "SJU",
          "RIC",
          "FWA",
          "LAS",
          "PIT",
          "ORD",
          "MIA",
          "DFW",
          "MDW",
          "HDN",
          "STL",
          "HDN",
          "FWA",
          "STT",
          "AUS",
          "BHM",
          "DFW",
          "LAX",
          "JAC",
          "PIT",
          "LAS",
          "AVP",
          "MSN",
          "MSP",
          "MEM",
          "IND",
          "SNA",
          "SLC",
          "RNO",
          "ORD",
          "SAF",
          "SDF",
          "IAH",
          "DEN",
          "LAX",
          "LAX",
          "SBP",
          "SAT",
          "STT",
          "MTJ",
          "ICT",
          "MSP",
          "JFK"
         ],
         "lat": {
          "bdata": "QdUJ5OlkREDrYf3Z7g9CQPyaOPt71kBA/qjZRUkKQkCeKXReY/1EQAMsbrPjrjpA4d/zBaX4QEADLG6z4646QCF5pTS0X0NAI7DmviQbRUBBSBYwgflHQAmokRKSiERAuw9AahPHPED0zjZx0dtDQEryGsO1cEZAJZLoZRScQUBFOtHobYVBQPTONnHR20NAt2V+PXi5R0B4mBfc5pFFQHu8bwAmhUFAeJgX3OaRRUB8u+McjjZBQNEwCO64pkRAYr0wHWN4RUDRMAjuuKZEQGK9MB1jeEVAM4lZs75wRUBoXquQNGU7QI9wWvCiLkVAeJgX3OaRRUDByqFFtns+QLdlfj14uUdAUim4UODtQ0C+eJK2acpFQCWS6GUUnEFAW0U9TBQkQkBoXquQNGU7QNjQDxsTukBApb5N+73/Q0AbL90kBgVEQL54krZpykVAIDdPt2SbQUBrhadfO45FQGuFp187jkVAUI2XbhLLOUD+vhzJJ+k7QP6o2UVJCkJABuXot1CyQUD7FHQ5rXVHQKW+Tfu9/0NA48MNdMQYREC3ZX49eLlHQP6o2UVJCkJAsyjLlP/nQUDTwuHckes6QOVUAMaSt0BAnPdinH1wMkDxVitNqcBCQD8NSl4+fURA/qjZRUkKQkDLeTFa6D5EQJ4pdF5j/URAUI2XbhLLOUA2BAmCrnJAQDpdFhOb5ERAQQq/UJc9REAheaU0tF9DQEEKv1CXPURAPw1KXj59REB/9TyoWVYyQJcZeObMMT5A5xqohA7IQEA2BAmCrnJAQOHf8wWl+EBANBxkzLzNRUDLeTFa6D5EQP6o2UVJCkJA+foYe0irREB4mBfc5pFFQEryGsO1cEZARTrR6G2FQUD0zjZx0dtDQPyaOPt71kBAQdUJ5OlkREAqgotX0b9DQJ4pdF5j/URA7/8Ek/LOQUD6qglgUhZDQFmJNzoA+z1AUim4UODtQ0Dh3/MFpfhAQOHf8wWl+EBAA3oj61eeQUBn2+UyoIg9QH/1PKhZVjJABvShjyJBQ0CxJVjaMdNCQEryGsO1cEZAzYNHXeNRREA=",
          "dtype": "f8"
         },
         "legendgroup": "",
         "lon": {
          "bdata": "Jdqf1ZP+W8A86GVWZ6tVwLDJGvWQd13A32Ur1L/JXMBxo6+94vlVwKZ1AjceBlTAbpUW5B2aXcCmdQI3HgZUwPWSUhIKl1bAeWGEU1PWVMBieohnRUtYwEbSTeZIbVLAgXzoBjNPVMAMp7Mw15JVwA/R6A7iTVfA11ZH6S1tWcCRr+u0gX5WwAynszDXklXAXC4sycuTXsDqOa/SmVVWwAI6ggr9plrA6jmv0plVVsCf+xetyPVdwINqpCE6+VfAwreX0duuU8CDaqQhOvlXwMK3l9HbrlPAKaD9BnVhVcA383GOdqNUwE9xA9tUwFHA6jmv0plVVsBhVFInoKFVwFwuLMnLk17ArLe8KLAqWsAugnMEeC9YwNdWR+ktbVnA998Qy6KTV8A383GOdqNUwKVrJt9sf1fAzP2CmxS5VMDxKoypyxFWwC6CcwR4L1jAOfdwLFw8VMDYms7KzQZTwNiazsrNBlPAvvdYdpgSVMD1Mf4B/6tUwN9lK9S/yVzAh8mObHJmWMDQSSnHKDRYwMz9gpsUuVTAS6bQmtswU8BcLizJy5NewN9lK9S/yVzAjN8t84r/VMBJOKHOZH9UwC6jovuDAFzAIxmLCR6AUMBcUTFrdVRTwOG+SEd9TFXA32Ur1L/JXMC2wg1b5w5UwHGjr73i+VXAvvdYdpgSVMBR2ht8YUJYwLag1rgn8FXAD0rzIu7NWsD1klISCpdWwA9K8yLuzVrA4b5IR31MVcB9qWWMSz5QwLezji7faljA1tOaKDqwVcBR2ht8YUJYwG6VFuQdml3AKx84HTevW8C2wg1b5w5UwN9lK9S/yVzAkIMSZlruUsDqOa/SmVVWwA/R6A7iTVfAka/rtIF+VsAMp7Mw15JVwLDJGvWQd13AJdqf1ZP+W8CS7df4J/FdwHGjr73i+VXAWUBXEaSFWsDJdr6fGm9VwPgnRAK+1VfArLe8KLAqWsBulRbkHZpdwG6VFuQdml3ARevy9xwpXsAzX9LWEJ5YwH2pZYxLPlDA2eSVkDT5WsA6YdsFt1tYwA/R6A7iTVfA/I2X6tlxUsA=",
          "dtype": "f8"
         },
         "marker": {
          "color": {
           "bdata": "9wt/Cv0JtQgeCA0I6weHB1UH7wbbBswGyAbBBrQGmwaYBpYGgwZ1BnAGWwYtBiwGHgYZBhcGEgYLBvUF4QXYBdMF0QXQBc4FygXJBcEFwAW7BbsFmgWVBZEFigWKBYYFdQVyBW8FbAVrBWYFWQVUBVMFSQU/BTYFMgUwBS8FLAUoBSgFIgUhBR0FFAUGBQMF/QT6BPgE5gTcBNwE1wTWBM0EzATIBMUExQTDBMMEwQTABL4EvQS8BLkEtgS1BLQEtASzBKoEqQQ=",
           "dtype": "i2"
          },
          "coloraxis": "coloraxis",
          "size": {
           "bdata": "9wt/Cv0JtQgeCA0I6weHB1UH7wbbBswGyAbBBrQGmwaYBpYGgwZ1BnAGWwYtBiwGHgYZBhcGEgYLBvUF4QXYBdMF0QXQBc4FygXJBcEFwAW7BbsFmgWVBZEFigWKBYYFdQVyBW8FbAVrBWYFWQVUBVMFSQU/BTYFMgUwBS8FLAUoBSgFIgUhBR0FFAUGBQMF/QT6BPgE5gTcBNwE1wTWBM0EzATIBMUExQTDBMMEwQTABL4EvQS8BLkEtgS1BLQEtASzBKoEqQQ=",
           "dtype": "i2"
          },
          "sizemode": "area",
          "sizeref": 7.6575
         },
         "mode": "markers",
         "name": "",
         "showlegend": false,
         "subplot": "map",
         "type": "scattermap"
        }
       ],
       "layout": {
        "coloraxis": {
         "colorbar": {
          "title": {
           "text": "DELAY_OVERALL"
          }
         },
         "colorscale": [
          [
           0,
           "rgb(255,245,240)"
          ],
          [
           0.125,
           "rgb(254,224,210)"
          ],
          [
           0.25,
           "rgb(252,187,161)"
          ],
          [
           0.375,
           "rgb(252,146,114)"
          ],
          [
           0.5,
           "rgb(251,106,74)"
          ],
          [
           0.625,
           "rgb(239,59,44)"
          ],
          [
           0.75,
           "rgb(203,24,29)"
          ],
          [
           0.875,
           "rgb(165,15,21)"
          ],
          [
           1,
           "rgb(103,0,13)"
          ]
         ]
        },
        "height": 600,
        "legend": {
         "itemsizing": "constant",
         "tracegroupgap": 0
        },
        "map": {
         "center": {
          "lat": 37.296246438599994,
          "lon": -94.130932761
         },
         "domain": {
          "x": [
           0,
           1
          ],
          "y": [
           0,
           1
          ]
         },
         "style": "open-street-map",
         "zoom": 3
        },
        "mapbox": {
         "center": {
          "lat": 37.296246438599994,
          "lon": -94.130932761
         },
         "zoom": 3
        },
        "margin": {
         "t": 60
        },
        "template": {
         "data": {
          "bar": [
           {
            "error_x": {
             "color": "#2a3f5f"
            },
            "error_y": {
             "color": "#2a3f5f"
            },
            "marker": {
             "line": {
              "color": "#E5ECF6",
              "width": 0.5
             },
             "pattern": {
              "fillmode": "overlay",
              "size": 10,
              "solidity": 0.2
             }
            },
            "type": "bar"
           }
          ],
          "barpolar": [
           {
            "marker": {
             "line": {
              "color": "#E5ECF6",
              "width": 0.5
             },
             "pattern": {
              "fillmode": "overlay",
              "size": 10,
              "solidity": 0.2
             }
            },
            "type": "barpolar"
           }
          ],
          "carpet": [
           {
            "aaxis": {
             "endlinecolor": "#2a3f5f",
             "gridcolor": "white",
             "linecolor": "white",
             "minorgridcolor": "white",
             "startlinecolor": "#2a3f5f"
            },
            "baxis": {
             "endlinecolor": "#2a3f5f",
             "gridcolor": "white",
             "linecolor": "white",
             "minorgridcolor": "white",
             "startlinecolor": "#2a3f5f"
            },
            "type": "carpet"
           }
          ],
          "choropleth": [
           {
            "colorbar": {
             "outlinewidth": 0,
             "ticks": ""
            },
            "type": "choropleth"
           }
          ],
          "contour": [
           {
            "colorbar": {
             "outlinewidth": 0,
             "ticks": ""
            },
            "colorscale": [
             [
              0,
              "#0d0887"
             ],
             [
              0.1111111111111111,
              "#46039f"
             ],
             [
              0.2222222222222222,
              "#7201a8"
             ],
             [
              0.3333333333333333,
              "#9c179e"
             ],
             [
              0.4444444444444444,
              "#bd3786"
             ],
             [
              0.5555555555555556,
              "#d8576b"
             ],
             [
              0.6666666666666666,
              "#ed7953"
             ],
             [
              0.7777777777777778,
              "#fb9f3a"
             ],
             [
              0.8888888888888888,
              "#fdca26"
             ],
             [
              1,
              "#f0f921"
             ]
            ],
            "type": "contour"
           }
          ],
          "contourcarpet": [
           {
            "colorbar": {
             "outlinewidth": 0,
             "ticks": ""
            },
            "type": "contourcarpet"
           }
          ],
          "heatmap": [
           {
            "colorbar": {
             "outlinewidth": 0,
             "ticks": ""
            },
            "colorscale": [
             [
              0,
              "#0d0887"
             ],
             [
              0.1111111111111111,
              "#46039f"
             ],
             [
              0.2222222222222222,
              "#7201a8"
             ],
             [
              0.3333333333333333,
              "#9c179e"
             ],
             [
              0.4444444444444444,
              "#bd3786"
             ],
             [
              0.5555555555555556,
              "#d8576b"
             ],
             [
              0.6666666666666666,
              "#ed7953"
             ],
             [
              0.7777777777777778,
              "#fb9f3a"
             ],
             [
              0.8888888888888888,
              "#fdca26"
             ],
             [
              1,
              "#f0f921"
             ]
            ],
            "type": "heatmap"
           }
          ],
          "histogram": [
           {
            "marker": {
             "pattern": {
              "fillmode": "overlay",
              "size": 10,
              "solidity": 0.2
             }
            },
            "type": "histogram"
           }
          ],
          "histogram2d": [
           {
            "colorbar": {
             "outlinewidth": 0,
             "ticks": ""
            },
            "colorscale": [
             [
              0,
              "#0d0887"
             ],
             [
              0.1111111111111111,
              "#46039f"
             ],
             [
              0.2222222222222222,
              "#7201a8"
             ],
             [
              0.3333333333333333,
              "#9c179e"
             ],
             [
              0.4444444444444444,
              "#bd3786"
             ],
             [
              0.5555555555555556,
              "#d8576b"
             ],
             [
              0.6666666666666666,
              "#ed7953"
             ],
             [
              0.7777777777777778,
              "#fb9f3a"
             ],
             [
              0.8888888888888888,
              "#fdca26"
             ],
             [
              1,
              "#f0f921"
             ]
            ],
            "type": "histogram2d"
           }
          ],
          "histogram2dcontour": [
           {
            "colorbar": {
             "outlinewidth": 0,
             "ticks": ""
            },
            "colorscale": [
             [
              0,
              "#0d0887"
             ],
             [
              0.1111111111111111,
              "#46039f"
             ],
             [
              0.2222222222222222,
              "#7201a8"
             ],
             [
              0.3333333333333333,
              "#9c179e"
             ],
             [
              0.4444444444444444,
              "#bd3786"
             ],
             [
              0.5555555555555556,
              "#d8576b"
             ],
             [
              0.6666666666666666,
              "#ed7953"
             ],
             [
              0.7777777777777778,
              "#fb9f3a"
             ],
             [
              0.8888888888888888,
              "#fdca26"
             ],
             [
              1,
              "#f0f921"
             ]
            ],
            "type": "histogram2dcontour"
           }
          ],
          "mesh3d": [
           {
            "colorbar": {
             "outlinewidth": 0,
             "ticks": ""
            },
            "type": "mesh3d"
           }
          ],
          "parcoords": [
           {
            "line": {
             "colorbar": {
              "outlinewidth": 0,
              "ticks": ""
             }
            },
            "type": "parcoords"
           }
          ],
          "pie": [
           {
            "automargin": true,
            "type": "pie"
           }
          ],
          "scatter": [
           {
            "fillpattern": {
             "fillmode": "overlay",
             "size": 10,
             "solidity": 0.2
            },
            "type": "scatter"
           }
          ],
          "scatter3d": [
           {
            "line": {
             "colorbar": {
              "outlinewidth": 0,
              "ticks": ""
             }
            },
            "marker": {
             "colorbar": {
              "outlinewidth": 0,
              "ticks": ""
             }
            },
            "type": "scatter3d"
           }
          ],
          "scattercarpet": [
           {
            "marker": {
             "colorbar": {
              "outlinewidth": 0,
              "ticks": ""
             }
            },
            "type": "scattercarpet"
           }
          ],
          "scattergeo": [
           {
            "marker": {
             "colorbar": {
              "outlinewidth": 0,
              "ticks": ""
             }
            },
            "type": "scattergeo"
           }
          ],
          "scattergl": [
           {
            "marker": {
             "colorbar": {
              "outlinewidth": 0,
              "ticks": ""
             }
            },
            "type": "scattergl"
           }
          ],
          "scattermap": [
           {
            "marker": {
             "colorbar": {
              "outlinewidth": 0,
              "ticks": ""
             }
            },
            "type": "scattermap"
           }
          ],
          "scattermapbox": [
           {
            "marker": {
             "colorbar": {
              "outlinewidth": 0,
              "ticks": ""
             }
            },
            "type": "scattermapbox"
           }
          ],
          "scatterpolar": [
           {
            "marker": {
             "colorbar": {
              "outlinewidth": 0,
              "ticks": ""
             }
            },
            "type": "scatterpolar"
           }
          ],
          "scatterpolargl": [
           {
            "marker": {
             "colorbar": {
              "outlinewidth": 0,
              "ticks": ""
             }
            },
            "type": "scatterpolargl"
           }
          ],
          "scatterternary": [
           {
            "marker": {
             "colorbar": {
              "outlinewidth": 0,
              "ticks": ""
             }
            },
            "type": "scatterternary"
           }
          ],
          "surface": [
           {
            "colorbar": {
             "outlinewidth": 0,
             "ticks": ""
            },
            "colorscale": [
             [
              0,
              "#0d0887"
             ],
             [
              0.1111111111111111,
              "#46039f"
             ],
             [
              0.2222222222222222,
              "#7201a8"
             ],
             [
              0.3333333333333333,
              "#9c179e"
             ],
             [
              0.4444444444444444,
              "#bd3786"
             ],
             [
              0.5555555555555556,
              "#d8576b"
             ],
             [
              0.6666666666666666,
              "#ed7953"
             ],
             [
              0.7777777777777778,
              "#fb9f3a"
             ],
             [
              0.8888888888888888,
              "#fdca26"
             ],
             [
              1,
              "#f0f921"
             ]
            ],
            "type": "surface"
           }
          ],
          "table": [
           {
            "cells": {
             "fill": {
              "color": "#EBF0F8"
             },
             "line": {
              "color": "white"
             }
            },
            "header": {
             "fill": {
              "color": "#C8D4E3"
             },
             "line": {
              "color": "white"
             }
            },
            "type": "table"
           }
          ]
         },
         "layout": {
          "annotationdefaults": {
           "arrowcolor": "#2a3f5f",
           "arrowhead": 0,
           "arrowwidth": 1
          },
          "autotypenumbers": "strict",
          "coloraxis": {
           "colorbar": {
            "outlinewidth": 0,
            "ticks": ""
           }
          },
          "colorscale": {
           "diverging": [
            [
             0,
             "#8e0152"
            ],
            [
             0.1,
             "#c51b7d"
            ],
            [
             0.2,
             "#de77ae"
            ],
            [
             0.3,
             "#f1b6da"
            ],
            [
             0.4,
             "#fde0ef"
            ],
            [
             0.5,
             "#f7f7f7"
            ],
            [
             0.6,
             "#e6f5d0"
            ],
            [
             0.7,
             "#b8e186"
            ],
            [
             0.8,
             "#7fbc41"
            ],
            [
             0.9,
             "#4d9221"
            ],
            [
             1,
             "#276419"
            ]
           ],
           "sequential": [
            [
             0,
             "#0d0887"
            ],
            [
             0.1111111111111111,
             "#46039f"
            ],
            [
             0.2222222222222222,
             "#7201a8"
            ],
            [
             0.3333333333333333,
             "#9c179e"
            ],
            [
             0.4444444444444444,
             "#bd3786"
            ],
            [
             0.5555555555555556,
             "#d8576b"
            ],
            [
             0.6666666666666666,
             "#ed7953"
            ],
            [
             0.7777777777777778,
             "#fb9f3a"
            ],
            [
             0.8888888888888888,
             "#fdca26"
            ],
            [
             1,
             "#f0f921"
            ]
           ],
           "sequentialminus": [
            [
             0,
             "#0d0887"
            ],
            [
             0.1111111111111111,
             "#46039f"
            ],
            [
             0.2222222222222222,
             "#7201a8"
            ],
            [
             0.3333333333333333,
             "#9c179e"
            ],
            [
             0.4444444444444444,
             "#bd3786"
            ],
            [
             0.5555555555555556,
             "#d8576b"
            ],
            [
             0.6666666666666666,
             "#ed7953"
            ],
            [
             0.7777777777777778,
             "#fb9f3a"
            ],
            [
             0.8888888888888888,
             "#fdca26"
            ],
            [
             1,
             "#f0f921"
            ]
           ]
          },
          "colorway": [
           "#636efa",
           "#EF553B",
           "#00cc96",
           "#ab63fa",
           "#FFA15A",
           "#19d3f3",
           "#FF6692",
           "#B6E880",
           "#FF97FF",
           "#FECB52"
          ],
          "font": {
           "color": "#2a3f5f"
          },
          "geo": {
           "bgcolor": "white",
           "lakecolor": "white",
           "landcolor": "#E5ECF6",
           "showlakes": true,
           "showland": true,
           "subunitcolor": "white"
          },
          "hoverlabel": {
           "align": "left"
          },
          "hovermode": "closest",
          "mapbox": {
           "style": "light"
          },
          "paper_bgcolor": "white",
          "plot_bgcolor": "#E5ECF6",
          "polar": {
           "angularaxis": {
            "gridcolor": "white",
            "linecolor": "white",
            "ticks": ""
           },
           "bgcolor": "#E5ECF6",
           "radialaxis": {
            "gridcolor": "white",
            "linecolor": "white",
            "ticks": ""
           }
          },
          "scene": {
           "xaxis": {
            "backgroundcolor": "#E5ECF6",
            "gridcolor": "white",
            "gridwidth": 2,
            "linecolor": "white",
            "showbackground": true,
            "ticks": "",
            "zerolinecolor": "white"
           },
           "yaxis": {
            "backgroundcolor": "#E5ECF6",
            "gridcolor": "white",
            "gridwidth": 2,
            "linecolor": "white",
            "showbackground": true,
            "ticks": "",
            "zerolinecolor": "white"
           },
           "zaxis": {
            "backgroundcolor": "#E5ECF6",
            "gridcolor": "white",
            "gridwidth": 2,
            "linecolor": "white",
            "showbackground": true,
            "ticks": "",
            "zerolinecolor": "white"
           }
          },
          "shapedefaults": {
           "line": {
            "color": "#2a3f5f"
           }
          },
          "ternary": {
           "aaxis": {
            "gridcolor": "white",
            "linecolor": "white",
            "ticks": ""
           },
           "baxis": {
            "gridcolor": "white",
            "linecolor": "white",
            "ticks": ""
           },
           "bgcolor": "#E5ECF6",
           "caxis": {
            "gridcolor": "white",
            "linecolor": "white",
            "ticks": ""
           }
          },
          "title": {
           "x": 0.05
          },
          "xaxis": {
           "automargin": true,
           "gridcolor": "white",
           "linecolor": "white",
           "ticks": "",
           "title": {
            "standoff": 15
           },
           "zerolinecolor": "white",
           "zerolinewidth": 2
          },
          "yaxis": {
           "automargin": true,
           "gridcolor": "white",
           "linecolor": "white",
           "ticks": "",
           "title": {
            "standoff": 15
           },
           "zerolinecolor": "white",
           "zerolinewidth": 2
          }
         }
        },
        "title": {
         "text": "Average Flight Delays by Origin Airport - top 50 more delay overall"
        }
       }
      }
     },
     "metadata": {},
     "output_type": "display_data"
    }
   ],
   "source": [
    "fig = px.scatter_map(\n",
    "    df_map,\n",
    "    lat=\"ORIGIN_LAT\",\n",
    "    lon=\"ORIGIN_LON\",\n",
    "    size=\"DELAY_OVERALL\",\n",
    "    color=\"DELAY_OVERALL\",\n",
    "    hover_name=\"ORIGIN\",\n",
    "    hover_data={\"CANCELLED\": True, \"DIVERTED\": True, \"DELAY_OVERALL\": True},\n",
    "    color_continuous_scale=\"Reds\",\n",
    "    zoom=3,\n",
    "    height=600\n",
    ")\n",
    "\n",
    "fig.update_layout(\n",
    "    map_style=\"open-street-map\",\n",
    "    title=\"Average Flight Delays by Origin Airport - top 50 more delay overall\"\n",
    ")\n",
    "\n",
    "fig.show()"
   ]
  },
  {
   "cell_type": "code",
   "execution_count": 17,
   "id": "df88cd55",
   "metadata": {},
   "outputs": [
    {
     "name": "stdout",
     "output_type": "stream",
     "text": [
      "📊 Estatísticas das 50 rotas:\n",
      "   • Atraso mínimo: 1363.0 min\n",
      "   • Atraso máximo: 2687.0 min\n",
      "   • Atraso médio: 1628.5 min\n"
     ]
    },
    {
     "data": {
      "application/vnd.plotly.v1+json": {
       "config": {
        "plotlyServerURL": "https://plot.ly"
       },
       "data": [
        {
         "customdata": [
          [
           2687
          ]
         ],
         "hovertemplate": "<b>%{text}</b><br>Atraso Médio: <b>%{customdata[0]:.1f} minutos</b><br>Origem: %{lat[0]:.2f}°N, %{lon[0]:.2f}°W<br>Destino: %{lat[1]:.2f}°N, %{lon[1]:.2f}°W<br><extra></extra>",
         "lat": [
          36.12447667,
          35.21401111
         ],
         "line": {
          "color": "rgb(165, 0, 38)",
          "width": 5
         },
         "lon": [
          -86.67818222,
          -80.94312583
         ],
         "marker": {
          "color": "rgb(165, 0, 38)",
          "line": {
           "color": "white",
           "width": 1
          },
          "size": [
           8,
           10
          ],
          "symbol": "circle"
         },
         "mode": "lines+markers",
         "name": "BNA → CLT",
         "showlegend": false,
         "text": "BNA → CLT",
         "type": "scattergeo"
        },
        {
         "customdata": [
          [
           2557
          ]
         ],
         "hovertemplate": "<b>%{text}</b><br>Atraso Médio: <b>%{customdata[0]:.1f} minutos</b><br>Origem: %{lat[0]:.2f}°N, %{lon[0]:.2f}°W<br>Destino: %{lat[1]:.2f}°N, %{lon[1]:.2f}°W<br><extra></extra>",
         "lat": [
          33.67565861,
          40.63975111
         ],
         "line": {
          "color": "rgb(214, 47, 39)",
          "width": 4.607250755287009
         },
         "lon": [
          -117.8682225,
          -73.77892556
         ],
         "marker": {
          "color": "rgb(214, 47, 39)",
          "line": {
           "color": "white",
           "width": 1
          },
          "size": [
           8,
           10
          ],
          "symbol": "circle"
         },
         "mode": "lines+markers",
         "name": "SNA → JFK",
         "showlegend": false,
         "text": "SNA → JFK",
         "type": "scattergeo"
        },
        {
         "customdata": [
          [
           2142
          ]
         ],
         "hovertemplate": "<b>%{text}</b><br>Atraso Médio: <b>%{customdata[0]:.1f} minutos</b><br>Origem: %{lat[0]:.2f}°N, %{lon[0]:.2f}°W<br>Destino: %{lat[1]:.2f}°N, %{lon[1]:.2f}°W<br><extra></extra>",
         "lat": [
          40.78838778,
          33.43416667
         ],
         "line": {
          "color": "rgb(254, 228, 145)",
          "width": 3.3534743202416917
         },
         "lon": [
          -111.9777731,
          -112.0080556
         ],
         "marker": {
          "color": "rgb(254, 228, 145)",
          "line": {
           "color": "white",
           "width": 1
          },
          "size": [
           8,
           10
          ],
          "symbol": "circle"
         },
         "mode": "lines+markers",
         "name": "SLC → PHX",
         "showlegend": false,
         "text": "SLC → PHX",
         "type": "scattergeo"
        },
        {
         "customdata": [
          [
           2078
          ]
         ],
         "hovertemplate": "<b>%{text}</b><br>Atraso Médio: <b>%{customdata[0]:.1f} minutos</b><br>Origem: %{lat[0]:.2f}°N, %{lon[0]:.2f}°W<br>Destino: %{lat[1]:.2f}°N, %{lon[1]:.2f}°W<br><extra></extra>",
         "lat": [
          41.979595,
          33.94253611
         ],
         "line": {
          "color": "rgb(255, 243, 170)",
          "width": 3.1601208459214503
         },
         "lon": [
          -87.90446417,
          -118.4080744
         ],
         "marker": {
          "color": "rgb(255, 243, 170)",
          "line": {
           "color": "white",
           "width": 1
          },
          "size": [
           8,
           10
          ],
          "symbol": "circle"
         },
         "mode": "lines+markers",
         "name": "ORD → LAX",
         "showlegend": false,
         "text": "ORD → LAX",
         "type": "scattergeo"
        },
        {
         "customdata": [
          [
           2027
          ]
         ],
         "hovertemplate": "<b>%{text}</b><br>Atraso Médio: <b>%{customdata[0]:.1f} minutos</b><br>Origem: %{lat[0]:.2f}°N, %{lon[0]:.2f}°W<br>Destino: %{lat[1]:.2f}°N, %{lon[1]:.2f}°W<br><extra></extra>",
         "lat": [
          33.94253611,
          32.89595056
         ],
         "line": {
          "color": "rgb(255, 255, 190)",
          "width": 3.0060422960725077
         },
         "lon": [
          -118.4080744,
          -97.0372
         ],
         "marker": {
          "color": "rgb(255, 255, 190)",
          "line": {
           "color": "white",
           "width": 1
          },
          "size": [
           8,
           10
          ],
          "symbol": "circle"
         },
         "mode": "lines+markers",
         "name": "LAX → DFW",
         "showlegend": false,
         "text": "LAX → DFW",
         "type": "scattergeo"
        },
        {
         "customdata": [
          [
           1994
          ]
         ],
         "hovertemplate": "<b>%{text}</b><br>Atraso Médio: <b>%{customdata[0]:.1f} minutos</b><br>Origem: %{lat[0]:.2f}°N, %{lon[0]:.2f}°W<br>Destino: %{lat[1]:.2f}°N, %{lon[1]:.2f}°W<br><extra></extra>",
         "lat": [
          26.68316194,
          35.21401111
         ],
         "line": {
          "color": "rgb(246, 251, 179)",
          "width": 2.906344410876133
         },
         "lon": [
          -80.09559417,
          -80.94312583
         ],
         "marker": {
          "color": "rgb(246, 251, 179)",
          "line": {
           "color": "white",
           "width": 1
          },
          "size": [
           8,
           10
          ],
          "symbol": "circle"
         },
         "mode": "lines+markers",
         "name": "PBI → CLT",
         "showlegend": false,
         "text": "PBI → CLT",
         "type": "scattergeo"
        },
        {
         "customdata": [
          [
           1877
          ]
         ],
         "hovertemplate": "<b>%{text}</b><br>Atraso Médio: <b>%{customdata[0]:.1f} minutos</b><br>Origem: %{lat[0]:.2f}°N, %{lon[0]:.2f}°W<br>Destino: %{lat[1]:.2f}°N, %{lon[1]:.2f}°W<br><extra></extra>",
         "lat": [
          38.74768694,
          39.87195278
         ],
         "line": {
          "color": "rgb(211, 236, 135)",
          "width": 2.552870090634441
         },
         "lon": [
          -90.35998972,
          -75.24114083
         ],
         "marker": {
          "color": "rgb(211, 236, 135)",
          "line": {
           "color": "white",
           "width": 1
          },
          "size": [
           8,
           10
          ],
          "symbol": "circle"
         },
         "mode": "lines+markers",
         "name": "STL → PHL",
         "showlegend": false,
         "text": "STL → PHL",
         "type": "scattergeo"
        },
        {
         "customdata": [
          [
           1775
          ]
         ],
         "hovertemplate": "<b>%{text}</b><br>Atraso Médio: <b>%{customdata[0]:.1f} minutos</b><br>Origem: %{lat[0]:.2f}°N, %{lon[0]:.2f}°W<br>Destino: %{lat[1]:.2f}°N, %{lon[1]:.2f}°W<br><extra></extra>",
         "lat": [
          42.21205889,
          33.43416667
         ],
         "line": {
          "color": "rgb(172, 219, 110)",
          "width": 2.2447129909365557
         },
         "lon": [
          -83.34883583,
          -112.0080556
         ],
         "marker": {
          "color": "rgb(172, 219, 110)",
          "line": {
           "color": "white",
           "width": 1
          },
          "size": [
           8,
           10
          ],
          "symbol": "circle"
         },
         "mode": "lines+markers",
         "name": "DTW → PHX",
         "showlegend": false,
         "text": "DTW → PHX",
         "type": "scattergeo"
        },
        {
         "customdata": [
          [
           1755
          ]
         ],
         "hovertemplate": "<b>%{text}</b><br>Atraso Médio: <b>%{customdata[0]:.1f} minutos</b><br>Origem: %{lat[0]:.2f}°N, %{lon[0]:.2f}°W<br>Destino: %{lat[1]:.2f}°N, %{lon[1]:.2f}°W<br><extra></extra>",
         "lat": [
          47.949255,
          28.77764
         ],
         "line": {
          "color": "rgb(163, 216, 106)",
          "width": 2.1842900302114803
         },
         "lon": [
          -97.17611111,
          -81.23748944
         ],
         "marker": {
          "color": "rgb(163, 216, 106)",
          "line": {
           "color": "white",
           "width": 1
          },
          "size": [
           8,
           10
          ],
          "symbol": "circle"
         },
         "mode": "lines+markers",
         "name": "GFK → SFB",
         "showlegend": false,
         "text": "GFK → SFB",
         "type": "scattergeo"
        },
        {
         "customdata": [
          [
           1740
          ]
         ],
         "hovertemplate": "<b>%{text}</b><br>Atraso Médio: <b>%{customdata[0]:.1f} minutos</b><br>Origem: %{lat[0]:.2f}°N, %{lon[0]:.2f}°W<br>Destino: %{lat[1]:.2f}°N, %{lon[1]:.2f}°W<br><extra></extra>",
         "lat": [
          41.06695778,
          38.85208333
         ],
         "line": {
          "color": "rgb(156, 213, 105)",
          "width": 2.1389728096676737
         },
         "lon": [
          -73.70757444,
          -77.03772222
         ],
         "marker": {
          "color": "rgb(156, 213, 105)",
          "line": {
           "color": "white",
           "width": 1
          },
          "size": [
           8,
           10
          ],
          "symbol": "circle"
         },
         "mode": "lines+markers",
         "name": "HPN → DCA",
         "showlegend": false,
         "text": "HPN → DCA",
         "type": "scattergeo"
        },
        {
         "customdata": [
          [
           1736
          ]
         ],
         "hovertemplate": "<b>%{text}</b><br>Atraso Médio: <b>%{customdata[0]:.1f} minutos</b><br>Origem: %{lat[0]:.2f}°N, %{lon[0]:.2f}°W<br>Destino: %{lat[1]:.2f}°N, %{lon[1]:.2f}°W<br><extra></extra>",
         "lat": [
          28.77764,
          47.949255
         ],
         "line": {
          "color": "rgb(154, 212, 105)",
          "width": 2.1268882175226587
         },
         "lon": [
          -81.23748944,
          -97.17611111
         ],
         "marker": {
          "color": "rgb(154, 212, 105)",
          "line": {
           "color": "white",
           "width": 1
          },
          "size": [
           8,
           10
          ],
          "symbol": "circle"
         },
         "mode": "lines+markers",
         "name": "SFB → GFK",
         "showlegend": false,
         "text": "SFB → GFK",
         "type": "scattergeo"
        },
        {
         "customdata": [
          [
           1729
          ]
         ],
         "hovertemplate": "<b>%{text}</b><br>Atraso Médio: <b>%{customdata[0]:.1f} minutos</b><br>Origem: %{lat[0]:.2f}°N, %{lon[0]:.2f}°W<br>Destino: %{lat[1]:.2f}°N, %{lon[1]:.2f}°W<br><extra></extra>",
         "lat": [
          39.71732917,
          32.89595056
         ],
         "line": {
          "color": "rgb(151, 210, 104)",
          "width": 2.105740181268882
         },
         "lon": [
          -86.29438417,
          -97.0372
         ],
         "marker": {
          "color": "rgb(151, 210, 104)",
          "line": {
           "color": "white",
           "width": 1
          },
          "size": [
           8,
           10
          ],
          "symbol": "circle"
         },
         "mode": "lines+markers",
         "name": "IND → DFW",
         "showlegend": false,
         "text": "IND → DFW",
         "type": "scattergeo"
        },
        {
         "customdata": [
          [
           1716
          ]
         ],
         "hovertemplate": "<b>%{text}</b><br>Atraso Médio: <b>%{customdata[0]:.1f} minutos</b><br>Origem: %{lat[0]:.2f}°N, %{lon[0]:.2f}°W<br>Destino: %{lat[1]:.2f}°N, %{lon[1]:.2f}°W<br><extra></extra>",
         "lat": [
          44.88054694,
          40.63975111
         ],
         "line": {
          "color": "rgb(145, 208, 104)",
          "width": 2.066465256797583
         },
         "lon": [
          -93.2169225,
          -73.77892556
         ],
         "marker": {
          "color": "rgb(145, 208, 104)",
          "line": {
           "color": "white",
           "width": 1
          },
          "size": [
           8,
           10
          ],
          "symbol": "circle"
         },
         "mode": "lines+markers",
         "name": "MSP → JFK",
         "showlegend": false,
         "text": "MSP → JFK",
         "type": "scattergeo"
        },
        {
         "customdata": [
          [
           1688
          ]
         ],
         "hovertemplate": "<b>%{text}</b><br>Atraso Médio: <b>%{customdata[0]:.1f} minutos</b><br>Origem: %{lat[0]:.2f}°N, %{lon[0]:.2f}°W<br>Destino: %{lat[1]:.2f}°N, %{lon[1]:.2f}°W<br><extra></extra>",
         "lat": [
          35.04241667,
          33.43416667
         ],
         "line": {
          "color": "rgb(131, 202, 102)",
          "width": 1.9818731117824773
         },
         "lon": [
          -89.97666667,
          -112.0080556
         ],
         "marker": {
          "color": "rgb(131, 202, 102)",
          "line": {
           "color": "white",
           "width": 1
          },
          "size": [
           8,
           10
          ],
          "symbol": "circle"
         },
         "mode": "lines+markers",
         "name": "MEM → PHX",
         "showlegend": false,
         "text": "MEM → PHX",
         "type": "scattergeo"
        },
        {
         "customdata": [
          [
           1686
          ]
         ],
         "hovertemplate": "<b>%{text}</b><br>Atraso Médio: <b>%{customdata[0]:.1f} minutos</b><br>Origem: %{lat[0]:.2f}°N, %{lon[0]:.2f}°W<br>Destino: %{lat[1]:.2f}°N, %{lon[1]:.2f}°W<br><extra></extra>",
         "lat": [
          39.71732917,
          35.21401111
         ],
         "line": {
          "color": "rgb(130, 201, 102)",
          "width": 1.9758308157099698
         },
         "lon": [
          -86.29438417,
          -80.94312583
         ],
         "marker": {
          "color": "rgb(130, 201, 102)",
          "line": {
           "color": "white",
           "width": 1
          },
          "size": [
           8,
           10
          ],
          "symbol": "circle"
         },
         "mode": "lines+markers",
         "name": "IND → CLT",
         "showlegend": false,
         "text": "IND → CLT",
         "type": "scattergeo"
        },
        {
         "customdata": [
          [
           1675
          ]
         ],
         "hovertemplate": "<b>%{text}</b><br>Atraso Médio: <b>%{customdata[0]:.1f} minutos</b><br>Origem: %{lat[0]:.2f}°N, %{lon[0]:.2f}°W<br>Destino: %{lat[1]:.2f}°N, %{lon[1]:.2f}°W<br><extra></extra>",
         "lat": [
          36.08036111,
          35.21401111
         ],
         "line": {
          "color": "rgb(125, 199, 101)",
          "width": 1.9425981873111784
         },
         "lon": [
          -115.1523333,
          -80.94312583
         ],
         "marker": {
          "color": "rgb(125, 199, 101)",
          "line": {
           "color": "white",
           "width": 1
          },
          "size": [
           8,
           10
          ],
          "symbol": "circle"
         },
         "mode": "lines+markers",
         "name": "LAS → CLT",
         "showlegend": false,
         "text": "LAS → CLT",
         "type": "scattergeo"
        },
        {
         "customdata": [
          [
           1653
          ]
         ],
         "hovertemplate": "<b>%{text}</b><br>Atraso Médio: <b>%{customdata[0]:.1f} minutos</b><br>Origem: %{lat[0]:.2f}°N, %{lon[0]:.2f}°W<br>Destino: %{lat[1]:.2f}°N, %{lon[1]:.2f}°W<br><extra></extra>",
         "lat": [
          43.13985778,
          42.21205889
         ],
         "line": {
          "color": "rgb(114, 194, 100)",
          "width": 1.8761329305135952
         },
         "lon": [
          -89.33751361,
          -83.34883583
         ],
         "marker": {
          "color": "rgb(114, 194, 100)",
          "line": {
           "color": "white",
           "width": 1
          },
          "size": [
           8,
           10
          ],
          "symbol": "circle"
         },
         "mode": "lines+markers",
         "name": "MSN → DTW",
         "showlegend": false,
         "text": "MSN → DTW",
         "type": "scattergeo"
        },
        {
         "customdata": [
          [
           1648
          ]
         ],
         "hovertemplate": "<b>%{text}</b><br>Atraso Médio: <b>%{customdata[0]:.1f} minutos</b><br>Origem: %{lat[0]:.2f}°N, %{lon[0]:.2f}°W<br>Destino: %{lat[1]:.2f}°N, %{lon[1]:.2f}°W<br><extra></extra>",
         "lat": [
          35.04022222,
          32.89595056
         ],
         "line": {
          "color": "rgb(112, 193, 100)",
          "width": 1.8610271903323263
         },
         "lon": [
          -106.6091944,
          -97.0372
         ],
         "marker": {
          "color": "rgb(112, 193, 100)",
          "line": {
           "color": "white",
           "width": 1
          },
          "size": [
           8,
           10
          ],
          "symbol": "circle"
         },
         "mode": "lines+markers",
         "name": "ABQ → DFW",
         "showlegend": false,
         "text": "ABQ → DFW",
         "type": "scattergeo"
        },
        {
         "customdata": [
          [
           1627
          ]
         ],
         "hovertemplate": "<b>%{text}</b><br>Atraso Médio: <b>%{customdata[0]:.1f} minutos</b><br>Origem: %{lat[0]:.2f}°N, %{lon[0]:.2f}°W<br>Destino: %{lat[1]:.2f}°N, %{lon[1]:.2f}°W<br><extra></extra>",
         "lat": [
          43.13985778,
          32.89595056
         ],
         "line": {
          "color": "rgb(102, 189, 99)",
          "width": 1.797583081570997
         },
         "lon": [
          -89.33751361,
          -97.0372
         ],
         "marker": {
          "color": "rgb(102, 189, 99)",
          "line": {
           "color": "white",
           "width": 1
          },
          "size": [
           8,
           10
          ],
          "symbol": "circle"
         },
         "mode": "lines+markers",
         "name": "MSN → DFW",
         "showlegend": false,
         "text": "MSN → DFW",
         "type": "scattergeo"
        },
        {
         "customdata": [
          [
           1588.5
          ]
         ],
         "hovertemplate": "<b>%{text}</b><br>Atraso Médio: <b>%{customdata[0]:.1f} minutos</b><br>Origem: %{lat[0]:.2f}°N, %{lon[0]:.2f}°W<br>Destino: %{lat[1]:.2f}°N, %{lon[1]:.2f}°W<br><extra></extra>",
         "lat": [
          35.2193725,
          32.89595056
         ],
         "line": {
          "color": "rgb(79, 178, 93)",
          "width": 1.6812688821752266
         },
         "lon": [
          -101.7059272,
          -97.0372
         ],
         "marker": {
          "color": "rgb(79, 178, 93)",
          "line": {
           "color": "white",
           "width": 1
          },
          "size": [
           8,
           10
          ],
          "symbol": "circle"
         },
         "mode": "lines+markers",
         "name": "AMA → DFW",
         "showlegend": false,
         "text": "AMA → DFW",
         "type": "scattergeo"
        },
        {
         "customdata": [
          [
           1581
          ]
         ],
         "hovertemplate": "<b>%{text}</b><br>Atraso Médio: <b>%{customdata[0]:.1f} minutos</b><br>Origem: %{lat[0]:.2f}°N, %{lon[0]:.2f}°W<br>Destino: %{lat[1]:.2f}°N, %{lon[1]:.2f}°W<br><extra></extra>",
         "lat": [
          34.42621194,
          32.89595056
         ],
         "line": {
          "color": "rgb(75, 176, 92)",
          "width": 1.6586102719033233
         },
         "lon": [
          -119.8403733,
          -97.0372
         ],
         "marker": {
          "color": "rgb(75, 176, 92)",
          "line": {
           "color": "white",
           "width": 1
          },
          "size": [
           8,
           10
          ],
          "symbol": "circle"
         },
         "mode": "lines+markers",
         "name": "SBA → DFW",
         "showlegend": false,
         "text": "SBA → DFW",
         "type": "scattergeo"
        },
        {
         "customdata": [
          [
           1580
          ]
         ],
         "hovertemplate": "<b>%{text}</b><br>Atraso Médio: <b>%{customdata[0]:.1f} minutos</b><br>Origem: %{lat[0]:.2f}°N, %{lon[0]:.2f}°W<br>Destino: %{lat[1]:.2f}°N, %{lon[1]:.2f}°W<br><extra></extra>",
         "lat": [
          41.30251861,
          35.21401111
         ],
         "line": {
          "color": "rgb(75, 176, 92)",
          "width": 1.6555891238670695
         },
         "lon": [
          -95.89417306,
          -80.94312583
         ],
         "marker": {
          "color": "rgb(75, 176, 92)",
          "line": {
           "color": "white",
           "width": 1
          },
          "size": [
           8,
           10
          ],
          "symbol": "circle"
         },
         "mode": "lines+markers",
         "name": "OMA → CLT",
         "showlegend": false,
         "text": "OMA → CLT",
         "type": "scattergeo"
        },
        {
         "customdata": [
          [
           1579
          ]
         ],
         "hovertemplate": "<b>%{text}</b><br>Atraso Médio: <b>%{customdata[0]:.1f} minutos</b><br>Origem: %{lat[0]:.2f}°N, %{lon[0]:.2f}°W<br>Destino: %{lat[1]:.2f}°N, %{lon[1]:.2f}°W<br><extra></extra>",
         "lat": [
          47.44898194,
          33.43416667
         ],
         "line": {
          "color": "rgb(74, 175, 92)",
          "width": 1.6525679758308156
         },
         "lon": [
          -122.3093131,
          -112.0080556
         ],
         "marker": {
          "color": "rgb(74, 175, 92)",
          "line": {
           "color": "white",
           "width": 1
          },
          "size": [
           8,
           10
          ],
          "symbol": "circle"
         },
         "mode": "lines+markers",
         "name": "SEA → PHX",
         "showlegend": false,
         "text": "SEA → PHX",
         "type": "scattergeo"
        },
        {
         "customdata": [
          [
           1566
          ]
         ],
         "hovertemplate": "<b>%{text}</b><br>Atraso Médio: <b>%{customdata[0]:.1f} minutos</b><br>Origem: %{lat[0]:.2f}°N, %{lon[0]:.2f}°W<br>Destino: %{lat[1]:.2f}°N, %{lon[1]:.2f}°W<br><extra></extra>",
         "lat": [
          42.94052472,
          35.21401111
         ],
         "line": {
          "color": "rgb(67, 172, 90)",
          "width": 1.6132930513595167
         },
         "lon": [
          -78.73216667,
          -80.94312583
         ],
         "marker": {
          "color": "rgb(67, 172, 90)",
          "line": {
           "color": "white",
           "width": 1
          },
          "size": [
           8,
           10
          ],
          "symbol": "circle"
         },
         "mode": "lines+markers",
         "name": "BUF → CLT",
         "showlegend": false,
         "text": "BUF → CLT",
         "type": "scattergeo"
        },
        {
         "customdata": [
          [
           1561
          ]
         ],
         "hovertemplate": "<b>%{text}</b><br>Atraso Médio: <b>%{customdata[0]:.1f} minutos</b><br>Origem: %{lat[0]:.2f}°N, %{lon[0]:.2f}°W<br>Destino: %{lat[1]:.2f}°N, %{lon[1]:.2f}°W<br><extra></extra>",
         "lat": [
          41.30251861,
          32.89595056
         ],
         "line": {
          "color": "rgb(64, 170, 89)",
          "width": 1.5981873111782479
         },
         "lon": [
          -95.89417306,
          -97.0372
         ],
         "marker": {
          "color": "rgb(64, 170, 89)",
          "line": {
           "color": "white",
           "width": 1
          },
          "size": [
           8,
           10
          ],
          "symbol": "circle"
         },
         "mode": "lines+markers",
         "name": "OMA → DFW",
         "showlegend": false,
         "text": "OMA → DFW",
         "type": "scattergeo"
        },
        {
         "customdata": [
          [
           1559
          ]
         ],
         "hovertemplate": "<b>%{text}</b><br>Atraso Médio: <b>%{customdata[0]:.1f} minutos</b><br>Origem: %{lat[0]:.2f}°N, %{lon[0]:.2f}°W<br>Destino: %{lat[1]:.2f}°N, %{lon[1]:.2f}°W<br><extra></extra>",
         "lat": [
          42.94052472,
          28.42888889
         ],
         "line": {
          "color": "rgb(63, 170, 89)",
          "width": 1.5921450151057401
         },
         "lon": [
          -78.73216667,
          -81.31602778
         ],
         "marker": {
          "color": "rgb(63, 170, 89)",
          "line": {
           "color": "white",
           "width": 1
          },
          "size": [
           8,
           10
          ],
          "symbol": "circle"
         },
         "mode": "lines+markers",
         "name": "BUF → MCO",
         "showlegend": false,
         "text": "BUF → MCO",
         "type": "scattergeo"
        },
        {
         "customdata": [
          [
           1554
          ]
         ],
         "hovertemplate": "<b>%{text}</b><br>Atraso Médio: <b>%{customdata[0]:.1f} minutos</b><br>Origem: %{lat[0]:.2f}°N, %{lon[0]:.2f}°W<br>Destino: %{lat[1]:.2f}°N, %{lon[1]:.2f}°W<br><extra></extra>",
         "lat": [
          42.88081972,
          32.89595056
         ],
         "line": {
          "color": "rgb(60, 168, 88)",
          "width": 1.5770392749244713
         },
         "lon": [
          -85.52276778,
          -97.0372
         ],
         "marker": {
          "color": "rgb(60, 168, 88)",
          "line": {
           "color": "white",
           "width": 1
          },
          "size": [
           8,
           10
          ],
          "symbol": "circle"
         },
         "mode": "lines+markers",
         "name": "GRR → DFW",
         "showlegend": false,
         "text": "GRR → DFW",
         "type": "scattergeo"
        },
        {
         "customdata": [
          [
           1525
          ]
         ],
         "hovertemplate": "<b>%{text}</b><br>Atraso Médio: <b>%{customdata[0]:.1f} minutos</b><br>Origem: %{lat[0]:.2f}°N, %{lon[0]:.2f}°W<br>Destino: %{lat[1]:.2f}°N, %{lon[1]:.2f}°W<br><extra></extra>",
         "lat": [
          42.3643475,
          30.48325
         ],
         "line": {
          "color": "rgb(43, 160, 84)",
          "width": 1.4894259818731117
         },
         "lon": [
          -71.00517917,
          -86.5254
         ],
         "marker": {
          "color": "rgb(43, 160, 84)",
          "line": {
           "color": "white",
           "width": 1
          },
          "size": [
           8,
           10
          ],
          "symbol": "circle"
         },
         "mode": "lines+markers",
         "name": "BOS → VPS",
         "showlegend": false,
         "text": "BOS → VPS",
         "type": "scattergeo"
        },
        {
         "customdata": [
          [
           1514
          ]
         ],
         "hovertemplate": "<b>%{text}</b><br>Atraso Médio: <b>%{customdata[0]:.1f} minutos</b><br>Origem: %{lat[0]:.2f}°N, %{lon[0]:.2f}°W<br>Destino: %{lat[1]:.2f}°N, %{lon[1]:.2f}°W<br><extra></extra>",
         "lat": [
          27.39533333,
          35.21401111
         ],
         "line": {
          "color": "rgb(37, 157, 83)",
          "width": 1.4561933534743203
         },
         "lon": [
          -82.55411111,
          -80.94312583
         ],
         "marker": {
          "color": "rgb(37, 157, 83)",
          "line": {
           "color": "white",
           "width": 1
          },
          "size": [
           8,
           10
          ],
          "symbol": "circle"
         },
         "mode": "lines+markers",
         "name": "SRQ → CLT",
         "showlegend": false,
         "text": "SRQ → CLT",
         "type": "scattergeo"
        },
        {
         "customdata": [
          [
           1505
          ]
         ],
         "hovertemplate": "<b>%{text}</b><br>Atraso Médio: <b>%{customdata[0]:.1f} minutos</b><br>Origem: %{lat[0]:.2f}°N, %{lon[0]:.2f}°W<br>Destino: %{lat[1]:.2f}°N, %{lon[1]:.2f}°W<br><extra></extra>",
         "lat": [
          43.13985778,
          35.21401111
         ],
         "line": {
          "color": "rgb(32, 155, 81)",
          "width": 1.4290030211480362
         },
         "lon": [
          -89.33751361,
          -80.94312583
         ],
         "marker": {
          "color": "rgb(32, 155, 81)",
          "line": {
           "color": "white",
           "width": 1
          },
          "size": [
           8,
           10
          ],
          "symbol": "circle"
         },
         "mode": "lines+markers",
         "name": "MSN → CLT",
         "showlegend": false,
         "text": "MSN → CLT",
         "type": "scattergeo"
        },
        {
         "customdata": [
          [
           1496
          ]
         ],
         "hovertemplate": "<b>%{text}</b><br>Atraso Médio: <b>%{customdata[0]:.1f} minutos</b><br>Origem: %{lat[0]:.2f}°N, %{lon[0]:.2f}°W<br>Destino: %{lat[1]:.2f}°N, %{lon[1]:.2f}°W<br><extra></extra>",
         "lat": [
          30.48325,
          42.3643475
         ],
         "line": {
          "color": "rgb(26, 152, 80)",
          "width": 1.4018126888217521
         },
         "lon": [
          -86.5254,
          -71.00517917
         ],
         "marker": {
          "color": "rgb(26, 152, 80)",
          "line": {
           "color": "white",
           "width": 1
          },
          "size": [
           8,
           10
          ],
          "symbol": "circle"
         },
         "mode": "lines+markers",
         "name": "VPS → BOS",
         "showlegend": false,
         "text": "VPS → BOS",
         "type": "scattergeo"
        },
        {
         "customdata": [
          [
           1488
          ]
         ],
         "hovertemplate": "<b>%{text}</b><br>Atraso Médio: <b>%{customdata[0]:.1f} minutos</b><br>Origem: %{lat[0]:.2f}°N, %{lon[0]:.2f}°W<br>Destino: %{lat[1]:.2f}°N, %{lon[1]:.2f}°W<br><extra></extra>",
         "lat": [
          43.58135111,
          26.92019444
         ],
         "line": {
          "color": "rgb(25, 149, 79)",
          "width": 1.3776435045317221
         },
         "lon": [
          -96.74170028,
          -81.99052778
         ],
         "marker": {
          "color": "rgb(25, 149, 79)",
          "line": {
           "color": "white",
           "width": 1
          },
          "size": [
           8,
           10
          ],
          "symbol": "circle"
         },
         "mode": "lines+markers",
         "name": "FSD → PGD",
         "showlegend": false,
         "text": "FSD → PGD",
         "type": "scattergeo"
        },
        {
         "customdata": [
          [
           1482
          ]
         ],
         "hovertemplate": "<b>%{text}</b><br>Atraso Médio: <b>%{customdata[0]:.1f} minutos</b><br>Origem: %{lat[0]:.2f}°N, %{lon[0]:.2f}°W<br>Destino: %{lat[1]:.2f}°N, %{lon[1]:.2f}°W<br><extra></extra>",
         "lat": [
          36.28186944,
          33.94253611
         ],
         "line": {
          "color": "rgb(23, 147, 77)",
          "width": 1.3595166163141994
         },
         "lon": [
          -94.30681111,
          -118.4080744
         ],
         "marker": {
          "color": "rgb(23, 147, 77)",
          "line": {
           "color": "white",
           "width": 1
          },
          "size": [
           8,
           10
          ],
          "symbol": "circle"
         },
         "mode": "lines+markers",
         "name": "XNA → LAX",
         "showlegend": false,
         "text": "XNA → LAX",
         "type": "scattergeo"
        },
        {
         "customdata": [
          [
           1473
          ]
         ],
         "hovertemplate": "<b>%{text}</b><br>Atraso Médio: <b>%{customdata[0]:.1f} minutos</b><br>Origem: %{lat[0]:.2f}°N, %{lon[0]:.2f}°W<br>Destino: %{lat[1]:.2f}°N, %{lon[1]:.2f}°W<br><extra></extra>",
         "lat": [
          33.45370806,
          32.89595056
         ],
         "line": {
          "color": "rgb(22, 144, 76)",
          "width": 1.3323262839879155
         },
         "lon": [
          -93.99102,
          -97.0372
         ],
         "marker": {
          "color": "rgb(22, 144, 76)",
          "line": {
           "color": "white",
           "width": 1
          },
          "size": [
           8,
           10
          ],
          "symbol": "circle"
         },
         "mode": "lines+markers",
         "name": "TXK → DFW",
         "showlegend": false,
         "text": "TXK → DFW",
         "type": "scattergeo"
        },
        {
         "customdata": [
          [
           1472
          ]
         ],
         "hovertemplate": "<b>%{text}</b><br>Atraso Médio: <b>%{customdata[0]:.1f} minutos</b><br>Origem: %{lat[0]:.2f}°N, %{lon[0]:.2f}°W<br>Destino: %{lat[1]:.2f}°N, %{lon[1]:.2f}°W<br><extra></extra>",
         "lat": [
          39.99798528,
          35.21401111
         ],
         "line": {
          "color": "rgb(21, 144, 76)",
          "width": 1.3293051359516617
         },
         "lon": [
          -82.89188278,
          -80.94312583
         ],
         "marker": {
          "color": "rgb(21, 144, 76)",
          "line": {
           "color": "white",
           "width": 1
          },
          "size": [
           8,
           10
          ],
          "symbol": "circle"
         },
         "mode": "lines+markers",
         "name": "CMH → CLT",
         "showlegend": false,
         "text": "CMH → CLT",
         "type": "scattergeo"
        },
        {
         "customdata": [
          [
           1467
          ]
         ],
         "hovertemplate": "<b>%{text}</b><br>Atraso Médio: <b>%{customdata[0]:.1f} minutos</b><br>Origem: %{lat[0]:.2f}°N, %{lon[0]:.2f}°W<br>Destino: %{lat[1]:.2f}°N, %{lon[1]:.2f}°W<br><extra></extra>",
         "lat": [
          43.58135111,
          27.91076333
         ],
         "line": {
          "color": "rgb(20, 142, 75)",
          "width": 1.3141993957703928
         },
         "lon": [
          -96.74170028,
          -82.68743944
         ],
         "marker": {
          "color": "rgb(20, 142, 75)",
          "line": {
           "color": "white",
           "width": 1
          },
          "size": [
           8,
           10
          ],
          "symbol": "circle"
         },
         "mode": "lines+markers",
         "name": "FSD → PIE",
         "showlegend": false,
         "text": "FSD → PIE",
         "type": "scattergeo"
        },
        {
         "customdata": [
          [
           1467
          ]
         ],
         "hovertemplate": "<b>%{text}</b><br>Atraso Médio: <b>%{customdata[0]:.1f} minutos</b><br>Origem: %{lat[0]:.2f}°N, %{lon[0]:.2f}°W<br>Destino: %{lat[1]:.2f}°N, %{lon[1]:.2f}°W<br><extra></extra>",
         "lat": [
          40.03925,
          41.979595
         ],
         "line": {
          "color": "rgb(20, 142, 75)",
          "width": 1.3141993957703928
         },
         "lon": [
          -88.27805556,
          -87.90446417
         ],
         "marker": {
          "color": "rgb(20, 142, 75)",
          "line": {
           "color": "white",
           "width": 1
          },
          "size": [
           8,
           10
          ],
          "symbol": "circle"
         },
         "mode": "lines+markers",
         "name": "CMI → ORD",
         "showlegend": false,
         "text": "CMI → ORD",
         "type": "scattergeo"
        },
        {
         "customdata": [
          [
           1434
          ]
         ],
         "hovertemplate": "<b>%{text}</b><br>Atraso Médio: <b>%{customdata[0]:.1f} minutos</b><br>Origem: %{lat[0]:.2f}°N, %{lon[0]:.2f}°W<br>Destino: %{lat[1]:.2f}°N, %{lon[1]:.2f}°W<br><extra></extra>",
         "lat": [
          35.21401111,
          26.07258333
         ],
         "line": {
          "color": "rgb(14, 130, 68)",
          "width": 1.214501510574018
         },
         "lon": [
          -80.94312583,
          -80.15275
         ],
         "marker": {
          "color": "rgb(14, 130, 68)",
          "line": {
           "color": "white",
           "width": 1
          },
          "size": [
           8,
           10
          ],
          "symbol": "circle"
         },
         "mode": "lines+markers",
         "name": "CLT → FLL",
         "showlegend": false,
         "text": "CLT → FLL",
         "type": "scattergeo"
        },
        {
         "customdata": [
          [
           1429
          ]
         ],
         "hovertemplate": "<b>%{text}</b><br>Atraso Médio: <b>%{customdata[0]:.1f} minutos</b><br>Origem: %{lat[0]:.2f}°N, %{lon[0]:.2f}°W<br>Destino: %{lat[1]:.2f}°N, %{lon[1]:.2f}°W<br><extra></extra>",
         "lat": [
          43.11118694,
          27.91076333
         ],
         "line": {
          "color": "rgb(13, 128, 67)",
          "width": 1.1993957703927491
         },
         "lon": [
          -76.10631056,
          -82.68743944
         ],
         "marker": {
          "color": "rgb(13, 128, 67)",
          "line": {
           "color": "white",
           "width": 1
          },
          "size": [
           8,
           10
          ],
          "symbol": "circle"
         },
         "mode": "lines+markers",
         "name": "SYR → PIE",
         "showlegend": false,
         "text": "SYR → PIE",
         "type": "scattergeo"
        },
        {
         "customdata": [
          [
           1425
          ]
         ],
         "hovertemplate": "<b>%{text}</b><br>Atraso Médio: <b>%{customdata[0]:.1f} minutos</b><br>Origem: %{lat[0]:.2f}°N, %{lon[0]:.2f}°W<br>Destino: %{lat[1]:.2f}°N, %{lon[1]:.2f}°W<br><extra></extra>",
         "lat": [
          43.11118694,
          32.89595056
         ],
         "line": {
          "color": "rgb(12, 126, 67)",
          "width": 1.1873111782477341
         },
         "lon": [
          -76.10631056,
          -97.0372
         ],
         "marker": {
          "color": "rgb(12, 126, 67)",
          "line": {
           "color": "white",
           "width": 1
          },
          "size": [
           8,
           10
          ],
          "symbol": "circle"
         },
         "mode": "lines+markers",
         "name": "SYR → DFW",
         "showlegend": false,
         "text": "SYR → DFW",
         "type": "scattergeo"
        },
        {
         "customdata": [
          [
           1418
          ]
         ],
         "hovertemplate": "<b>%{text}</b><br>Atraso Médio: <b>%{customdata[0]:.1f} minutos</b><br>Origem: %{lat[0]:.2f}°N, %{lon[0]:.2f}°W<br>Destino: %{lat[1]:.2f}°N, %{lon[1]:.2f}°W<br><extra></extra>",
         "lat": [
          25.79325,
          39.64256778
         ],
         "line": {
          "color": "rgb(11, 124, 65)",
          "width": 1.1661631419939578
         },
         "lon": [
          -80.29055556,
          -106.9176953
         ],
         "marker": {
          "color": "rgb(11, 124, 65)",
          "line": {
           "color": "white",
           "width": 1
          },
          "size": [
           8,
           10
          ],
          "symbol": "circle"
         },
         "mode": "lines+markers",
         "name": "MIA → EGE",
         "showlegend": false,
         "text": "MIA → EGE",
         "type": "scattergeo"
        },
        {
         "customdata": [
          [
           1418
          ]
         ],
         "hovertemplate": "<b>%{text}</b><br>Atraso Médio: <b>%{customdata[0]:.1f} minutos</b><br>Origem: %{lat[0]:.2f}°N, %{lon[0]:.2f}°W<br>Destino: %{lat[1]:.2f}°N, %{lon[1]:.2f}°W<br><extra></extra>",
         "lat": [
          27.91076333,
          43.58135111
         ],
         "line": {
          "color": "rgb(11, 124, 65)",
          "width": 1.1661631419939578
         },
         "lon": [
          -82.68743944,
          -96.74170028
         ],
         "marker": {
          "color": "rgb(11, 124, 65)",
          "line": {
           "color": "white",
           "width": 1
          },
          "size": [
           8,
           10
          ],
          "symbol": "circle"
         },
         "mode": "lines+markers",
         "name": "PIE → FSD",
         "showlegend": false,
         "text": "PIE → FSD",
         "type": "scattergeo"
        },
        {
         "customdata": [
          [
           1397
          ]
         ],
         "hovertemplate": "<b>%{text}</b><br>Atraso Médio: <b>%{customdata[0]:.1f} minutos</b><br>Origem: %{lat[0]:.2f}°N, %{lon[0]:.2f}°W<br>Destino: %{lat[1]:.2f}°N, %{lon[1]:.2f}°W<br><extra></extra>",
         "lat": [
          35.39308833,
          35.21401111
         ],
         "line": {
          "color": "rgb(7, 116, 61)",
          "width": 1.1027190332326284
         },
         "lon": [
          -97.60073389,
          -80.94312583
         ],
         "marker": {
          "color": "rgb(7, 116, 61)",
          "line": {
           "color": "white",
           "width": 1
          },
          "size": [
           8,
           10
          ],
          "symbol": "circle"
         },
         "mode": "lines+markers",
         "name": "OKC → CLT",
         "showlegend": false,
         "text": "OKC → CLT",
         "type": "scattergeo"
        },
        {
         "customdata": [
          [
           1394
          ]
         ],
         "hovertemplate": "<b>%{text}</b><br>Atraso Médio: <b>%{customdata[0]:.1f} minutos</b><br>Origem: %{lat[0]:.2f}°N, %{lon[0]:.2f}°W<br>Destino: %{lat[1]:.2f}°N, %{lon[1]:.2f}°W<br><extra></extra>",
         "lat": [
          46.91934889,
          39.85840806
         ],
         "line": {
          "color": "rgb(6, 115, 61)",
          "width": 1.093655589123867
         },
         "lon": [
          -96.81498889,
          -104.6670019
         ],
         "marker": {
          "color": "rgb(6, 115, 61)",
          "line": {
           "color": "white",
           "width": 1
          },
          "size": [
           8,
           10
          ],
          "symbol": "circle"
         },
         "mode": "lines+markers",
         "name": "FAR → DEN",
         "showlegend": false,
         "text": "FAR → DEN",
         "type": "scattergeo"
        },
        {
         "customdata": [
          [
           1391
          ]
         ],
         "hovertemplate": "<b>%{text}</b><br>Atraso Médio: <b>%{customdata[0]:.1f} minutos</b><br>Origem: %{lat[0]:.2f}°N, %{lon[0]:.2f}°W<br>Destino: %{lat[1]:.2f}°N, %{lon[1]:.2f}°W<br><extra></extra>",
         "lat": [
          39.99798528,
          32.89595056
         ],
         "line": {
          "color": "rgb(5, 114, 60)",
          "width": 1.0845921450151057
         },
         "lon": [
          -82.89188278,
          -97.0372
         ],
         "marker": {
          "color": "rgb(5, 114, 60)",
          "line": {
           "color": "white",
           "width": 1
          },
          "size": [
           8,
           10
          ],
          "symbol": "circle"
         },
         "mode": "lines+markers",
         "name": "CMH → DFW",
         "showlegend": false,
         "text": "CMH → DFW",
         "type": "scattergeo"
        },
        {
         "customdata": [
          [
           1388
          ]
         ],
         "hovertemplate": "<b>%{text}</b><br>Atraso Médio: <b>%{customdata[0]:.1f} minutos</b><br>Origem: %{lat[0]:.2f}°N, %{lon[0]:.2f}°W<br>Destino: %{lat[1]:.2f}°N, %{lon[1]:.2f}°W<br><extra></extra>",
         "lat": [
          40.19349528,
          35.21401111
         ],
         "line": {
          "color": "rgb(5, 113, 60)",
          "width": 1.0755287009063443
         },
         "lon": [
          -76.76340361,
          -80.94312583
         ],
         "marker": {
          "color": "rgb(5, 113, 60)",
          "line": {
           "color": "white",
           "width": 1
          },
          "size": [
           8,
           10
          ],
          "symbol": "circle"
         },
         "mode": "lines+markers",
         "name": "MDT → CLT",
         "showlegend": false,
         "text": "MDT → CLT",
         "type": "scattergeo"
        },
        {
         "customdata": [
          [
           1387
          ]
         ],
         "hovertemplate": "<b>%{text}</b><br>Atraso Médio: <b>%{customdata[0]:.1f} minutos</b><br>Origem: %{lat[0]:.2f}°N, %{lon[0]:.2f}°W<br>Destino: %{lat[1]:.2f}°N, %{lon[1]:.2f}°W<br><extra></extra>",
         "lat": [
          47.44898194,
          32.89595056
         ],
         "line": {
          "color": "rgb(5, 113, 60)",
          "width": 1.0725075528700907
         },
         "lon": [
          -122.3093131,
          -97.0372
         ],
         "marker": {
          "color": "rgb(5, 113, 60)",
          "line": {
           "color": "white",
           "width": 1
          },
          "size": [
           8,
           10
          ],
          "symbol": "circle"
         },
         "mode": "lines+markers",
         "name": "SEA → DFW",
         "showlegend": false,
         "text": "SEA → DFW",
         "type": "scattergeo"
        },
        {
         "customdata": [
          [
           1369
          ]
         ],
         "hovertemplate": "<b>%{text}</b><br>Atraso Médio: <b>%{customdata[0]:.1f} minutos</b><br>Origem: %{lat[0]:.2f}°N, %{lon[0]:.2f}°W<br>Destino: %{lat[1]:.2f}°N, %{lon[1]:.2f}°W<br><extra></extra>",
         "lat": [
          35.81248722,
          39.85840806
         ],
         "line": {
          "color": "rgb(1, 106, 56)",
          "width": 1.0181268882175227
         },
         "lon": [
          -83.99285583,
          -104.6670019
         ],
         "marker": {
          "color": "rgb(1, 106, 56)",
          "line": {
           "color": "white",
           "width": 1
          },
          "size": [
           8,
           10
          ],
          "symbol": "circle"
         },
         "mode": "lines+markers",
         "name": "TYS → DEN",
         "showlegend": false,
         "text": "TYS → DEN",
         "type": "scattergeo"
        },
        {
         "customdata": [
          [
           1364
          ]
         ],
         "hovertemplate": "<b>%{text}</b><br>Atraso Médio: <b>%{customdata[0]:.1f} minutos</b><br>Origem: %{lat[0]:.2f}°N, %{lon[0]:.2f}°W<br>Destino: %{lat[1]:.2f}°N, %{lon[1]:.2f}°W<br><extra></extra>",
         "lat": [
          26.92019444,
          43.58135111
         ],
         "line": {
          "color": "rgb(0, 104, 55)",
          "width": 1.0030211480362539
         },
         "lon": [
          -81.99052778,
          -96.74170028
         ],
         "marker": {
          "color": "rgb(0, 104, 55)",
          "line": {
           "color": "white",
           "width": 1
          },
          "size": [
           8,
           10
          ],
          "symbol": "circle"
         },
         "mode": "lines+markers",
         "name": "PGD → FSD",
         "showlegend": false,
         "text": "PGD → FSD",
         "type": "scattergeo"
        },
        {
         "customdata": [
          [
           1363
          ]
         ],
         "hovertemplate": "<b>%{text}</b><br>Atraso Médio: <b>%{customdata[0]:.1f} minutos</b><br>Origem: %{lat[0]:.2f}°N, %{lon[0]:.2f}°W<br>Destino: %{lat[1]:.2f}°N, %{lon[1]:.2f}°W<br><extra></extra>",
         "lat": [
          33.43416667,
          37.61900194
         ],
         "line": {
          "color": "rgb(0, 104, 55)",
          "width": 1
         },
         "lon": [
          -112.0080556,
          -122.3748433
         ],
         "marker": {
          "color": "rgb(0, 104, 55)",
          "line": {
           "color": "white",
           "width": 1
          },
          "size": [
           8,
           10
          ],
          "symbol": "circle"
         },
         "mode": "lines+markers",
         "name": "PHX → SFO",
         "showlegend": false,
         "text": "PHX → SFO",
         "type": "scattergeo"
        },
        {
         "hoverinfo": "none",
         "lat": [
          null
         ],
         "lon": [
          null
         ],
         "marker": {
          "cmax": 2687,
          "cmin": 1363,
          "colorbar": {
           "len": 0.6,
           "thickness": 15,
           "tickfont": {
            "size": 10
           },
           "title": {
            "font": {
             "size": 12
            },
            "text": "<b>Atraso Médio (minutos)</b>"
           },
           "x": 1.02,
           "y": 0.5
          },
          "colorscale": [
           [
            0,
            "rgb(0,104,55)"
           ],
           [
            0.1,
            "rgb(26,152,80)"
           ],
           [
            0.2,
            "rgb(102,189,99)"
           ],
           [
            0.3,
            "rgb(166,217,106)"
           ],
           [
            0.4,
            "rgb(217,239,139)"
           ],
           [
            0.5,
            "rgb(255,255,191)"
           ],
           [
            0.6,
            "rgb(254,224,139)"
           ],
           [
            0.7,
            "rgb(253,174,97)"
           ],
           [
            0.8,
            "rgb(244,109,67)"
           ],
           [
            0.9,
            "rgb(215,48,39)"
           ],
           [
            1,
            "rgb(165,0,38)"
           ]
          ],
          "showscale": true,
          "size": 0
         },
         "mode": "markers",
         "showlegend": false,
         "type": "scattergeo"
        }
       ],
       "layout": {
        "geo": {
         "coastlinecolor": "rgb(160, 160, 160)",
         "countrycolor": "rgb(200, 200, 200)",
         "fitbounds": "locations",
         "lakecolor": "rgb(85, 173, 240)",
         "landcolor": "rgb(240, 240, 240)",
         "projection": {
          "type": "albers usa"
         },
         "scope": "north america",
         "showcountries": true,
         "showlakes": true,
         "showland": true,
         "showsubunits": true,
         "subunitcolor": "rgb(220, 220, 220)"
        },
        "height": 800,
        "hovermode": "closest",
        "margin": {
         "b": 0,
         "l": 0,
         "r": 0,
         "t": 80
        },
        "paper_bgcolor": "white",
        "plot_bgcolor": "white",
        "template": {
         "data": {
          "bar": [
           {
            "error_x": {
             "color": "#2a3f5f"
            },
            "error_y": {
             "color": "#2a3f5f"
            },
            "marker": {
             "line": {
              "color": "#E5ECF6",
              "width": 0.5
             },
             "pattern": {
              "fillmode": "overlay",
              "size": 10,
              "solidity": 0.2
             }
            },
            "type": "bar"
           }
          ],
          "barpolar": [
           {
            "marker": {
             "line": {
              "color": "#E5ECF6",
              "width": 0.5
             },
             "pattern": {
              "fillmode": "overlay",
              "size": 10,
              "solidity": 0.2
             }
            },
            "type": "barpolar"
           }
          ],
          "carpet": [
           {
            "aaxis": {
             "endlinecolor": "#2a3f5f",
             "gridcolor": "white",
             "linecolor": "white",
             "minorgridcolor": "white",
             "startlinecolor": "#2a3f5f"
            },
            "baxis": {
             "endlinecolor": "#2a3f5f",
             "gridcolor": "white",
             "linecolor": "white",
             "minorgridcolor": "white",
             "startlinecolor": "#2a3f5f"
            },
            "type": "carpet"
           }
          ],
          "choropleth": [
           {
            "colorbar": {
             "outlinewidth": 0,
             "ticks": ""
            },
            "type": "choropleth"
           }
          ],
          "contour": [
           {
            "colorbar": {
             "outlinewidth": 0,
             "ticks": ""
            },
            "colorscale": [
             [
              0,
              "#0d0887"
             ],
             [
              0.1111111111111111,
              "#46039f"
             ],
             [
              0.2222222222222222,
              "#7201a8"
             ],
             [
              0.3333333333333333,
              "#9c179e"
             ],
             [
              0.4444444444444444,
              "#bd3786"
             ],
             [
              0.5555555555555556,
              "#d8576b"
             ],
             [
              0.6666666666666666,
              "#ed7953"
             ],
             [
              0.7777777777777778,
              "#fb9f3a"
             ],
             [
              0.8888888888888888,
              "#fdca26"
             ],
             [
              1,
              "#f0f921"
             ]
            ],
            "type": "contour"
           }
          ],
          "contourcarpet": [
           {
            "colorbar": {
             "outlinewidth": 0,
             "ticks": ""
            },
            "type": "contourcarpet"
           }
          ],
          "heatmap": [
           {
            "colorbar": {
             "outlinewidth": 0,
             "ticks": ""
            },
            "colorscale": [
             [
              0,
              "#0d0887"
             ],
             [
              0.1111111111111111,
              "#46039f"
             ],
             [
              0.2222222222222222,
              "#7201a8"
             ],
             [
              0.3333333333333333,
              "#9c179e"
             ],
             [
              0.4444444444444444,
              "#bd3786"
             ],
             [
              0.5555555555555556,
              "#d8576b"
             ],
             [
              0.6666666666666666,
              "#ed7953"
             ],
             [
              0.7777777777777778,
              "#fb9f3a"
             ],
             [
              0.8888888888888888,
              "#fdca26"
             ],
             [
              1,
              "#f0f921"
             ]
            ],
            "type": "heatmap"
           }
          ],
          "histogram": [
           {
            "marker": {
             "pattern": {
              "fillmode": "overlay",
              "size": 10,
              "solidity": 0.2
             }
            },
            "type": "histogram"
           }
          ],
          "histogram2d": [
           {
            "colorbar": {
             "outlinewidth": 0,
             "ticks": ""
            },
            "colorscale": [
             [
              0,
              "#0d0887"
             ],
             [
              0.1111111111111111,
              "#46039f"
             ],
             [
              0.2222222222222222,
              "#7201a8"
             ],
             [
              0.3333333333333333,
              "#9c179e"
             ],
             [
              0.4444444444444444,
              "#bd3786"
             ],
             [
              0.5555555555555556,
              "#d8576b"
             ],
             [
              0.6666666666666666,
              "#ed7953"
             ],
             [
              0.7777777777777778,
              "#fb9f3a"
             ],
             [
              0.8888888888888888,
              "#fdca26"
             ],
             [
              1,
              "#f0f921"
             ]
            ],
            "type": "histogram2d"
           }
          ],
          "histogram2dcontour": [
           {
            "colorbar": {
             "outlinewidth": 0,
             "ticks": ""
            },
            "colorscale": [
             [
              0,
              "#0d0887"
             ],
             [
              0.1111111111111111,
              "#46039f"
             ],
             [
              0.2222222222222222,
              "#7201a8"
             ],
             [
              0.3333333333333333,
              "#9c179e"
             ],
             [
              0.4444444444444444,
              "#bd3786"
             ],
             [
              0.5555555555555556,
              "#d8576b"
             ],
             [
              0.6666666666666666,
              "#ed7953"
             ],
             [
              0.7777777777777778,
              "#fb9f3a"
             ],
             [
              0.8888888888888888,
              "#fdca26"
             ],
             [
              1,
              "#f0f921"
             ]
            ],
            "type": "histogram2dcontour"
           }
          ],
          "mesh3d": [
           {
            "colorbar": {
             "outlinewidth": 0,
             "ticks": ""
            },
            "type": "mesh3d"
           }
          ],
          "parcoords": [
           {
            "line": {
             "colorbar": {
              "outlinewidth": 0,
              "ticks": ""
             }
            },
            "type": "parcoords"
           }
          ],
          "pie": [
           {
            "automargin": true,
            "type": "pie"
           }
          ],
          "scatter": [
           {
            "fillpattern": {
             "fillmode": "overlay",
             "size": 10,
             "solidity": 0.2
            },
            "type": "scatter"
           }
          ],
          "scatter3d": [
           {
            "line": {
             "colorbar": {
              "outlinewidth": 0,
              "ticks": ""
             }
            },
            "marker": {
             "colorbar": {
              "outlinewidth": 0,
              "ticks": ""
             }
            },
            "type": "scatter3d"
           }
          ],
          "scattercarpet": [
           {
            "marker": {
             "colorbar": {
              "outlinewidth": 0,
              "ticks": ""
             }
            },
            "type": "scattercarpet"
           }
          ],
          "scattergeo": [
           {
            "marker": {
             "colorbar": {
              "outlinewidth": 0,
              "ticks": ""
             }
            },
            "type": "scattergeo"
           }
          ],
          "scattergl": [
           {
            "marker": {
             "colorbar": {
              "outlinewidth": 0,
              "ticks": ""
             }
            },
            "type": "scattergl"
           }
          ],
          "scattermap": [
           {
            "marker": {
             "colorbar": {
              "outlinewidth": 0,
              "ticks": ""
             }
            },
            "type": "scattermap"
           }
          ],
          "scattermapbox": [
           {
            "marker": {
             "colorbar": {
              "outlinewidth": 0,
              "ticks": ""
             }
            },
            "type": "scattermapbox"
           }
          ],
          "scatterpolar": [
           {
            "marker": {
             "colorbar": {
              "outlinewidth": 0,
              "ticks": ""
             }
            },
            "type": "scatterpolar"
           }
          ],
          "scatterpolargl": [
           {
            "marker": {
             "colorbar": {
              "outlinewidth": 0,
              "ticks": ""
             }
            },
            "type": "scatterpolargl"
           }
          ],
          "scatterternary": [
           {
            "marker": {
             "colorbar": {
              "outlinewidth": 0,
              "ticks": ""
             }
            },
            "type": "scatterternary"
           }
          ],
          "surface": [
           {
            "colorbar": {
             "outlinewidth": 0,
             "ticks": ""
            },
            "colorscale": [
             [
              0,
              "#0d0887"
             ],
             [
              0.1111111111111111,
              "#46039f"
             ],
             [
              0.2222222222222222,
              "#7201a8"
             ],
             [
              0.3333333333333333,
              "#9c179e"
             ],
             [
              0.4444444444444444,
              "#bd3786"
             ],
             [
              0.5555555555555556,
              "#d8576b"
             ],
             [
              0.6666666666666666,
              "#ed7953"
             ],
             [
              0.7777777777777778,
              "#fb9f3a"
             ],
             [
              0.8888888888888888,
              "#fdca26"
             ],
             [
              1,
              "#f0f921"
             ]
            ],
            "type": "surface"
           }
          ],
          "table": [
           {
            "cells": {
             "fill": {
              "color": "#EBF0F8"
             },
             "line": {
              "color": "white"
             }
            },
            "header": {
             "fill": {
              "color": "#C8D4E3"
             },
             "line": {
              "color": "white"
             }
            },
            "type": "table"
           }
          ]
         },
         "layout": {
          "annotationdefaults": {
           "arrowcolor": "#2a3f5f",
           "arrowhead": 0,
           "arrowwidth": 1
          },
          "autotypenumbers": "strict",
          "coloraxis": {
           "colorbar": {
            "outlinewidth": 0,
            "ticks": ""
           }
          },
          "colorscale": {
           "diverging": [
            [
             0,
             "#8e0152"
            ],
            [
             0.1,
             "#c51b7d"
            ],
            [
             0.2,
             "#de77ae"
            ],
            [
             0.3,
             "#f1b6da"
            ],
            [
             0.4,
             "#fde0ef"
            ],
            [
             0.5,
             "#f7f7f7"
            ],
            [
             0.6,
             "#e6f5d0"
            ],
            [
             0.7,
             "#b8e186"
            ],
            [
             0.8,
             "#7fbc41"
            ],
            [
             0.9,
             "#4d9221"
            ],
            [
             1,
             "#276419"
            ]
           ],
           "sequential": [
            [
             0,
             "#0d0887"
            ],
            [
             0.1111111111111111,
             "#46039f"
            ],
            [
             0.2222222222222222,
             "#7201a8"
            ],
            [
             0.3333333333333333,
             "#9c179e"
            ],
            [
             0.4444444444444444,
             "#bd3786"
            ],
            [
             0.5555555555555556,
             "#d8576b"
            ],
            [
             0.6666666666666666,
             "#ed7953"
            ],
            [
             0.7777777777777778,
             "#fb9f3a"
            ],
            [
             0.8888888888888888,
             "#fdca26"
            ],
            [
             1,
             "#f0f921"
            ]
           ],
           "sequentialminus": [
            [
             0,
             "#0d0887"
            ],
            [
             0.1111111111111111,
             "#46039f"
            ],
            [
             0.2222222222222222,
             "#7201a8"
            ],
            [
             0.3333333333333333,
             "#9c179e"
            ],
            [
             0.4444444444444444,
             "#bd3786"
            ],
            [
             0.5555555555555556,
             "#d8576b"
            ],
            [
             0.6666666666666666,
             "#ed7953"
            ],
            [
             0.7777777777777778,
             "#fb9f3a"
            ],
            [
             0.8888888888888888,
             "#fdca26"
            ],
            [
             1,
             "#f0f921"
            ]
           ]
          },
          "colorway": [
           "#636efa",
           "#EF553B",
           "#00cc96",
           "#ab63fa",
           "#FFA15A",
           "#19d3f3",
           "#FF6692",
           "#B6E880",
           "#FF97FF",
           "#FECB52"
          ],
          "font": {
           "color": "#2a3f5f"
          },
          "geo": {
           "bgcolor": "white",
           "lakecolor": "white",
           "landcolor": "#E5ECF6",
           "showlakes": true,
           "showland": true,
           "subunitcolor": "white"
          },
          "hoverlabel": {
           "align": "left"
          },
          "hovermode": "closest",
          "mapbox": {
           "style": "light"
          },
          "paper_bgcolor": "white",
          "plot_bgcolor": "#E5ECF6",
          "polar": {
           "angularaxis": {
            "gridcolor": "white",
            "linecolor": "white",
            "ticks": ""
           },
           "bgcolor": "#E5ECF6",
           "radialaxis": {
            "gridcolor": "white",
            "linecolor": "white",
            "ticks": ""
           }
          },
          "scene": {
           "xaxis": {
            "backgroundcolor": "#E5ECF6",
            "gridcolor": "white",
            "gridwidth": 2,
            "linecolor": "white",
            "showbackground": true,
            "ticks": "",
            "zerolinecolor": "white"
           },
           "yaxis": {
            "backgroundcolor": "#E5ECF6",
            "gridcolor": "white",
            "gridwidth": 2,
            "linecolor": "white",
            "showbackground": true,
            "ticks": "",
            "zerolinecolor": "white"
           },
           "zaxis": {
            "backgroundcolor": "#E5ECF6",
            "gridcolor": "white",
            "gridwidth": 2,
            "linecolor": "white",
            "showbackground": true,
            "ticks": "",
            "zerolinecolor": "white"
           }
          },
          "shapedefaults": {
           "line": {
            "color": "#2a3f5f"
           }
          },
          "ternary": {
           "aaxis": {
            "gridcolor": "white",
            "linecolor": "white",
            "ticks": ""
           },
           "baxis": {
            "gridcolor": "white",
            "linecolor": "white",
            "ticks": ""
           },
           "bgcolor": "#E5ECF6",
           "caxis": {
            "gridcolor": "white",
            "linecolor": "white",
            "ticks": ""
           }
          },
          "title": {
           "x": 0.05
          },
          "xaxis": {
           "automargin": true,
           "gridcolor": "white",
           "linecolor": "white",
           "ticks": "",
           "title": {
            "standoff": 15
           },
           "zerolinecolor": "white",
           "zerolinewidth": 2
          },
          "yaxis": {
           "automargin": true,
           "gridcolor": "white",
           "linecolor": "white",
           "ticks": "",
           "title": {
            "standoff": 15
           },
           "zerolinecolor": "white",
           "zerolinewidth": 2
          }
         }
        },
        "title": {
         "font": {
          "color": "#2c3e50",
          "size": 20
         },
         "text": "<b>Top 50 Rotas com Maiores Atrasos Médios</b><br><sup>Cor e espessura indicam intensidade do atraso</sup>",
         "x": 0.5,
         "xanchor": "center"
        }
       }
      }
     },
     "metadata": {},
     "output_type": "display_data"
    },
    {
     "name": "stderr",
     "output_type": "stream",
     "text": [
      "C:\\Users\\Vitoria\\AppData\\Local\\Temp\\ipykernel_41708\\2024486761.py:149: DeprecationWarning:\n",
      "\n",
      "*scatter_mapbox* is deprecated! Use *scatter_map* instead. Learn more at: https://plotly.com/python/mapbox-to-maplibre/\n",
      "\n"
     ]
    },
    {
     "data": {
      "application/vnd.plotly.v1+json": {
       "config": {
        "plotlyServerURL": "https://plot.ly"
       },
       "data": [
        {
         "customdata": {
          "bdata": "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",
          "dtype": "f8",
          "shape": "63, 6"
         },
         "hovertemplate": "<b>%{hovertext}</b><br><br>TOTAL_VOOS=%{customdata[1]}<br>DELAY_OVERALL=%{marker.color:.1f}<br>CANCELLED=%{customdata[2]}<br>DIVERTED=%{customdata[3]}<extra></extra>",
         "hovertext": [
          "BNA",
          "SLC",
          "PBI",
          "SNA",
          "DTW",
          "GFK",
          "HPN",
          "SFB",
          "ABQ",
          "STL",
          "AMA",
          "SBA",
          "OMA",
          "BUF",
          "GRR",
          "IND",
          "ORD",
          "BOS",
          "LAS",
          "SEA",
          "SRQ",
          "MSN",
          "VPS",
          "XNA",
          "FSD",
          "TXK",
          "CMI",
          "MEM",
          "CLT",
          "CMH",
          "LAX",
          "SYR",
          "PIE",
          "OKC",
          "FAR",
          "MDT",
          "MSP",
          "MIA",
          "TYS",
          "PGD",
          "PHX",
          "SJU",
          "DEN",
          "RIC",
          "MDW",
          "FWA",
          "HDN",
          "DFW",
          "PIT",
          "AUS",
          "BHM",
          "JAC",
          "STT",
          "AVP",
          "RNO",
          "SAF",
          "SDF",
          "IAH",
          "SBP",
          "SAT",
          "MTJ",
          "ICT",
          "JFK"
         ],
         "lat": {
          "bdata": "62H92e4PQkBB1Qnk6WREQAMsbrPjrjpA/Jo4+3vWQEAjsOa+JBtFQEFIFjCB+UdACaiREpKIREC7D0BqE8c8QHu8bwAmhUFAIXmlNLRfQ0AlkuhlFJxBQHy74xyONkFA0TAI7rimREBivTAdY3hFQDOJWbO+cEVA9M42cdHbQ0CeKXReY/1EQI9wWvCiLkVA/qjZRUkKQkC3ZX49eLlHQGheq5A0ZTtAeJgX3OaRRUDByqFFtns+QFtFPUwUJEJAvniStmnKRUDY0A8bE7pAQBsv3SQGBURARTrR6G2FQUAgN0+3ZJtBQKW+Tfu9/0NA4d/zBaX4QEBrhadfO45FQP6+HMkn6TtABuXot1CyQUD7FHQ5rXVHQOPDDXTEGERASvIaw7VwRkBQjZduEss5QLMoy5T/50FA08Lh3JHrOkDlVADGkrdAQJz3Ypx9cDJAUim4UODtQ0DxVitNqcBCQDpdFhOb5ERAPw1KXj59REBBCr9Qlz1EQDYECYKuckBAy3kxWug+RECXGXjmzDE+QOcaqIQOyEBANBxkzLzNRUB/9TyoWVYyQPn6GHtIq0RAKoKLV9G/Q0Dv/wST8s5BQPqqCWBSFkNAWYk3OgD7PUADeiPrV55BQGfb5TKgiD1ABvShjyJBQ0CxJVjaMdNCQM2DR13jUURA",
          "dtype": "f8"
         },
         "legendgroup": "",
         "lon": {
          "bdata": "POhlVmerVcAl2p/Vk/5bwKZ1AjceBlTAsMka9ZB3XcB5YYRTU9ZUwGJ6iGdFS1jARtJN5khtUsCBfOgGM09UwAI6ggr9plrA9ZJSEgqXVsDXVkfpLW1ZwJ/7F63I9V3Ag2qkITr5V8DCt5fR265TwCmg/QZ1YVXADKezMNeSVcBxo6+94vlVwE9xA9tUwFHA32Ur1L/JXMBcLizJy5NewDfzcY52o1TA6jmv0plVVsBhVFInoKFVwPffEMuik1fALoJzBHgvWMClaybfbH9XwPEqjKnLEVbAka/rtIF+VsA593AsXDxUwMz9gpsUuVTAbpUW5B2aXcDYms7KzQZTwPUx/gH/q1TAh8mObHJmWMDQSSnHKDRYwEum0JrbMFPAD9HoDuJNV8C+91h2mBJUwIzfLfOK/1TASTihzmR/VMAuo6L7gwBcwCMZiwkegFDArLe8KLAqWsBcUTFrdVRTwLag1rgn8FXA4b5IR31MVcAPSvMi7s1awFHaG3xhQljAtsINW+cOVMC3s44u32pYwNbTmig6sFXAKx84HTevW8B9qWWMSz5QwJCDEmZa7lLAku3X+CfxXcBZQFcRpIVawMl2vp8ab1XA+CdEAr7VV8BF6/L3HClewDNf0tYQnljA2eSVkDT5WsA6YdsFt1tYwPyNl+rZcVLA",
          "dtype": "f8"
         },
         "marker": {
          "color": {
           "bdata": "AAAAAAD+pEAAAAAAALygQAAAAAAAKJ9AAAAAAACEnUAAAAAAALybQAAAAAAAbJtAAAAAAAAwm0AAAAAAACCbQAAAAAAAwJlAAAAAAADsmEAAAAAAANKYQAAAAAAAtJhAAAAAAACKmEAAAAAAAGqYQAAAAAAASJhAVVVVVVUpmEBVVVVVVRWYQAAAAAAA1JdAMzMzMzO/l0AAAAAAAKyXQAAAAAAAqJdAAAAAAACHl0AAAAAAAGCXQAAAAAAAKJdAAAAAAAAWl0AAAAAAAASXQAAAAAAA7JZAAAAAAADIlkAAAAAAAGiWQAAAAAAAXpZAAAAAAABYlkAAAAAAAEyWQAAAAAAAKJZAAAAAAADUlUAAAAAAAMiVQAAAAAAAsJVAq6qqqqqOlUAAAAAAAGyVQAAAAAAAZJVAAAAAAABQlUAAAAAAAEyVQAAAAAAAJJVAAAAAAAAclUAAAAAAAPyUQAAAAAAAoJRAAAAAAACUlEAAAAAAAH6UQAAAAAAARJRAAAAAAAAYlEAAAAAAAAyUQAAAAAAA9JNAAAAAAACYk0AAAAAAAHSTQAAAAAAAXJNAAAAAAAAMk0AAAAAAAASTQAAAAAAAAJNAAAAAAAD4kkAAAAAAANiSQAAAAAAA1JJAAAAAAADQkkAAAAAAAMySQAAAAAAApJJA",
           "dtype": "f8"
          },
          "coloraxis": "coloraxis",
          "size": {
           "bdata": "AQICAgEBAQEBAgIBAgIBAwMBBQMCBAEBAgEBAgECBAIBAQEBAwIBAQEBAgEBAgICAgEBAQIBAQEBAQEBAQEB",
           "dtype": "i1"
          },
          "sizemode": "area",
          "sizeref": 0.022222222222222223
         },
         "mode": "markers",
         "name": "",
         "showlegend": false,
         "subplot": "mapbox",
         "type": "scattermapbox"
        }
       ],
       "layout": {
        "coloraxis": {
         "colorbar": {
          "thickness": 15,
          "title": {
           "text": "Atraso Médio (min)"
          }
         },
         "colorscale": [
          [
           0,
           "rgb(0,104,55)"
          ],
          [
           0.1,
           "rgb(26,152,80)"
          ],
          [
           0.2,
           "rgb(102,189,99)"
          ],
          [
           0.3,
           "rgb(166,217,106)"
          ],
          [
           0.4,
           "rgb(217,239,139)"
          ],
          [
           0.5,
           "rgb(255,255,191)"
          ],
          [
           0.6,
           "rgb(254,224,139)"
          ],
          [
           0.7,
           "rgb(253,174,97)"
          ],
          [
           0.8,
           "rgb(244,109,67)"
          ],
          [
           0.9,
           "rgb(215,48,39)"
          ],
          [
           1,
           "rgb(165,0,38)"
          ]
         ]
        },
        "height": 600,
        "legend": {
         "itemsizing": "constant",
         "tracegroupgap": 0
        },
        "mapbox": {
         "center": {
          "lat": 36.804468271428576,
          "lon": -92.46474123301587
         },
         "domain": {
          "x": [
           0,
           1
          ],
          "y": [
           0,
           1
          ]
         },
         "style": "carto-positron",
         "zoom": 3
        },
        "margin": {
         "b": 0,
         "l": 0,
         "r": 0,
         "t": 40
        },
        "template": {
         "data": {
          "bar": [
           {
            "error_x": {
             "color": "#2a3f5f"
            },
            "error_y": {
             "color": "#2a3f5f"
            },
            "marker": {
             "line": {
              "color": "#E5ECF6",
              "width": 0.5
             },
             "pattern": {
              "fillmode": "overlay",
              "size": 10,
              "solidity": 0.2
             }
            },
            "type": "bar"
           }
          ],
          "barpolar": [
           {
            "marker": {
             "line": {
              "color": "#E5ECF6",
              "width": 0.5
             },
             "pattern": {
              "fillmode": "overlay",
              "size": 10,
              "solidity": 0.2
             }
            },
            "type": "barpolar"
           }
          ],
          "carpet": [
           {
            "aaxis": {
             "endlinecolor": "#2a3f5f",
             "gridcolor": "white",
             "linecolor": "white",
             "minorgridcolor": "white",
             "startlinecolor": "#2a3f5f"
            },
            "baxis": {
             "endlinecolor": "#2a3f5f",
             "gridcolor": "white",
             "linecolor": "white",
             "minorgridcolor": "white",
             "startlinecolor": "#2a3f5f"
            },
            "type": "carpet"
           }
          ],
          "choropleth": [
           {
            "colorbar": {
             "outlinewidth": 0,
             "ticks": ""
            },
            "type": "choropleth"
           }
          ],
          "contour": [
           {
            "colorbar": {
             "outlinewidth": 0,
             "ticks": ""
            },
            "colorscale": [
             [
              0,
              "#0d0887"
             ],
             [
              0.1111111111111111,
              "#46039f"
             ],
             [
              0.2222222222222222,
              "#7201a8"
             ],
             [
              0.3333333333333333,
              "#9c179e"
             ],
             [
              0.4444444444444444,
              "#bd3786"
             ],
             [
              0.5555555555555556,
              "#d8576b"
             ],
             [
              0.6666666666666666,
              "#ed7953"
             ],
             [
              0.7777777777777778,
              "#fb9f3a"
             ],
             [
              0.8888888888888888,
              "#fdca26"
             ],
             [
              1,
              "#f0f921"
             ]
            ],
            "type": "contour"
           }
          ],
          "contourcarpet": [
           {
            "colorbar": {
             "outlinewidth": 0,
             "ticks": ""
            },
            "type": "contourcarpet"
           }
          ],
          "heatmap": [
           {
            "colorbar": {
             "outlinewidth": 0,
             "ticks": ""
            },
            "colorscale": [
             [
              0,
              "#0d0887"
             ],
             [
              0.1111111111111111,
              "#46039f"
             ],
             [
              0.2222222222222222,
              "#7201a8"
             ],
             [
              0.3333333333333333,
              "#9c179e"
             ],
             [
              0.4444444444444444,
              "#bd3786"
             ],
             [
              0.5555555555555556,
              "#d8576b"
             ],
             [
              0.6666666666666666,
              "#ed7953"
             ],
             [
              0.7777777777777778,
              "#fb9f3a"
             ],
             [
              0.8888888888888888,
              "#fdca26"
             ],
             [
              1,
              "#f0f921"
             ]
            ],
            "type": "heatmap"
           }
          ],
          "histogram": [
           {
            "marker": {
             "pattern": {
              "fillmode": "overlay",
              "size": 10,
              "solidity": 0.2
             }
            },
            "type": "histogram"
           }
          ],
          "histogram2d": [
           {
            "colorbar": {
             "outlinewidth": 0,
             "ticks": ""
            },
            "colorscale": [
             [
              0,
              "#0d0887"
             ],
             [
              0.1111111111111111,
              "#46039f"
             ],
             [
              0.2222222222222222,
              "#7201a8"
             ],
             [
              0.3333333333333333,
              "#9c179e"
             ],
             [
              0.4444444444444444,
              "#bd3786"
             ],
             [
              0.5555555555555556,
              "#d8576b"
             ],
             [
              0.6666666666666666,
              "#ed7953"
             ],
             [
              0.7777777777777778,
              "#fb9f3a"
             ],
             [
              0.8888888888888888,
              "#fdca26"
             ],
             [
              1,
              "#f0f921"
             ]
            ],
            "type": "histogram2d"
           }
          ],
          "histogram2dcontour": [
           {
            "colorbar": {
             "outlinewidth": 0,
             "ticks": ""
            },
            "colorscale": [
             [
              0,
              "#0d0887"
             ],
             [
              0.1111111111111111,
              "#46039f"
             ],
             [
              0.2222222222222222,
              "#7201a8"
             ],
             [
              0.3333333333333333,
              "#9c179e"
             ],
             [
              0.4444444444444444,
              "#bd3786"
             ],
             [
              0.5555555555555556,
              "#d8576b"
             ],
             [
              0.6666666666666666,
              "#ed7953"
             ],
             [
              0.7777777777777778,
              "#fb9f3a"
             ],
             [
              0.8888888888888888,
              "#fdca26"
             ],
             [
              1,
              "#f0f921"
             ]
            ],
            "type": "histogram2dcontour"
           }
          ],
          "mesh3d": [
           {
            "colorbar": {
             "outlinewidth": 0,
             "ticks": ""
            },
            "type": "mesh3d"
           }
          ],
          "parcoords": [
           {
            "line": {
             "colorbar": {
              "outlinewidth": 0,
              "ticks": ""
             }
            },
            "type": "parcoords"
           }
          ],
          "pie": [
           {
            "automargin": true,
            "type": "pie"
           }
          ],
          "scatter": [
           {
            "fillpattern": {
             "fillmode": "overlay",
             "size": 10,
             "solidity": 0.2
            },
            "type": "scatter"
           }
          ],
          "scatter3d": [
           {
            "line": {
             "colorbar": {
              "outlinewidth": 0,
              "ticks": ""
             }
            },
            "marker": {
             "colorbar": {
              "outlinewidth": 0,
              "ticks": ""
             }
            },
            "type": "scatter3d"
           }
          ],
          "scattercarpet": [
           {
            "marker": {
             "colorbar": {
              "outlinewidth": 0,
              "ticks": ""
             }
            },
            "type": "scattercarpet"
           }
          ],
          "scattergeo": [
           {
            "marker": {
             "colorbar": {
              "outlinewidth": 0,
              "ticks": ""
             }
            },
            "type": "scattergeo"
           }
          ],
          "scattergl": [
           {
            "marker": {
             "colorbar": {
              "outlinewidth": 0,
              "ticks": ""
             }
            },
            "type": "scattergl"
           }
          ],
          "scattermap": [
           {
            "marker": {
             "colorbar": {
              "outlinewidth": 0,
              "ticks": ""
             }
            },
            "type": "scattermap"
           }
          ],
          "scattermapbox": [
           {
            "marker": {
             "colorbar": {
              "outlinewidth": 0,
              "ticks": ""
             }
            },
            "type": "scattermapbox"
           }
          ],
          "scatterpolar": [
           {
            "marker": {
             "colorbar": {
              "outlinewidth": 0,
              "ticks": ""
             }
            },
            "type": "scatterpolar"
           }
          ],
          "scatterpolargl": [
           {
            "marker": {
             "colorbar": {
              "outlinewidth": 0,
              "ticks": ""
             }
            },
            "type": "scatterpolargl"
           }
          ],
          "scatterternary": [
           {
            "marker": {
             "colorbar": {
              "outlinewidth": 0,
              "ticks": ""
             }
            },
            "type": "scatterternary"
           }
          ],
          "surface": [
           {
            "colorbar": {
             "outlinewidth": 0,
             "ticks": ""
            },
            "colorscale": [
             [
              0,
              "#0d0887"
             ],
             [
              0.1111111111111111,
              "#46039f"
             ],
             [
              0.2222222222222222,
              "#7201a8"
             ],
             [
              0.3333333333333333,
              "#9c179e"
             ],
             [
              0.4444444444444444,
              "#bd3786"
             ],
             [
              0.5555555555555556,
              "#d8576b"
             ],
             [
              0.6666666666666666,
              "#ed7953"
             ],
             [
              0.7777777777777778,
              "#fb9f3a"
             ],
             [
              0.8888888888888888,
              "#fdca26"
             ],
             [
              1,
              "#f0f921"
             ]
            ],
            "type": "surface"
           }
          ],
          "table": [
           {
            "cells": {
             "fill": {
              "color": "#EBF0F8"
             },
             "line": {
              "color": "white"
             }
            },
            "header": {
             "fill": {
              "color": "#C8D4E3"
             },
             "line": {
              "color": "white"
             }
            },
            "type": "table"
           }
          ]
         },
         "layout": {
          "annotationdefaults": {
           "arrowcolor": "#2a3f5f",
           "arrowhead": 0,
           "arrowwidth": 1
          },
          "autotypenumbers": "strict",
          "coloraxis": {
           "colorbar": {
            "outlinewidth": 0,
            "ticks": ""
           }
          },
          "colorscale": {
           "diverging": [
            [
             0,
             "#8e0152"
            ],
            [
             0.1,
             "#c51b7d"
            ],
            [
             0.2,
             "#de77ae"
            ],
            [
             0.3,
             "#f1b6da"
            ],
            [
             0.4,
             "#fde0ef"
            ],
            [
             0.5,
             "#f7f7f7"
            ],
            [
             0.6,
             "#e6f5d0"
            ],
            [
             0.7,
             "#b8e186"
            ],
            [
             0.8,
             "#7fbc41"
            ],
            [
             0.9,
             "#4d9221"
            ],
            [
             1,
             "#276419"
            ]
           ],
           "sequential": [
            [
             0,
             "#0d0887"
            ],
            [
             0.1111111111111111,
             "#46039f"
            ],
            [
             0.2222222222222222,
             "#7201a8"
            ],
            [
             0.3333333333333333,
             "#9c179e"
            ],
            [
             0.4444444444444444,
             "#bd3786"
            ],
            [
             0.5555555555555556,
             "#d8576b"
            ],
            [
             0.6666666666666666,
             "#ed7953"
            ],
            [
             0.7777777777777778,
             "#fb9f3a"
            ],
            [
             0.8888888888888888,
             "#fdca26"
            ],
            [
             1,
             "#f0f921"
            ]
           ],
           "sequentialminus": [
            [
             0,
             "#0d0887"
            ],
            [
             0.1111111111111111,
             "#46039f"
            ],
            [
             0.2222222222222222,
             "#7201a8"
            ],
            [
             0.3333333333333333,
             "#9c179e"
            ],
            [
             0.4444444444444444,
             "#bd3786"
            ],
            [
             0.5555555555555556,
             "#d8576b"
            ],
            [
             0.6666666666666666,
             "#ed7953"
            ],
            [
             0.7777777777777778,
             "#fb9f3a"
            ],
            [
             0.8888888888888888,
             "#fdca26"
            ],
            [
             1,
             "#f0f921"
            ]
           ]
          },
          "colorway": [
           "#636efa",
           "#EF553B",
           "#00cc96",
           "#ab63fa",
           "#FFA15A",
           "#19d3f3",
           "#FF6692",
           "#B6E880",
           "#FF97FF",
           "#FECB52"
          ],
          "font": {
           "color": "#2a3f5f"
          },
          "geo": {
           "bgcolor": "white",
           "lakecolor": "white",
           "landcolor": "#E5ECF6",
           "showlakes": true,
           "showland": true,
           "subunitcolor": "white"
          },
          "hoverlabel": {
           "align": "left"
          },
          "hovermode": "closest",
          "mapbox": {
           "style": "light"
          },
          "paper_bgcolor": "white",
          "plot_bgcolor": "#E5ECF6",
          "polar": {
           "angularaxis": {
            "gridcolor": "white",
            "linecolor": "white",
            "ticks": ""
           },
           "bgcolor": "#E5ECF6",
           "radialaxis": {
            "gridcolor": "white",
            "linecolor": "white",
            "ticks": ""
           }
          },
          "scene": {
           "xaxis": {
            "backgroundcolor": "#E5ECF6",
            "gridcolor": "white",
            "gridwidth": 2,
            "linecolor": "white",
            "showbackground": true,
            "ticks": "",
            "zerolinecolor": "white"
           },
           "yaxis": {
            "backgroundcolor": "#E5ECF6",
            "gridcolor": "white",
            "gridwidth": 2,
            "linecolor": "white",
            "showbackground": true,
            "ticks": "",
            "zerolinecolor": "white"
           },
           "zaxis": {
            "backgroundcolor": "#E5ECF6",
            "gridcolor": "white",
            "gridwidth": 2,
            "linecolor": "white",
            "showbackground": true,
            "ticks": "",
            "zerolinecolor": "white"
           }
          },
          "shapedefaults": {
           "line": {
            "color": "#2a3f5f"
           }
          },
          "ternary": {
           "aaxis": {
            "gridcolor": "white",
            "linecolor": "white",
            "ticks": ""
           },
           "baxis": {
            "gridcolor": "white",
            "linecolor": "white",
            "ticks": ""
           },
           "bgcolor": "#E5ECF6",
           "caxis": {
            "gridcolor": "white",
            "linecolor": "white",
            "ticks": ""
           }
          },
          "title": {
           "x": 0.05
          },
          "xaxis": {
           "automargin": true,
           "gridcolor": "white",
           "linecolor": "white",
           "ticks": "",
           "title": {
            "standoff": 15
           },
           "zerolinecolor": "white",
           "zerolinewidth": 2
          },
          "yaxis": {
           "automargin": true,
           "gridcolor": "white",
           "linecolor": "white",
           "ticks": "",
           "title": {
            "standoff": 15
           },
           "zerolinecolor": "white",
           "zerolinewidth": 2
          }
         }
        },
        "title": {
         "text": "Atrasos Médios por Aeroporto de Origem"
        }
       }
      }
     },
     "metadata": {},
     "output_type": "display_data"
    }
   ],
   "source": [
    "def criar_mapa_rotas_atraso(df, top_n=50, altura=800):\n",
    "    \"\"\"\n",
    "    Cria um mapa interativo das rotas de voo coloridas por média de atraso\n",
    "    \n",
    "    Parameters:\n",
    "    df: DataFrame com dados dos voos\n",
    "    top_n: número de rotas principais para mostrar\n",
    "    altura: altura do mapa em pixels\n",
    "    \"\"\"\n",
    "    \n",
    "    # --- PRÉ-PROCESSAMENTO DOS DADOS ---\n",
    "    # Calcular atraso médio por rota\n",
    "    rotas_atraso = (\n",
    "        df.groupby([\"ORIGIN\", \"DEST\", \"ORIGIN_LAT\", \"ORIGIN_LON\", \"DEST_LAT\", \"DEST_LON\"], \n",
    "                  as_index=False)[\"DELAY_OVERALL\"]\n",
    "        .mean()\n",
    "        .sort_values(by=\"DELAY_OVERALL\", ascending=False)\n",
    "        .head(top_n)\n",
    "        .dropna(subset=['ORIGIN_LAT', 'ORIGIN_LON', 'DEST_LAT', 'DEST_LON'])\n",
    "    )\n",
    "    \n",
    "    # Calcular estatísticas\n",
    "    min_atraso = rotas_atraso['DELAY_OVERALL'].min()\n",
    "    max_atraso = rotas_atraso['DELAY_OVERALL'].max()\n",
    "    \n",
    "    print(f\"📊 Estatísticas das {len(rotas_atraso)} rotas:\")\n",
    "    print(f\"   • Atraso mínimo: {min_atraso:.1f} min\")\n",
    "    print(f\"   • Atraso máximo: {max_atraso:.1f} min\")\n",
    "    print(f\"   • Atraso médio: {rotas_atraso['DELAY_OVERALL'].mean():.1f} min\")\n",
    "    \n",
    "    # --- CRIAÇÃO DO MAPA PRINCIPAL ---\n",
    "    fig = go.Figure()\n",
    "    \n",
    "    # Adicionar cada rota ao mapa\n",
    "    for idx, rota in rotas_atraso.iterrows():\n",
    "        # Normalizar o atraso para cores (0-1)\n",
    "        intensidade_cor = (rota['DELAY_OVERALL'] - min_atraso) / (max_atraso - min_atraso) if max_atraso > min_atraso else 0.5\n",
    "        \n",
    "        # Escala de cores: verde (baixo) → amarelo → laranja → vermelho (alto)\n",
    "        cor = px.colors.sample_colorscale(\"RdYlGn_r\", [intensidade_cor])[0]\n",
    "        \n",
    "        # Largura da linha proporcional ao atraso\n",
    "        largura_linha = 1 + (intensidade_cor * 4)\n",
    "        \n",
    "        fig.add_trace(go.Scattergeo(\n",
    "            lon=[rota['ORIGIN_LON'], rota['DEST_LON']],\n",
    "            lat=[rota['ORIGIN_LAT'], rota['DEST_LAT']],\n",
    "            mode='lines+markers',\n",
    "            line=dict(\n",
    "                width=largura_linha,\n",
    "                color=cor,\n",
    "            ),\n",
    "            marker=dict(\n",
    "                size=[8, 10],  # Origem menor, destino maior\n",
    "                color=cor,\n",
    "                symbol='circle',\n",
    "                line=dict(width=1, color='white')\n",
    "            ),\n",
    "            name=f\"{rota['ORIGIN']} → {rota['DEST']}\",\n",
    "            text=f\"{rota['ORIGIN']} → {rota['DEST']}\",\n",
    "            customdata=[[rota['DELAY_OVERALL']]],\n",
    "            hovertemplate=(\n",
    "                \"<b>%{text}</b><br>\"\n",
    "                \"Atraso Médio: <b>%{customdata[0]:.1f} minutos</b><br>\"\n",
    "                \"Origem: %{lat[0]:.2f}°N, %{lon[0]:.2f}°W<br>\"\n",
    "                \"Destino: %{lat[1]:.2f}°N, %{lon[1]:.2f}°W<br>\"\n",
    "                \"<extra></extra>\"\n",
    "            ),\n",
    "            showlegend=False\n",
    "        ))\n",
    "    \n",
    "    # --- BARRA DE CORES ---\n",
    "    fig.add_trace(go.Scattergeo(\n",
    "        lon=[None], lat=[None],\n",
    "        mode='markers',\n",
    "        marker=dict(\n",
    "            size=0,\n",
    "            colorscale=\"RdYlGn_r\",  # Invertido: vermelho (alto) → verde (baixo)\n",
    "            cmin=min_atraso,\n",
    "            cmax=max_atraso,\n",
    "            colorbar=dict(\n",
    "                title=dict(\n",
    "                    text=\"<b>Atraso Médio (minutos)</b>\",\n",
    "                    font=dict(size=12)\n",
    "                ),\n",
    "                thickness=15,\n",
    "                len=0.6,\n",
    "                x=1.02,\n",
    "                y=0.5,\n",
    "                tickfont=dict(size=10)\n",
    "            ),\n",
    "            showscale=True\n",
    "        ),\n",
    "        hoverinfo='none',\n",
    "        showlegend=False\n",
    "    ))\n",
    "    \n",
    "    # --- LAYOUT DO MAPA ---\n",
    "    fig.update_layout(\n",
    "        title=dict(\n",
    "            text=f\"<b>Top {top_n} Rotas com Maiores Atrasos Médios</b><br>\"\n",
    "                 f\"<sup>Cor e espessura indicam intensidade do atraso</sup>\",\n",
    "            x=0.5,\n",
    "            xanchor='center',\n",
    "            font=dict(size=20, color='#2c3e50')\n",
    "        ),\n",
    "        geo=dict(\n",
    "            scope='north america',\n",
    "            projection_type='albers usa',\n",
    "            showland=True,\n",
    "            landcolor='rgb(240, 240, 240)',\n",
    "            countrycolor='rgb(200, 200, 200)',\n",
    "            coastlinecolor='rgb(160, 160, 160)',\n",
    "            lakecolor='rgb(85, 173, 240)',\n",
    "            showsubunits=True,\n",
    "            subunitcolor='rgb(220, 220, 220)',\n",
    "            showlakes=True,\n",
    "            showcountries=True,\n",
    "            fitbounds=\"locations\"\n",
    "        ),\n",
    "        height=altura,\n",
    "        margin=dict(l=0, r=0, t=80, b=0),\n",
    "        paper_bgcolor='white',\n",
    "        plot_bgcolor='white',\n",
    "        hovermode='closest'\n",
    "    )\n",
    "    \n",
    "    return fig\n",
    "\n",
    "# --- VERSÃO ALTERNATIVA: MAPA DE AEROPORTOS ---\n",
    "def criar_mapa_aeroportos_atraso(df, altura=700):\n",
    "    \"\"\"\n",
    "    Cria mapa de aeroportos coloridos por atraso médio\n",
    "    \"\"\"\n",
    "    \n",
    "    # Calcular atraso médio por aeroporto de origem\n",
    "    atrasos_aeroporto = (\n",
    "        df.groupby([\"ORIGIN\", \"ORIGIN_LAT\", \"ORIGIN_LON\"], as_index=False)\n",
    "        .agg({\n",
    "            'DELAY_OVERALL': 'mean',\n",
    "            'CANCELLED': 'sum',\n",
    "            'DIVERTED': 'sum',\n",
    "            'FL_DATE': 'count'  # Número de voos\n",
    "        })\n",
    "        .rename(columns={'FL_DATE': 'TOTAL_VOOS'})\n",
    "        .sort_values('DELAY_OVERALL', ascending=False)\n",
    "    )\n",
    "    \n",
    "    fig = px.scatter_mapbox(\n",
    "        atrasos_aeroporto,\n",
    "        lat=\"ORIGIN_LAT\",\n",
    "        lon=\"ORIGIN_LON\",\n",
    "        size=\"TOTAL_VOOS\",\n",
    "        color=\"DELAY_OVERALL\",\n",
    "        hover_name=\"ORIGIN\",\n",
    "        hover_data={\n",
    "            \"DELAY_OVERALL\": \":.1f\",\n",
    "            \"TOTAL_VOOS\": True,\n",
    "            \"CANCELLED\": True,\n",
    "            \"DIVERTED\": True,\n",
    "            \"ORIGIN_LAT\": False,\n",
    "            \"ORIGIN_LON\": False\n",
    "        },\n",
    "        color_continuous_scale=\"RdYlGn_r\",\n",
    "        size_max=15,\n",
    "        zoom=3,\n",
    "        height=altura,\n",
    "        title=\"Atrasos Médios por Aeroporto de Origem\"\n",
    "    )\n",
    "    \n",
    "    fig.update_layout(\n",
    "        mapbox_style=\"carto-positron\",\n",
    "        margin=dict(l=0, r=0, t=40, b=0),\n",
    "        coloraxis_colorbar=dict(\n",
    "            title=\"Atraso Médio (min)\",\n",
    "            thickness=15\n",
    "        )\n",
    "    )\n",
    "    \n",
    "    return fig\n",
    "\n",
    "# --- EXECUÇÃO ---\n",
    "if __name__ == \"__main__\":\n",
    "    # Criar mapa de rotas (sua versão principal)\n",
    "    fig_rotas = criar_mapa_rotas_atraso(df_map, top_n=50, altura=800)\n",
    "    fig_rotas.show()\n",
    "    \n",
    "    # Criar mapa de aeroportos (versão alternativa)\n",
    "    fig_aeroportos = criar_mapa_aeroportos_atraso(df_map, altura=600)\n",
    "    fig_aeroportos.show()"
   ]
  }
 ],
 "metadata": {
  "kernelspec": {
   "display_name": "py12_lab",
   "language": "python",
   "name": "python3"
  },
  "language_info": {
   "codemirror_mode": {
    "name": "ipython",
    "version": 3
   },
   "file_extension": ".py",
   "mimetype": "text/x-python",
   "name": "python",
   "nbconvert_exporter": "python",
   "pygments_lexer": "ipython3",
   "version": "3.12.0"
  }
 },
 "nbformat": 4,
 "nbformat_minor": 5
}
