{
 "cells": [
  {
   "cell_type": "code",
   "execution_count": 35,
   "id": "18fe91d0",
   "metadata": {},
   "outputs": [],
   "source": [
    "import pandas as pd\n",
    "import matplotlib.pyplot as plt\n",
    "import matplotlib.font_manager as fm\n",
    "import seaborn as sns\n",
    "import plotly.graph_objects as go"
   ]
  },
  {
   "cell_type": "code",
   "execution_count": 36,
   "id": "5b7abfa5",
   "metadata": {},
   "outputs": [],
   "source": [
    "palette = [\"#0077C8\", \"#005EA8\", \"#003F72\", \"#0094D8\", \"#66C5E3\"]\n",
    "palette_red = [\"#DC1C13\", \"#EA4C46\", \"#F07470\"]"
   ]
  },
  {
   "cell_type": "code",
   "execution_count": 37,
   "id": "c1d109f3",
   "metadata": {},
   "outputs": [],
   "source": [
    "anotonio_path = \"../fonts/Antonio-Regular.ttf\"\n",
    "poppins_path = \"../fonts/Poppins-Regular.ttf\"\n",
    "fm.fontManager.addfont(anotonio_path)\n",
    "fm.fontManager.addfont(poppins_path)\n",
    "plt.rcParams['font.family'] = 'antonio'"
   ]
  },
  {
   "cell_type": "code",
   "execution_count": 38,
   "id": "a8f741ca",
   "metadata": {},
   "outputs": [],
   "source": [
    "df = pd.read_csv(\"../dataset/created/df_view.csv\")"
   ]
  },
  {
   "cell_type": "code",
   "execution_count": 39,
   "id": "1e79527f",
   "metadata": {},
   "outputs": [],
   "source": [
    "df[\"ATRASADO\"] = df[\"DELAY\"]\n",
    "df[\"CANCELADO\"] = df[\"CANCELLED\"]\n",
    "df[\"DESVIADO\"] = df[\"DIVERTED\"]\n"
   ]
  },
  {
   "cell_type": "code",
   "execution_count": 40,
   "id": "321701d2",
   "metadata": {},
   "outputs": [],
   "source": [
    "problematic_columns = ['ATRASADO', 'CANCELADO', 'DESVIADO']"
   ]
  },
  {
   "cell_type": "code",
   "execution_count": 41,
   "id": "0a5585eb",
   "metadata": {},
   "outputs": [
    {
     "data": {
      "text/plain": [
       "536720"
      ]
     },
     "execution_count": 41,
     "metadata": {},
     "output_type": "execute_result"
    }
   ],
   "source": [
    "total_flights = len(df)\n",
    "total_flights"
   ]
  },
  {
   "cell_type": "code",
   "execution_count": 42,
   "id": "3f656a79",
   "metadata": {},
   "outputs": [
    {
     "data": {
      "text/plain": [
       "np.int64(201760)"
      ]
     },
     "execution_count": 42,
     "metadata": {},
     "output_type": "execute_result"
    }
   ],
   "source": [
    "df['ATRASADO'].sum()"
   ]
  },
  {
   "cell_type": "code",
   "execution_count": 43,
   "id": "da87b0fa",
   "metadata": {},
   "outputs": [
    {
     "data": {
      "text/plain": [
       "np.int64(10230)"
      ]
     },
     "execution_count": 43,
     "metadata": {},
     "output_type": "execute_result"
    }
   ],
   "source": [
    "df['CANCELADO'].sum()"
   ]
  },
  {
   "cell_type": "code",
   "execution_count": 44,
   "id": "3ad085ba",
   "metadata": {},
   "outputs": [
    {
     "data": {
      "text/plain": [
       "np.int64(1335)"
      ]
     },
     "execution_count": 44,
     "metadata": {},
     "output_type": "execute_result"
    }
   ],
   "source": [
    "df['DESVIADO'].sum()"
   ]
  },
  {
   "cell_type": "code",
   "execution_count": 45,
   "id": "c9da0581",
   "metadata": {},
   "outputs": [],
   "source": [
    "# Aplicar ordenação categórica\n",
    "weekday_order = [\"Segunda-feira\", \"Terça-feira\", \"Quarta-feira\", \"Quinta-feira\", \"Sexta-feira\", \"Sábado\", \"Domingo\"]\n",
    "period_order = [\"Madrugada\", \"Manhã\", \"Tarde\", \"Noite\"]\n",
    "\n",
    "df[\"DAY_OF_WEEK\"] = pd.Categorical(df[\"DAY_OF_WEEK\"], categories=weekday_order, ordered=True)\n",
    "df[\"TIME_PERIOD\"] = pd.Categorical(df[\"TIME_PERIOD\"], categories=period_order, ordered=True)"
   ]
  },
  {
   "cell_type": "code",
   "execution_count": 46,
   "id": "a746f635",
   "metadata": {},
   "outputs": [
    {
     "data": {
      "image/png": "[encoded data removed]",
      "text/plain": [
       "<Figure size 900x500 with 1 Axes>"
      ]
     },
     "metadata": {},
     "output_type": "display_data"
    }
   ],
   "source": [
    "problem_counts = df[problematic_columns].sum()\n",
    "\n",
    "total_problematic_flights = df[problematic_columns].any(axis=1).sum()\n",
    "normal_flights_count = total_flights - total_problematic_flights\n",
    "\n",
    "all_counts = problem_counts.to_dict()\n",
    "all_counts[\"NORMAL\"] = normal_flights_count\n",
    "summary_df = pd.DataFrame(all_counts.items(), columns=[\"Problem_Type\", \"Count\"])\n",
    "\n",
    "summary_df[\"Percentage\"] = (summary_df[\"Count\"] / total_flights) * 100\n",
    "summary_df.loc[summary_df['Problem_Type'] == 'DEP_DEL15', 'Problem_Type'] = 'ATRASADO'\n",
    "summary_df_sorted = summary_df.sort_values(by=\"Percentage\", ascending=False)\n",
    "\n",
    "plt.figure(figsize=(9, 5))\n",
    "ax = sns.barplot(\n",
    "    data=summary_df_sorted,\n",
    "    x=\"Percentage\",\n",
    "    y=\"Problem_Type\",\n",
    "    hue=\"Problem_Type\",\n",
    "    palette=[\"#003F72\", \"#DC1C13\", \"#EA4C46\", \"#F07470\"],\n",
    "    legend=False\n",
    ")\n",
    "\n",
    "# Adiciona rótulos de porcentagem\n",
    "for p in ax.patches:\n",
    "    width = p.get_width()\n",
    "    ax.text(width + 1, p.get_y() + p.get_height() / 2.,\n",
    "            f'{width:.1f}%',\n",
    "            ha=\"left\", va=\"center\", fontsize=11, fontweight=\"medium\", family=\"Poppins\")\n",
    "\n",
    "# Ajusta título com Manrope\n",
    "plt.title(\"Proporção de Voos por Categoria\", fontsize=16, fontweight=\"bold\", family=\"Antonio\")\n",
    "\n",
    "# Ajustes minimalistas\n",
    "plt.xlabel(\"\")  \n",
    "plt.ylabel(\"\")\n",
    "plt.xlim(0, 100)\n",
    "plt.xticks([])  # remove ticks do eixo x\n",
    "plt.yticks(fontsize=12, family=\"Poppins\")\n",
    "sns.despine(left=True, bottom=True)  # remove bordas extras\n",
    "plt.grid(axis=\"x\", linestyle=\"--\", alpha=0.4)\n",
    "\n",
    "plt.tight_layout()\n",
    "plt.show()"
   ]
  },
  {
   "cell_type": "code",
   "execution_count": 47,
   "id": "a7a406be",
   "metadata": {},
   "outputs": [],
   "source": [
    "def plot_avg_metric(df, group_col, metric_col, top_n=10, title=\"\"):\n",
    "    \"\"\"\n",
    "    Cria gráfico de barras minimalista para valores médios.\n",
    "    \"\"\"\n",
    "    data = (\n",
    "        df.groupby(group_col, observed=True)[metric_col]\n",
    "        .mean()\n",
    "        .sort_values(ascending=False)\n",
    "        .head(top_n)\n",
    "        .reset_index()\n",
    "    )\n",
    "\n",
    "    plt.figure(figsize=(9, 5))\n",
    "    ax = sns.barplot(\n",
    "        data=data,\n",
    "        x=metric_col,\n",
    "        y=group_col,\n",
    "        color=\"#0077C8\",\n",
    "        orient=\"h\"\n",
    "    )\n",
    "\n",
    "    # Rótulos no fim da barra\n",
    "    for p in ax.patches:\n",
    "        width = p.get_width()\n",
    "        ax.text(width + 0.5, p.get_y() + p.get_height() / 2.,\n",
    "                f'{width:.1f}', ha=\"left\", va=\"center\",\n",
    "                fontsize=11, fontweight=\"medium\", family=\"Poppins\")\n",
    "\n",
    "    # Estilo minimalista\n",
    "    plt.title(title, fontsize=16, fontweight=\"bold\", family=\"Antonio\")\n",
    "    plt.xlabel(\"\")  \n",
    "    plt.ylabel(\"\")  \n",
    "    plt.xticks([])  \n",
    "    plt.yticks(fontsize=12, family=\"Poppins\")\n",
    "    sns.despine(left=True, bottom=True)\n",
    "    plt.grid(axis=\"x\", linestyle=\"--\", alpha=0.4)\n",
    "    plt.tight_layout()\n",
    "    plt.show()"
   ]
  },
  {
   "cell_type": "code",
   "execution_count": 48,
   "id": "71993d66",
   "metadata": {},
   "outputs": [],
   "source": [
    "def plot_count_metrics(df, group_col, metrics, top_n=10, title=\"\"):\n",
    "    \"\"\"\n",
    "    Cria gráfico de barras minimalista para contagem de eventos (atrasos, cancelamentos, desvios).\n",
    "    \n",
    "    Args:\n",
    "        df (pd.DataFrame): dataset\n",
    "        group_col (str): coluna para agrupar (ex.: companhia, cidade)\n",
    "        metrics (list): lista de colunas booleanas (ex.: [\"DELAY\", \"CANCELLED\", \"DIVERTED\"])\n",
    "        top_n (int): quantos grupos mostrar\n",
    "        title (str): título do gráfico\n",
    "    \"\"\"\n",
    "    data = (\n",
    "        df.groupby(group_col, observed=True)[metrics]\n",
    "        .sum()\n",
    "        .sort_values(by=metrics, ascending=False)\n",
    "        .head(top_n)\n",
    "        .reset_index()\n",
    "    )\n",
    "\n",
    "    # \"derreter\" para formato long -> facilita o gráfico\n",
    "    data_melted = data.melt(id_vars=group_col, value_vars=metrics,\n",
    "                            var_name=\"Problema\", value_name=\"Quantidade\")\n",
    "\n",
    "    plt.figure(figsize=(9, 5))\n",
    "    ax = sns.barplot(\n",
    "        data=data_melted,\n",
    "        x=\"Quantidade\",\n",
    "        y=group_col,\n",
    "        hue=\"Problema\",\n",
    "        palette=[\"#0094D8\", \"#005EA8\", \"#003F72\"],\n",
    "        orient=\"h\"\n",
    "    )\n",
    "\n",
    "    # Rótulos nas barras\n",
    "    for p in ax.patches:\n",
    "        width = p.get_width()\n",
    "        if width > 0:\n",
    "            ax.text(width + 10, p.get_y() + p.get_height() / 2.,\n",
    "                    f'{int(width)}', ha=\"left\", va=\"center\",\n",
    "                    fontsize=10, family=\"Poppins\")\n",
    "\n",
    "    # Estilo minimalista\n",
    "    plt.title(title, fontsize=16, fontweight=\"bold\", family=\"Antonio\")\n",
    "    plt.xlabel(\"\")  \n",
    "    plt.ylabel(\"\")  \n",
    "    plt.xticks([])  \n",
    "    plt.yticks(fontsize=12, family=\"Poppins\")\n",
    "    sns.despine(left=True, bottom=True)\n",
    "    plt.grid(axis=\"x\", linestyle=\"--\", alpha=0.4)\n",
    "    plt.legend(title=\"\", fontsize=10, loc=\"lower right\")\n",
    "    plt.tight_layout()\n",
    "    plt.show()\n"
   ]
  },
  {
   "cell_type": "code",
   "execution_count": 49,
   "id": "757c0ac7",
   "metadata": {},
   "outputs": [
    {
     "data": {
      "image/png": "[encoded data removed]",
      "text/plain": [
       "<Figure size 900x500 with 1 Axes>"
      ]
     },
     "metadata": {},
     "output_type": "display_data"
    },
    {
     "data": {
      "image/png": "[encoded data removed]",
      "text/plain": [
       "<Figure size 900x500 with 1 Axes>"
      ]
     },
     "metadata": {},
     "output_type": "display_data"
    }
   ],
   "source": [
    "plot_avg_metric(df, \"AIRLINE_Description\", \"DELAY_OVERALL\", top_n=5,\n",
    "                title=\"Maiores atrasos por companhias (min)\")\n",
    "plot_count_metrics(df, \"AIRLINE_Description\", [\"ATRASADO\", \"CANCELADO\", \"DESVIADO\"], top_n=3,\n",
    "                   title=\"Maiores problemas nos voos por companhias\")"
   ]
  },
  {
   "cell_type": "code",
   "execution_count": 50,
   "id": "dd583cbc",
   "metadata": {},
   "outputs": [
    {
     "data": {
      "image/png": "[encoded data removed]",
      "text/plain": [
       "<Figure size 900x500 with 1 Axes>"
      ]
     },
     "metadata": {},
     "output_type": "display_data"
    },
    {
     "data": {
      "image/png": "[encoded data removed]",
      "text/plain": [
       "<Figure size 900x500 with 1 Axes>"
      ]
     },
     "metadata": {},
     "output_type": "display_data"
    }
   ],
   "source": [
    "plot_avg_metric(df, \"ORIGIN_CITY\", \"DELAY_OVERALL\", top_n=3,\n",
    "                title=\"Maiores atrasos por cidades de origem (min)\")\n",
    "plot_count_metrics(df, \"ORIGIN_CITY\", [\"ATRASADO\", \"CANCELADO\", \"DESVIADO\"], top_n=3,\n",
    "                   title=\"Maiores problemas nos voos por cidades de origem\")"
   ]
  },
  {
   "cell_type": "code",
   "execution_count": 51,
   "id": "d01412c7",
   "metadata": {},
   "outputs": [
    {
     "data": {
      "image/png": "[encoded data removed]",
      "text/plain": [
       "<Figure size 900x500 with 1 Axes>"
      ]
     },
     "metadata": {},
     "output_type": "display_data"
    },
    {
     "data": {
      "image/png": "[encoded data removed]",
      "text/plain": [
       "<Figure size 900x500 with 1 Axes>"
      ]
     },
     "metadata": {},
     "output_type": "display_data"
    }
   ],
   "source": [
    "plot_avg_metric(df, \"ORIGIN_STATE\", \"DELAY_OVERALL\", top_n=3,\n",
    "                title=\"Maiores atrasos por estado de origem (min)\")\n",
    "plot_count_metrics(df, \"ORIGIN_STATE\", [\"ATRASADO\", \"CANCELADO\", \"DESVIADO\"], top_n=3,\n",
    "                   title=\"Maiores problemas nos voos por estado de origem\")"
   ]
  },
  {
   "cell_type": "code",
   "execution_count": 52,
   "id": "57a1a3bc",
   "metadata": {},
   "outputs": [
    {
     "data": {
      "image/png": "[encoded data removed]",
      "text/plain": [
       "<Figure size 900x500 with 1 Axes>"
      ]
     },
     "metadata": {},
     "output_type": "display_data"
    },
    {
     "data": {
      "image/png": "[encoded data removed]",
      "text/plain": [
       "<Figure size 900x500 with 1 Axes>"
      ]
     },
     "metadata": {},
     "output_type": "display_data"
    }
   ],
   "source": [
    "plot_avg_metric(df, \"DAY_OF_WEEK\", \"DELAY_OVERALL\", top_n=7,\n",
    "                title=\"Maiores atrasos por dia da semana (min)\")\n",
    "plot_count_metrics(df, \"DAY_OF_WEEK\", [\"ATRASADO\", \"CANCELADO\", \"DESVIADO\"], top_n=7,\n",
    "                   title=\"Maiores problemas nos voos por dia da semana\")"
   ]
  },
  {
   "cell_type": "code",
   "execution_count": 53,
   "id": "7733daf2",
   "metadata": {},
   "outputs": [
    {
     "data": {
      "image/png": "[encoded data removed]",
      "text/plain": [
       "<Figure size 900x500 with 1 Axes>"
      ]
     },
     "metadata": {},
     "output_type": "display_data"
    },
    {
     "data": {
      "image/png": "[encoded data removed]",
      "text/plain": [
       "<Figure size 900x500 with 1 Axes>"
      ]
     },
     "metadata": {},
     "output_type": "display_data"
    }
   ],
   "source": [
    "plot_avg_metric(df, \"TIME_PERIOD\", \"DELAY_OVERALL\", top_n=7,\n",
    "                title=\"Maiores atrasos por período do dia (min)\")\n",
    "plot_count_metrics(df, \"TIME_PERIOD\", [\"ATRASADO\", \"CANCELADO\", \"DESVIADO\"], top_n=7,\n",
    "                   title=\"Maiores problemas nos voos por período do dia\")"
   ]
  },
  {
   "cell_type": "code",
   "execution_count": 54,
   "id": "c5b8e1bd",
   "metadata": {},
   "outputs": [
    {
     "data": {
      "application/vnd.plotly.v1+json": {
       "config": {
        "plotlyServerURL": "https://plot.ly"
       },
       "data": [
        {
         "hovertemplate": "<b>🔴 Califórnia (CA)</b><br><i>Estado com indicadores críticos</i><br>• Atraso médio 1.19x maior<br>• Risco elevado de problemas<extra></extra>",
         "lat": [
          36.7
         ],
         "lon": [
          -119.4
         ],
         "marker": {
          "color": "rgba(255, 100, 100, 0.25)",
          "line": {
           "color": "rgba(255, 50, 50, 0.6)",
           "width": 2
          },
          "size": 35,
          "symbol": "hexagon"
         },
         "mode": "markers+text",
         "name": "Estado Crítico: Califórnia",
         "showlegend": false,
         "text": [
          "CA"
         ],
         "textfont": {
          "color": "rgba(200, 0, 0, 0.8)",
          "family": "Arial Black",
          "size": 14
         },
         "textposition": "middle center",
         "type": "scattergeo"
        },
        {
         "hovertemplate": "<b>🔴 Flórida (FL)</b><br><i>Estado com indicadores críticos</i><br>• Atraso médio 1.19x maior<br>• Risco elevado de problemas<extra></extra>",
         "lat": [
          27.9
         ],
         "lon": [
          -81.5
         ],
         "marker": {
          "color": "rgba(255, 100, 100, 0.25)",
          "line": {
           "color": "rgba(255, 50, 50, 0.6)",
           "width": 2
          },
          "size": 35,
          "symbol": "hexagon"
         },
         "mode": "markers+text",
         "name": "Estado Crítico: Flórida",
         "showlegend": false,
         "text": [
          "FL"
         ],
         "textfont": {
          "color": "rgba(200, 0, 0, 0.8)",
          "family": "Arial Black",
          "size": 14
         },
         "textposition": "middle center",
         "type": "scattergeo"
        },
        {
         "hovertemplate": "<b>🔴 Texas (TX)</b><br><i>Estado com indicadores críticos</i><br>• Atraso médio 1.19x maior<br>• Risco elevado de problemas<extra></extra>",
         "lat": [
          31
         ],
         "lon": [
          -99.9
         ],
         "marker": {
          "color": "rgba(255, 100, 100, 0.25)",
          "line": {
           "color": "rgba(255, 50, 50, 0.6)",
           "width": 2
          },
          "size": 35,
          "symbol": "hexagon"
         },
         "mode": "markers+text",
         "name": "Estado Crítico: Texas",
         "showlegend": false,
         "text": [
          "TX"
         ],
         "textfont": {
          "color": "rgba(200, 0, 0, 0.8)",
          "family": "Arial Black",
          "size": 14
         },
         "textposition": "middle center",
         "type": "scattergeo"
        },
        {
         "hovertemplate": "<b>🔴 Colorado (CO)</b><br><i>Estado com indicadores críticos</i><br>• Atraso médio 1.19x maior<br>• Risco elevado de problemas<extra></extra>",
         "lat": [
          39
         ],
         "lon": [
          -105.5
         ],
         "marker": {
          "color": "rgba(255, 100, 100, 0.25)",
          "line": {
           "color": "rgba(255, 50, 50, 0.6)",
           "width": 2
          },
          "size": 35,
          "symbol": "hexagon"
         },
         "mode": "markers+text",
         "name": "Estado Crítico: Colorado",
         "showlegend": false,
         "text": [
          "CO"
         ],
         "textfont": {
          "color": "rgba(200, 0, 0, 0.8)",
          "family": "Arial Black",
          "size": 14
         },
         "textposition": "middle center",
         "type": "scattergeo"
        },
        {
         "hovertemplate": "<b>FORT LAUDERDALE, FL → ST. PETERSBURG, FL</b><br>Atraso Médio: 321.0 min<br>Atraso Médio por Distância: 1.597 min/milha<br>Hora Média: 16.0h<br>Total de Voos: 1<br>Distância: 201 milhas<br><extra></extra>",
         "lat": [
          26.07258333,
          27.91076333
         ],
         "line": {
          "color": "hsl(256, 81%, 55%)",
          "width": 8.5
         },
         "lon": [
          -80.15275,
          -82.68743944
         ],
         "mode": "lines",
         "name": "FORT LAUDERDALE, FL → ST. PETERSBURG, FL",
         "showlegend": false,
         "type": "scattergeo"
        },
        {
         "hovertemplate": "<b>HOUSTON, TX → BATON ROUGE, LA</b><br>Atraso Médio: 358.8 min<br>Atraso Médio por Distância: 1.418 min/milha<br>Hora Média: 12.8h<br>Total de Voos: 4<br>Distância: 253 milhas<br><extra></extra>",
         "lat": [
          29.98047222,
          30.53316083
         ],
         "line": {
          "color": "hsl(244, 77%, 67%)",
          "width": 7.1687252722337425
         },
         "lon": [
          -95.33972222,
          -91.14963444
         ],
         "mode": "lines",
         "name": "HOUSTON, TX → BATON ROUGE, LA",
         "showlegend": false,
         "type": "scattergeo"
        },
        {
         "hovertemplate": "<b>BOSTON, MA → VALPARAISO, FL</b><br>Atraso Médio: 1525.0 min<br>Atraso Médio por Distância: 1.285 min/milha<br>Hora Média: 12.0h<br>Total de Voos: 1<br>Distância: 1187 milhas<br><extra></extra>",
         "lat": [
          42.3643475,
          30.48325
         ],
         "line": {
          "color": "hsl(242, 76%, 70%)",
          "width": 6.240583936424149
         },
         "lon": [
          -71.00517917,
          -86.5254
         ],
         "mode": "lines",
         "name": "BOSTON, MA → VALPARAISO, FL",
         "showlegend": false,
         "type": "scattergeo"
        },
        {
         "hovertemplate": "<b>BATON ROUGE, LA → HOUSTON, TX</b><br>Atraso Médio: 323.8 min<br>Atraso Médio por Distância: 1.280 min/milha<br>Hora Média: 16.0h<br>Total de Voos: 4<br>Distância: 253 milhas<br><extra></extra>",
         "lat": [
          30.53316083,
          29.98047222
         ],
         "line": {
          "color": "hsl(256, 81%, 55%)",
          "width": 6.206117579267695
         },
         "lon": [
          -91.14963444,
          -95.33972222
         ],
         "mode": "lines",
         "name": "BATON ROUGE, LA → HOUSTON, TX",
         "showlegend": false,
         "type": "scattergeo"
        },
        {
         "hovertemplate": "<b>VALPARAISO, FL → BOSTON, MA</b><br>Atraso Médio: 1496.0 min<br>Atraso Médio por Distância: 1.260 min/milha<br>Hora Média: 7.0h<br>Total de Voos: 1<br>Distância: 1187 milhas<br><extra></extra>",
         "lat": [
          30.48325,
          42.3643475
         ],
         "line": {
          "color": "hsl(224, 69%, 53%)",
          "width": 6.076468578913602
         },
         "lon": [
          -86.5254,
          -71.00517917
         ],
         "mode": "lines",
         "name": "VALPARAISO, FL → BOSTON, MA",
         "showlegend": false,
         "type": "scattergeo"
        },
        {
         "hovertemplate": "<b>MONTROSE/DELTA, CO → NEW YORK, NY</b><br>Atraso Médio: 1181.0 min<br>Atraso Médio por Distância: 0.652 min/milha<br>Hora Média: 8.0h<br>Total de Voos: 1<br>Distância: 1810 milhas<br><extra></extra>",
         "lat": [
          38.50886722,
          40.77724306
         ],
         "line": {
          "color": "hsl(228, 70%, 57%)",
          "width": 2.695774343053278
         },
         "lon": [
          -107.8938333,
          -73.87260917
         ],
         "mode": "lines",
         "name": "MONTROSE/DELTA, CO → NEW YORK, NY",
         "showlegend": false,
         "type": "scattergeo"
        },
        {
         "hovertemplate": "<b>MONTEREY, CA → SAN FRANCISCO, CA</b><br>Atraso Médio: 48.2 min<br>Atraso Médio por Distância: 0.626 min/milha<br>Hora Média: 14.0h<br>Total de Voos: 31<br>Distância: 77 milhas<br><extra></extra>",
         "lat": [
          36.5869825,
          37.61900194
         ],
         "line": {
          "color": "hsl(249, 78%, 63%)",
          "width": 2.5840474948967116
         },
         "lon": [
          -121.8429478,
          -122.3748433
         ],
         "mode": "lines",
         "name": "MONTEREY, CA → SAN FRANCISCO, CA",
         "showlegend": false,
         "type": "scattergeo"
        },
        {
         "hovertemplate": "<b>HATTIESBURG/LAUREL, MS → MERIDIAN, MS</b><br>Atraso Médio: 38.2 min<br>Atraso Médio por Distância: 0.554 min/milha<br>Hora Média: 7.7h<br>Total de Voos: 31<br>Distância: 69 milhas<br><extra></extra>",
         "lat": [
          31.46714944,
          32.33313333
         ],
         "line": {
          "color": "hsl(227, 70%, 56%)",
          "width": 2.2992607207294196
         },
         "lon": [
          -89.33705778,
          -88.75120556
         ],
         "mode": "lines",
         "name": "HATTIESBURG/LAUREL, MS → MERIDIAN, MS",
         "showlegend": false,
         "type": "scattergeo"
        },
        {
         "hovertemplate": "<b>ESCANABA, MI → IRON MOUNTAIN/KINGSFD, MI</b><br>Atraso Médio: 27.0 min<br>Atraso Médio por Distância: 0.540 min/milha<br>Hora Média: 10.5h<br>Total de Voos: 30<br>Distância: 50 milhas<br><extra></extra>",
         "lat": [
          45.72266972,
          45.81835417
         ],
         "line": {
          "color": "hsl(237, 74%, 65%)",
          "width": 2.2492938498156976
         },
         "lon": [
          -87.09373139,
          -88.1145425
         ],
         "mode": "lines",
         "name": "ESCANABA, MI → IRON MOUNTAIN/KINGSFD, MI",
         "showlegend": false,
         "type": "scattergeo"
        },
        {
         "hovertemplate": "<b>HOUSTON, TX → HUNTSVILLE, AL</b><br>Atraso Médio: 279.0 min<br>Atraso Médio por Distância: 0.469 min/milha<br>Hora Média: 16.3h<br>Total de Voos: 3<br>Distância: 595 milhas<br><extra></extra>",
         "lat": [
          29.98047222,
          34.6404475
         ],
         "line": {
          "color": "hsl(257, 81%, 54%)",
          "width": 2.0052136416086266
         },
         "lon": [
          -95.33972222,
          -86.77310944
         ],
         "mode": "lines",
         "name": "HOUSTON, TX → HUNTSVILLE, AL",
         "showlegend": false,
         "type": "scattergeo"
        },
        {
         "hovertemplate": "<b>HAYS, KS → SALINA, KS</b><br>Atraso Médio: 38.6 min<br>Atraso Médio por Distância: 0.439 min/milha<br>Hora Média: 13.9h<br>Total de Voos: 31<br>Distância: 88 milhas<br><extra></extra>",
         "lat": [
          38.84494167,
          38.7914825
         ],
         "line": {
          "color": "hsl(248, 78%, 63%)",
          "width": 1.9118512421356402
         },
         "lon": [
          -99.27403361,
          -97.65060333
         ],
         "mode": "lines",
         "name": "HAYS, KS → SALINA, KS",
         "showlegend": false,
         "type": "scattergeo"
        },
        {
         "hovertemplate": "<b>AUSTIN, TX → KNOXVILLE, TN</b><br>Atraso Médio: 384.0 min<br>Atraso Médio por Distância: 0.435 min/milha<br>Hora Média: 0.0h<br>Total de Voos: 1<br>Distância: 882 milhas<br><extra></extra>",
         "lat": [
          30.19453278,
          35.81248722
         ],
         "line": {
          "color": "hsl(200, 60%, 30%)",
          "width": 1.901692315757906
         },
         "lon": [
          -97.66987194,
          -83.99285583
         ],
         "mode": "lines",
         "name": "AUSTIN, TX → KNOXVILLE, TN",
         "showlegend": false,
         "type": "scattergeo"
        },
        {
         "hovertemplate": "<b>IRON MOUNTAIN/KINGSFD, MI → ESCANABA, MI</b><br>Atraso Médio: 20.7 min<br>Atraso Médio por Distância: 0.415 min/milha<br>Hora Média: 15.3h<br>Total de Voos: 31<br>Distância: 50 milhas<br><extra></extra>",
         "lat": [
          45.81835417,
          45.72266972
         ],
         "line": {
          "color": "hsl(253, 80%, 58%)",
          "width": 1.8423163871335813
         },
         "lon": [
          -88.1145425,
          -87.09373139
         ],
         "mode": "lines",
         "name": "IRON MOUNTAIN/KINGSFD, MI → ESCANABA, MI",
         "showlegend": false,
         "type": "scattergeo"
        },
        {
         "hovertemplate": "<b>HOUSTON, TX → LITTLE ROCK, AR</b><br>Atraso Médio: 138.0 min<br>Atraso Médio por Distância: 0.369 min/milha<br>Hora Média: 9.0h<br>Total de Voos: 1<br>Distância: 374 milhas<br><extra></extra>",
         "lat": [
          29.98047222,
          34.72939611
         ],
         "line": {
          "color": "hsl(231, 72%, 60%)",
          "width": 1.7217774325447877
         },
         "lon": [
          -95.33972222,
          -92.22424556
         ],
         "mode": "lines",
         "name": "HOUSTON, TX → LITTLE ROCK, AR",
         "showlegend": false,
         "type": "scattergeo"
        },
        {
         "hovertemplate": "<b>PELLSTON, MI → ALPENA, MI</b><br>Atraso Médio: 23.6 min<br>Atraso Médio por Distância: 0.342 min/milha<br>Hora Média: 12.2h<br>Total de Voos: 30<br>Distância: 69 milhas<br><extra></extra>",
         "lat": [
          45.5709275,
          45.0780675
         ],
         "line": {
          "color": "hsl(242, 76%, 69%)",
          "width": 1.6584508358294034
         },
         "lon": [
          -84.796715,
          -83.56028583
         ],
         "mode": "lines",
         "name": "PELLSTON, MI → ALPENA, MI",
         "showlegend": false,
         "type": "scattergeo"
        },
        {
         "hovertemplate": "<b>MERIDIAN, MS → HATTIESBURG/LAUREL, MS</b><br>Atraso Médio: 22.7 min<br>Atraso Médio por Distância: 0.329 min/milha<br>Hora Média: 18.1h<br>Total de Voos: 52<br>Distância: 69 milhas<br><extra></extra>",
         "lat": [
          32.33313333,
          31.46714944
         ],
         "line": {
          "color": "hsl(263, 84%, 48%)",
          "width": 1.6328290029093417
         },
         "lon": [
          -88.75120556,
          -89.33705778
         ],
         "mode": "lines",
         "name": "MERIDIAN, MS → HATTIESBURG/LAUREL, MS",
         "showlegend": false,
         "type": "scattergeo"
        },
        {
         "hovertemplate": "<b>SAN JUAN, PR → CHARLOTTE AMALIE, VI</b><br>Atraso Médio: 21.4 min<br>Atraso Médio por Distância: 0.314 min/milha<br>Hora Média: 13.2h<br>Total de Voos: 62<br>Distância: 68 milhas<br><extra></extra>",
         "lat": [
          18.43941667,
          18.33730556
         ],
         "line": {
          "color": "hsl(246, 77%, 65%)",
          "width": 1.6025325792600866
         },
         "lon": [
          -66.00183333,
          -64.97336111
         ],
         "mode": "lines",
         "name": "SAN JUAN, PR → CHARLOTTE AMALIE, VI",
         "showlegend": false,
         "type": "scattergeo"
        },
        {
         "hovertemplate": "<b>ATLANTA, GA → COLUMBUS, GA</b><br>Atraso Médio: 25.8 min<br>Atraso Médio por Distância: 0.311 min/milha<br>Hora Média: 15.4h<br>Total de Voos: 82<br>Distância: 83 milhas<br><extra></extra>",
         "lat": [
          33.64044444,
          32.51633333
         ],
         "line": {
          "color": "hsl(254, 80%, 58%)",
          "width": 1.5966792351119767
         },
         "lon": [
          -84.42694444,
          -84.93886111
         ],
         "mode": "lines",
         "name": "ATLANTA, GA → COLUMBUS, GA",
         "showlegend": false,
         "type": "scattergeo"
        },
        {
         "hovertemplate": "<b>CHICAGO, IL → SOUTH BEND, IN</b><br>Atraso Médio: 25.8 min<br>Atraso Médio por Distância: 0.307 min/milha<br>Hora Média: 17.5h<br>Total de Voos: 124<br>Distância: 84 milhas<br><extra></extra>",
         "lat": [
          41.979595,
          41.70895361
         ],
         "line": {
          "color": "hsl(261, 83%, 50%)",
          "width": 1.5899615394603512
         },
         "lon": [
          -87.90446417,
          -86.31847417
         ],
         "mode": "lines",
         "name": "CHICAGO, IL → SOUTH BEND, IN",
         "showlegend": false,
         "type": "scattergeo"
        },
        {
         "hovertemplate": "<b>MASON CITY, IA → FORT DODGE, IA</b><br>Atraso Médio: 18.5 min<br>Atraso Médio por Distância: 0.303 min/milha<br>Hora Média: 17.2h<br>Total de Voos: 22<br>Distância: 61 milhas<br><extra></extra>",
         "lat": [
          43.1577925,
          42.55145611
         ],
         "line": {
          "color": "hsl(260, 82%, 51%)",
          "width": 1.5816495246407996
         },
         "lon": [
          -93.33126056,
          -94.19255111
         ],
         "mode": "lines",
         "name": "MASON CITY, IA → FORT DODGE, IA",
         "showlegend": false,
         "type": "scattergeo"
        },
        {
         "hovertemplate": "<b>DENVER, CO → COLORADO SPRINGS, CO</b><br>Atraso Médio: 21.8 min<br>Atraso Médio por Distância: 0.299 min/milha<br>Hora Média: 15.7h<br>Total de Voos: 301<br>Distância: 73 milhas<br><extra></extra>",
         "lat": [
          39.85840806,
          38.80580556
         ],
         "line": {
          "color": "hsl(255, 80%, 57%)",
          "width": 1.574717951400511
         },
         "lon": [
          -104.6670019,
          -104.70025
         ],
         "mode": "lines",
         "name": "DENVER, CO → COLORADO SPRINGS, CO",
         "showlegend": false,
         "type": "scattergeo"
        },
        {
         "hovertemplate": "<b>SANTA ANA, CA → BOISE, ID</b><br>Atraso Médio: 201.1 min<br>Atraso Médio por Distância: 0.292 min/milha<br>Hora Média: 11.1h<br>Total de Voos: 9<br>Distância: 688 milhas<br><extra></extra>",
         "lat": [
          33.67565861,
          43.56444444
         ],
         "line": {
          "color": "hsl(239, 75%, 67%)",
          "width": 1.5644806933178232
         },
         "lon": [
          -117.8682225,
          -116.2227778
         ],
         "mode": "lines",
         "name": "SANTA ANA, CA → BOISE, ID",
         "showlegend": false,
         "type": "scattergeo"
        },
        {
         "hovertemplate": "<b>COLUMBUS, GA → ATLANTA, GA</b><br>Atraso Médio: 24.2 min<br>Atraso Médio por Distância: 0.291 min/milha<br>Hora Média: 11.0h<br>Total de Voos: 82<br>Distância: 83 milhas<br><extra></extra>",
         "lat": [
          32.51633333,
          33.64044444
         ],
         "line": {
          "color": "hsl(238, 74%, 67%)",
          "width": 1.5624815746388303
         },
         "lon": [
          -84.93886111,
          -84.42694444
         ],
         "mode": "lines",
         "name": "COLUMBUS, GA → ATLANTA, GA",
         "showlegend": false,
         "type": "scattergeo"
        },
        {
         "hovertemplate": "<b>DEVILS LAKE, ND → JAMESTOWN, ND</b><br>Atraso Médio: 24.0 min<br>Atraso Médio por Distância: 0.289 min/milha<br>Hora Média: 11.4h<br>Total de Voos: 25<br>Distância: 83 milhas<br><extra></extra>",
         "lat": [
          48.11424528,
          46.92971944
         ],
         "line": {
          "color": "hsl(240, 75%, 68%)",
          "width": 1.5587029596181685
         },
         "lon": [
          -98.90877833,
          -98.67819528
         ],
         "mode": "lines",
         "name": "DEVILS LAKE, ND → JAMESTOWN, ND",
         "showlegend": false,
         "type": "scattergeo"
        },
        {
         "hovertemplate": "<b>LARAMIE, WY → DENVER, CO</b><br>Atraso Médio: 32.1 min<br>Atraso Médio por Distância: 0.284 min/milha<br>Hora Média: 14.8h<br>Total de Voos: 53<br>Distância: 113 milhas<br><extra></extra>",
         "lat": [
          41.31205,
          39.85840806
         ],
         "line": {
          "color": "hsl(251, 79%, 60%)",
          "width": 1.5520810239971279
         },
         "lon": [
          -105.6749864,
          -104.6670019
         ],
         "mode": "lines",
         "name": "LARAMIE, WY → DENVER, CO",
         "showlegend": false,
         "type": "scattergeo"
        },
        {
         "hovertemplate": "<b>CHARLOTTE AMALIE, VI → SAN JUAN, PR</b><br>Atraso Médio: 19.3 min<br>Atraso Médio por Distância: 0.283 min/milha<br>Hora Média: 14.3h<br>Total de Voos: 68<br>Distância: 68 milhas<br><extra></extra>",
         "lat": [
          18.33730556,
          18.43941667
         ],
         "line": {
          "color": "hsl(250, 79%, 62%)",
          "width": 1.5505116163991581
         },
         "lon": [
          -64.97336111,
          -66.00183333
         ],
         "mode": "lines",
         "name": "CHARLOTTE AMALIE, VI → SAN JUAN, PR",
         "showlegend": false,
         "type": "scattergeo"
        },
        {
         "hovertemplate": "<b>KALAMAZOO, MI → CHICAGO, IL</b><br>Atraso Médio: 34.1 min<br>Atraso Médio por Distância: 0.279 min/milha<br>Hora Média: 10.5h<br>Total de Voos: 49<br>Distância: 122 milhas<br><extra></extra>",
         "lat": [
          42.234875,
          41.979595
         ],
         "line": {
          "color": "hsl(236, 74%, 65%)",
          "width": 1.544519800386463
         },
         "lon": [
          -85.5520575,
          -87.90446417
         ],
         "mode": "lines",
         "name": "KALAMAZOO, MI → CHICAGO, IL",
         "showlegend": false,
         "type": "scattergeo"
        },
        {
         "hovertemplate": "<b>BINGHAMTON, NY → NEW YORK, NY</b><br>Atraso Médio: 41.0 min<br>Atraso Médio por Distância: 0.279 min/milha<br>Hora Média: 9.7h<br>Total de Voos: 42<br>Distância: 147 milhas<br><extra></extra>",
         "lat": [
          42.20848278,
          40.77724306
         ],
         "line": {
          "color": "hsl(234, 73%, 62%)",
          "width": 1.5438929449715952
         },
         "lon": [
          -75.97961361,
          -73.87260917
         ],
         "mode": "lines",
         "name": "BINGHAMTON, NY → NEW YORK, NY",
         "showlegend": false,
         "type": "scattergeo"
        },
        {
         "hovertemplate": "<b>POCATELLO, ID → SALT LAKE CITY, UT</b><br>Atraso Médio: 41.7 min<br>Atraso Médio por Distância: 0.278 min/milha<br>Hora Média: 6.7h<br>Total de Voos: 31<br>Distância: 150 milhas<br><extra></extra>",
         "lat": [
          42.91130556,
          40.78838778
         ],
         "line": {
          "color": "hsl(223, 69%, 52%)",
          "width": 1.5432277553715927
         },
         "lon": [
          -112.5958611,
          -111.9777731
         ],
         "mode": "lines",
         "name": "POCATELLO, ID → SALT LAKE CITY, UT",
         "showlegend": false,
         "type": "scattergeo"
        },
        {
         "hovertemplate": "<b>MADISON, WI → CHICAGO, IL</b><br>Atraso Médio: 29.9 min<br>Atraso Médio por Distância: 0.277 min/milha<br>Hora Média: 9.8h<br>Total de Voos: 145<br>Distância: 108 milhas<br><extra></extra>",
         "lat": [
          43.13985778,
          41.979595
         ],
         "line": {
          "color": "hsl(234, 73%, 63%)",
          "width": 1.5410064830390147
         },
         "lon": [
          -89.33751361,
          -87.90446417
         ],
         "mode": "lines",
         "name": "MADISON, WI → CHICAGO, IL",
         "showlegend": false,
         "type": "scattergeo"
        },
        {
         "hovertemplate": "<b>MILWAUKEE, WI → CHICAGO, IL</b><br>Atraso Médio: 18.4 min<br>Atraso Médio por Distância: 0.274 min/milha<br>Hora Média: 10.6h<br>Total de Voos: 126<br>Distância: 67 milhas<br><extra></extra>",
         "lat": [
          42.94722222,
          41.979595
         ],
         "line": {
          "color": "hsl(237, 74%, 65%)",
          "width": 1.5377910676569124
         },
         "lon": [
          -87.89658333,
          -87.90446417
         ],
         "mode": "lines",
         "name": "MILWAUKEE, WI → CHICAGO, IL",
         "showlegend": false,
         "type": "scattergeo"
        },
        {
         "hovertemplate": "<b>WORCESTER, MA → NEW YORK, NY</b><br>Atraso Médio: 39.5 min<br>Atraso Médio por Distância: 0.271 min/milha<br>Hora Média: 17.2h<br>Total de Voos: 21<br>Distância: 146 milhas<br><extra></extra>",
         "lat": [
          42.26733944,
          40.77724306
         ],
         "line": {
          "color": "hsl(260, 82%, 51%)",
          "width": 1.5329968666846658
         },
         "lon": [
          -71.87570944,
          -73.87260917
         ],
         "mode": "lines",
         "name": "WORCESTER, MA → NEW YORK, NY",
         "showlegend": false,
         "type": "scattergeo"
        },
        {
         "hovertemplate": "<b>CHICAGO, IL → MILWAUKEE, WI</b><br>Atraso Médio: 18.1 min<br>Atraso Médio por Distância: 0.270 min/milha<br>Hora Média: 13.4h<br>Total de Voos: 126<br>Distância: 67 milhas<br><extra></extra>",
         "lat": [
          41.979595,
          42.94722222
         ],
         "line": {
          "color": "hsl(247, 78%, 65%)",
          "width": 1.5318811889783244
         },
         "lon": [
          -87.90446417,
          -87.89658333
         ],
         "mode": "lines",
         "name": "CHICAGO, IL → MILWAUKEE, WI",
         "showlegend": false,
         "type": "scattergeo"
        },
        {
         "hovertemplate": "<b>SARASOTA/BRADENTON, FL → AUSTIN, TX</b><br>Atraso Médio: 250.0 min<br>Atraso Médio por Distância: 0.267 min/milha<br>Hora Média: 20.0h<br>Total de Voos: 1<br>Distância: 936 milhas<br><extra></extra>",
         "lat": [
          27.39533333,
          30.19453278
         ],
         "line": {
          "color": "hsl(270, 86%, 41%)",
          "width": 1.528442374895761
         },
         "lon": [
          -82.55411111,
          -97.66987194
         ],
         "mode": "lines",
         "name": "SARASOTA/BRADENTON, FL → AUSTIN, TX",
         "showlegend": false,
         "type": "scattergeo"
        },
        {
         "hovertemplate": "<b>JAMESTOWN, ND → DEVILS LAKE, ND</b><br>Atraso Médio: 21.9 min<br>Atraso Médio por Distância: 0.264 min/milha<br>Hora Média: 16.5h<br>Total de Voos: 31<br>Distância: 83 milhas<br><extra></extra>",
         "lat": [
          46.92971944,
          48.11424528
         ],
         "line": {
          "color": "hsl(257, 82%, 54%)",
          "width": 1.5250617834937599
         },
         "lon": [
          -98.67819528,
          -98.90877833
         ],
         "mode": "lines",
         "name": "JAMESTOWN, ND → DEVILS LAKE, ND",
         "showlegend": false,
         "type": "scattergeo"
        },
        {
         "hovertemplate": "<b>PETERSBURG, AK → WRANGELL, AK</b><br>Atraso Médio: 8.1 min<br>Atraso Médio por Distância: 0.261 min/milha<br>Hora Média: 14.4h<br>Total de Voos: 30<br>Distância: 31 milhas<br><extra></extra>",
         "lat": [
          56.80165194,
          56.48432583
         ],
         "line": {
          "color": "hsl(250, 79%, 61%)",
          "width": 1.5216231383147083
         },
         "lon": [
          -132.9452781,
          -132.3698242
         ],
         "mode": "lines",
         "name": "PETERSBURG, AK → WRANGELL, AK",
         "showlegend": false,
         "type": "scattergeo"
        },
        {
         "hovertemplate": "<b>SAN FRANCISCO, CA → SACRAMENTO, CA</b><br>Atraso Médio: 22.3 min<br>Atraso Médio por Distância: 0.259 min/milha<br>Hora Média: 19.1h<br>Total de Voos: 62<br>Distância: 86 milhas<br><extra></extra>",
         "lat": [
          37.61900194,
          38.69542167
         ],
         "line": {
          "color": "hsl(266, 85%, 44%)",
          "width": 1.5195153482635677
         },
         "lon": [
          -122.3748433,
          -121.5907669
         ],
         "mode": "lines",
         "name": "SAN FRANCISCO, CA → SACRAMENTO, CA",
         "showlegend": false,
         "type": "scattergeo"
        },
        {
         "hovertemplate": "<b>CHAMPAIGN/URBANA, IL → CHICAGO, IL</b><br>Atraso Médio: 34.9 min<br>Atraso Médio por Distância: 0.258 min/milha<br>Hora Média: 9.0h<br>Total de Voos: 56<br>Distância: 135 milhas<br><extra></extra>",
         "lat": [
          40.03925,
          41.979595
         ],
         "line": {
          "color": "hsl(231, 72%, 60%)",
          "width": 1.5182555088264884
         },
         "lon": [
          -88.27805556,
          -87.90446417
         ],
         "mode": "lines",
         "name": "CHAMPAIGN/URBANA, IL → CHICAGO, IL",
         "showlegend": false,
         "type": "scattergeo"
        },
        {
         "hovertemplate": "<b>SAN DIEGO, CA → LOS ANGELES, CA</b><br>Atraso Médio: 27.7 min<br>Atraso Médio por Distância: 0.254 min/milha<br>Hora Média: 10.5h<br>Total de Voos: 93<br>Distância: 109 milhas<br><extra></extra>",
         "lat": [
          32.73355611,
          33.94253611
         ],
         "line": {
          "color": "hsl(236, 74%, 65%)",
          "width": 1.5143958978363348
         },
         "lon": [
          -117.1896567,
          -118.4080744
         ],
         "mode": "lines",
         "name": "SAN DIEGO, CA → LOS ANGELES, CA",
         "showlegend": false,
         "type": "scattergeo"
        },
        {
         "hovertemplate": "<b>PELLSTON, MI → DETROIT, MI</b><br>Atraso Médio: 61.7 min<br>Atraso Médio por Distância: 0.254 min/milha<br>Hora Média: 18.7h<br>Total de Voos: 22<br>Distância: 243 milhas<br><extra></extra>",
         "lat": [
          45.5709275,
          42.21205889
         ],
         "line": {
          "color": "hsl(265, 84%, 46%)",
          "width": 1.514013253061218
         },
         "lon": [
          -84.796715,
          -83.34883583
         ],
         "mode": "lines",
         "name": "PELLSTON, MI → DETROIT, MI",
         "showlegend": false,
         "type": "scattergeo"
        },
        {
         "hovertemplate": "<b>ASPEN, CO → DENVER, CO</b><br>Atraso Médio: 31.6 min<br>Atraso Médio por Distância: 0.253 min/milha<br>Hora Média: 12.6h<br>Total de Voos: 219<br>Distância: 125 milhas<br><extra></extra>",
         "lat": [
          39.22316,
          39.85840806
         ],
         "line": {
          "color": "hsl(244, 76%, 68%)",
          "width": 1.513107817223556
         },
         "lon": [
          -106.868845,
          -104.6670019
         ],
         "mode": "lines",
         "name": "ASPEN, CO → DENVER, CO",
         "showlegend": false,
         "type": "scattergeo"
        },
        {
         "hovertemplate": "<b>DENVER, CO → ASPEN, CO</b><br>Atraso Médio: 31.6 min<br>Atraso Médio por Distância: 0.253 min/milha<br>Hora Média: 13.7h<br>Total de Voos: 219<br>Distância: 125 milhas<br><extra></extra>",
         "lat": [
          39.85840806,
          39.22316
         ],
         "line": {
          "color": "hsl(248, 78%, 64%)",
          "width": 1.5130040249874745
         },
         "lon": [
          -104.6670019,
          -106.868845
         ],
         "mode": "lines",
         "name": "DENVER, CO → ASPEN, CO",
         "showlegend": false,
         "type": "scattergeo"
        },
        {
         "hovertemplate": "<b>AUSTIN, TX → SARASOTA/BRADENTON, FL</b><br>Atraso Médio: 236.0 min<br>Atraso Médio por Distância: 0.252 min/milha<br>Hora Média: 16.0h<br>Total de Voos: 1<br>Distância: 936 milhas<br><extra></extra>",
         "lat": [
          30.19453278,
          27.39533333
         ],
         "line": {
          "color": "hsl(256, 81%, 55%)",
          "width": 1.5122257332050169
         },
         "lon": [
          -97.66987194,
          -82.55411111
         ],
         "mode": "lines",
         "name": "AUSTIN, TX → SARASOTA/BRADENTON, FL",
         "showlegend": false,
         "type": "scattergeo"
        },
        {
         "hovertemplate": "<b>MINNEAPOLIS, MN → ROCHESTER, MN</b><br>Atraso Médio: 18.8 min<br>Atraso Médio por Distância: 0.248 min/milha<br>Hora Média: 15.7h<br>Total de Voos: 62<br>Distância: 76 milhas<br><extra></extra>",
         "lat": [
          44.88054694,
          43.90882639
         ],
         "line": {
          "color": "hsl(255, 80%, 57%)",
          "width": 1.508500005542152
         },
         "lon": [
          -93.2169225,
          -92.49798722
         ],
         "mode": "lines",
         "name": "MINNEAPOLIS, MN → ROCHESTER, MN",
         "showlegend": false,
         "type": "scattergeo"
        },
        {
         "hovertemplate": "<b>TEXARKANA, AR → DALLAS/FORT WORTH, TX</b><br>Atraso Médio: 44.4 min<br>Atraso Médio por Distância: 0.245 min/milha<br>Hora Média: 11.7h<br>Total de Voos: 90<br>Distância: 181 milhas<br><extra></extra>",
         "lat": [
          33.45370806,
          32.89595056
         ],
         "line": {
          "color": "hsl(241, 75%, 69%)",
          "width": 1.5065695821730944
         },
         "lon": [
          -93.99102,
          -97.0372
         ],
         "mode": "lines",
         "name": "TEXARKANA, AR → DALLAS/FORT WORTH, TX",
         "showlegend": false,
         "type": "scattergeo"
        },
        {
         "hovertemplate": "<b>GUNNISON, CO → DENVER, CO</b><br>Atraso Médio: 37.2 min<br>Atraso Médio por Distância: 0.244 min/milha<br>Hora Média: 10.5h<br>Total de Voos: 62<br>Distância: 152 milhas<br><extra></extra>",
         "lat": [
          38.53396333,
          39.85840806
         ],
         "line": {
          "color": "hsl(236, 74%, 65%)",
          "width": 1.5058711031945986
         },
         "lon": [
          -106.9331817,
          -104.6670019
         ],
         "mode": "lines",
         "name": "GUNNISON, CO → DENVER, CO",
         "showlegend": false,
         "type": "scattergeo"
        },
        {
         "hovertemplate": "<b>PEORIA, IL → CHICAGO, IL</b><br>Atraso Médio: 31.7 min<br>Atraso Médio por Distância: 0.243 min/milha<br>Hora Média: 9.0h<br>Total de Voos: 49<br>Distância: 130 milhas<br><extra></extra>",
         "lat": [
          40.66424333,
          41.979595
         ],
         "line": {
          "color": "hsl(231, 72%, 60%)",
          "width": 1.5051626779296223
         },
         "lon": [
          -89.69330556,
          -87.90446417
         ],
         "mode": "lines",
         "name": "PEORIA, IL → CHICAGO, IL",
         "showlegend": false,
         "type": "scattergeo"
        },
        {
         "hovertemplate": "<b>SAN FRANCISCO, CA → MONTEREY, CA</b><br>Atraso Médio: 18.4 min<br>Atraso Médio por Distância: 0.239 min/milha<br>Hora Média: 10.7h<br>Total de Voos: 31<br>Distância: 77 milhas<br><extra></extra>",
         "lat": [
          37.61900194,
          36.5869825
         ],
         "line": {
          "color": "hsl(237, 74%, 66%)",
          "width": 1.5022736107062364
         },
         "lon": [
          -122.3748433,
          -121.8429478
         ],
         "mode": "lines",
         "name": "SAN FRANCISCO, CA → MONTEREY, CA",
         "showlegend": false,
         "type": "scattergeo"
        },
        {
         "hovertemplate": "<b>DECATUR, IL → CHICAGO, IL</b><br>Atraso Médio: 36.6 min<br>Atraso Médio por Distância: 0.235 min/milha<br>Hora Média: 11.9h<br>Total de Voos: 52<br>Distância: 156 milhas<br><extra></extra>",
         "lat": [
          39.8345625,
          41.979595
         ],
         "line": {
          "color": "hsl(241, 76%, 70%)",
          "width": 1.5005062174048525
         },
         "lon": [
          -88.86568917,
          -87.90446417
         ],
         "mode": "lines",
         "name": "DECATUR, IL → CHICAGO, IL",
         "showlegend": false,
         "type": "scattergeo"
        },
        {
         "hovertemplate": "<b>RIVERTON/LANDER, WY → DENVER, CO</b><br>Atraso Médio: 68.8 min<br>Atraso Médio por Distância: 0.232 min/milha<br>Hora Média: 6.4h<br>Total de Voos: 31<br>Distância: 296 milhas<br><extra></extra>",
         "lat": [
          43.064235,
          39.85840806
         ],
         "line": {
          "color": "hsl(222, 68%, 51%)",
          "width": 1.5
         },
         "lon": [
          -108.4598411,
          -104.6670019
         ],
         "mode": "lines",
         "name": "RIVERTON/LANDER, WY → DENVER, CO",
         "showlegend": false,
         "type": "scattergeo"
        },
        {
         "hovertemplate": "<b>%{text}</b><br><i>Aeroporto de Origem</i><extra></extra>",
         "lat": {
          "bdata": "tJU00pQSOkBZiTc6APs9QI9wWvCiLkVAtFtoOn2IPkDByqFFtns+QAb0oY8iQUNAg2kYPiJLQkAMJQ8bl3c/QNCa/nCA3EZAWYk3OgD7PUC81nMMJ2xDQJcZeObMMT5A/VhW1L/oRkBZiTc6APs9QItx/iYUyUZAX8fqHKQqQECc92KcfXAyQD9aWhX60UBAnil0XmP9REDshm2LMpRFQFIpuFDg7UNA/Jo4+3vWQECnF+c1F0JAQEOp3pafDkhAwFsgQfGnREB/9TyoWVYyQPLSTWIQHkVAiPBQkK8aRUB2bhyppXRFQHiYF9zmkUVA5njkkz55RUCQ3cMtOCJFQJ4pdF5j/URAaF6rkDRlO0CyoO4LAXdHQJiJ4IecZkxA8zqgdDvPQkAbL90kBgVEQJEdpyrlXUBAi3H+JhTJRkA/48KBkJxDQFIpuFDg7UNAlxl45swxPkBK8hrDtXBGQNjQDxsTukBAf84P6VhEQ0DTd+nsBVVEQPM6oHQ7z0JA5/up8dLqQ0AYITzaOIhFQA==",
          "dtype": "f8"
         },
         "lon": {
          "bdata": "sp3vp8YJVMD4J0QCvtVXwE9xA9tUwFHA8IlUnJPJVsBhVFInoKFVwNnklZA0+VrADU9U2/J1XsCXfctaklVWwCeq8bH/xVXA+CdEAr7VV8AcPUTEidFYwLezji7faljAIuAQqlQHVsD4J0QCvtVXwORO6WD9MlXAfzF8wBMwVsAjGYsJHoBQwJTAxQ5TG1XAcaOvveL5VcDm6X1fM1VXwKy3vCiwKlrAsMka9ZB3XcDsu+hMFjxVwHeqlWwpuljAqk8o+jJrWsB9qWWMSz5QwL0A++hUY1XAqGpI/bH+UsBZXZiWIiZcwOo5r9KZVVbASB8Mn2H5VcBNZpufC/hRwHGjr73i+VXAN/NxjnajVMCz+SyNZ6tYwACk27c/nmDA+6fAbv2XXsDxKoypyxFWwOj92lUjTF3A5E7pYP0yVcDCEg8om7dawKy3vCiwKlrAt7OOLt9qWMAP0egO4k1XwKVrJt9sf1fAcq68P7m7WsBwlUgeX2xWwPunwG79l17AsGmMc2c3VsDUdl0Jbh1bwA==",
          "dtype": "f8"
         },
         "marker": {
          "color": "green",
          "line": {
           "color": "white",
           "width": 1
          },
          "size": 7,
          "symbol": "circle"
         },
         "mode": "markers",
         "name": "Origem",
         "showlegend": false,
         "text": [
          "FORT LAUDERDALE, FL",
          "HOUSTON, TX",
          "BOSTON, MA",
          "BATON ROUGE, LA",
          "VALPARAISO, FL",
          "MONTROSE/DELTA, CO",
          "MONTEREY, CA",
          "HATTIESBURG/LAUREL, MS",
          "ESCANABA, MI",
          "HOUSTON, TX",
          "HAYS, KS",
          "AUSTIN, TX",
          "IRON MOUNTAIN/KINGSFD, MI",
          "HOUSTON, TX",
          "PELLSTON, MI",
          "MERIDIAN, MS",
          "SAN JUAN, PR",
          "ATLANTA, GA",
          "CHICAGO, IL",
          "MASON CITY, IA",
          "DENVER, CO",
          "SANTA ANA, CA",
          "COLUMBUS, GA",
          "DEVILS LAKE, ND",
          "LARAMIE, WY",
          "CHARLOTTE AMALIE, VI",
          "KALAMAZOO, MI",
          "BINGHAMTON, NY",
          "POCATELLO, ID",
          "MADISON, WI",
          "MILWAUKEE, WI",
          "WORCESTER, MA",
          "CHICAGO, IL",
          "SARASOTA/BRADENTON, FL",
          "JAMESTOWN, ND",
          "PETERSBURG, AK",
          "SAN FRANCISCO, CA",
          "CHAMPAIGN/URBANA, IL",
          "SAN DIEGO, CA",
          "PELLSTON, MI",
          "ASPEN, CO",
          "DENVER, CO",
          "AUSTIN, TX",
          "MINNEAPOLIS, MN",
          "TEXARKANA, AR",
          "GUNNISON, CO",
          "PEORIA, IL",
          "SAN FRANCISCO, CA",
          "DECATUR, IL",
          "RIVERTON/LANDER, WY"
         ],
         "type": "scattergeo"
        },
        {
         "hovertemplate": "<b>%{text}</b><br><i>Aeroporto de Destino</i><extra></extra>",
         "lat": {
          "bdata": "/r4cySfpO0C0W2g6fYg+QMHKoUW2ez5AWYk3OgD7PUCPcFrwoi5FQBrfWbN8Y0RA8zqgdDvPQkBfx+ocpCpAQP1YVtS/6EZACacFL/pRQUCcbW5MT2VDQLMoy5T/50FA0Jr+cIDcRkDLIwvaXF1BQLSwpx3+iUZADCUPG5d3P0B/9TyoWVYyQKcX5zUXQkBAY6rs/b7aRECP0CIdlkZFQEeR96IkZ0NAwholtz/IRUA/WloV+tFAQLKg7gsBd0dAUim4UODtQ0Cc92KcfXAyQJ4pdF5j/URAGt9Zs3xjREBB1Qnk6WREQJ4pdF5j/URAnil0XmP9REAa31mzfGNEQOZ45JM+eUVAlxl45swxPkBDqd6Wnw5IQKI6iGP+PUxANMrIkwNZQ0CeKXReY/1EQOHf8wWl+EBAI7DmviQbRUBSKbhQ4O1DQD/jwoGQnENAaF6rkDRlO0BYZVNsVPRFQDYECYKuckBAUim4UODtQ0CeKXReY/1EQINpGD4iS0JAnil0XmP9REBSKbhQ4O1DQA==",
          "dtype": "f8"
         },
         "lon": {
          "bdata": "9TH+Af+rVMDwiVSck8lWwGFUUiegoVXA+CdEAr7VV8BPcQPbVMBRwL7VIdTYd1LA+6fAbv2XXsB/MXzAEzBWwCLgEKpUB1bA2UEEoHqxVcAyQSZ8o2lYwIzfLfOK/1TAJ6rxsf/FVcBJngwKWg5XwMgQGbnb41TAl33LWpJVVsB9qWWMSz5QwOy76EwWPFXAVDF84WGUVcCLEOTBUoxXwIlBYOXQLFrAl1HR/UEOXcCUwMUOUxtVwLP5LI1nq1jArLe8KLAqWsAjGYsJHoBQwHGjr73i+VXAvtUh1Nh3UsAl2p/Vk/5bwHGjr73i+VXAcaOvveL5VcC+1SHU2HdSwEgfDJ9h+VXAt7OOLt9qWMB3qpVsKbpYwJ+Ij5nVi2DAzMP4H89lXsBxo6+94vlVwG6VFuQdml3AeWGEU1PWVMCst7wosCpawMISDyibt1rAN/NxjnajVMB27skF3x9XwFHaG3xhQljArLe8KLAqWsBxo6+94vlVwA1PVNvydV7AcaOvveL5VcCst7wosCpawA==",
          "dtype": "f8"
         },
         "marker": {
          "color": "red",
          "line": {
           "color": "white",
           "width": 1
          },
          "size": 7,
          "symbol": "circle"
         },
         "mode": "markers",
         "name": "Destino",
         "showlegend": false,
         "text": [
          "ST. PETERSBURG, FL",
          "BATON ROUGE, LA",
          "VALPARAISO, FL",
          "HOUSTON, TX",
          "BOSTON, MA",
          "NEW YORK, NY",
          "SAN FRANCISCO, CA",
          "MERIDIAN, MS",
          "IRON MOUNTAIN/KINGSFD, MI",
          "HUNTSVILLE, AL",
          "SALINA, KS",
          "KNOXVILLE, TN",
          "ESCANABA, MI",
          "LITTLE ROCK, AR",
          "ALPENA, MI",
          "HATTIESBURG/LAUREL, MS",
          "CHARLOTTE AMALIE, VI",
          "COLUMBUS, GA",
          "SOUTH BEND, IN",
          "FORT DODGE, IA",
          "COLORADO SPRINGS, CO",
          "BOISE, ID",
          "ATLANTA, GA",
          "JAMESTOWN, ND",
          "DENVER, CO",
          "SAN JUAN, PR",
          "CHICAGO, IL",
          "NEW YORK, NY",
          "SALT LAKE CITY, UT",
          "CHICAGO, IL",
          "CHICAGO, IL",
          "NEW YORK, NY",
          "MILWAUKEE, WI",
          "AUSTIN, TX",
          "DEVILS LAKE, ND",
          "WRANGELL, AK",
          "SACRAMENTO, CA",
          "CHICAGO, IL",
          "LOS ANGELES, CA",
          "DETROIT, MI",
          "DENVER, CO",
          "ASPEN, CO",
          "SARASOTA/BRADENTON, FL",
          "ROCHESTER, MN",
          "DALLAS/FORT WORTH, TX",
          "DENVER, CO",
          "CHICAGO, IL",
          "MONTEREY, CA",
          "CHICAGO, IL",
          "DENVER, CO"
         ],
         "type": "scattergeo"
        },
        {
         "hovertemplate": "<b>⭐ Chicago</b><br><i>Cidade com métricas críticas</i><br>• 1.2x mais problemas operacionais<br>• Cancelamentos e desvios elevados<extra></extra>",
         "lat": [
          41.8781
         ],
         "lon": [
          -87.6298
         ],
         "marker": {
          "color": "#FFD700",
          "line": {
           "color": "#FF8C00",
           "width": 3
          },
          "size": 5,
          "symbol": "star"
         },
         "mode": "markers+text",
         "name": "Cidade Crítica",
         "showlegend": false,
         "text": [
          "Chicago"
         ],
         "textfont": {
          "color": "#000",
          "family": "Arial Black",
          "size": 12
         },
         "textposition": "top center",
         "type": "scattergeo"
        },
        {
         "hovertemplate": "<b>⭐ Denver</b><br><i>Cidade com métricas críticas</i><br>• 1.2x mais problemas operacionais<br>• Cancelamentos e desvios elevados<extra></extra>",
         "lat": [
          39.7392
         ],
         "lon": [
          -104.9903
         ],
         "marker": {
          "color": "#FFD700",
          "line": {
           "color": "#FF8C00",
           "width": 3
          },
          "size": 5,
          "symbol": "star"
         },
         "mode": "markers+text",
         "name": "Cidade Crítica",
         "showlegend": false,
         "text": [
          "Denver"
         ],
         "textfont": {
          "color": "#000",
          "family": "Arial Black",
          "size": 12
         },
         "textposition": "top center",
         "type": "scattergeo"
        },
        {
         "hovertemplate": "<b>⭐ Atlanta</b><br><i>Cidade com métricas críticas</i><br>• 1.2x mais problemas operacionais<br>• Cancelamentos e desvios elevados<extra></extra>",
         "lat": [
          33.749
         ],
         "lon": [
          -84.388
         ],
         "marker": {
          "color": "#FFD700",
          "line": {
           "color": "#FF8C00",
           "width": 3
          },
          "size": 5,
          "symbol": "star"
         },
         "mode": "markers+text",
         "name": "Cidade Crítica",
         "showlegend": false,
         "text": [
          "Atlanta"
         ],
         "textfont": {
          "color": "#000",
          "family": "Arial Black",
          "size": 12
         },
         "textposition": "top center",
         "type": "scattergeo"
        },
        {
         "hovertemplate": "<b>⭐ Dallas</b><br><i>Cidade com métricas críticas</i><br>• 1.2x mais problemas operacionais<br>• Cancelamentos e desvios elevados<extra></extra>",
         "lat": [
          32.7767
         ],
         "lon": [
          -96.797
         ],
         "marker": {
          "color": "#FFD700",
          "line": {
           "color": "#FF8C00",
           "width": 3
          },
          "size": 5,
          "symbol": "star"
         },
         "mode": "markers+text",
         "name": "Cidade Crítica",
         "showlegend": false,
         "text": [
          "Dallas"
         ],
         "textfont": {
          "color": "#000",
          "family": "Arial Black",
          "size": 12
         },
         "textposition": "top center",
         "type": "scattergeo"
        }
       ],
       "layout": {
        "geo": {
         "bgcolor": "rgba(255,255,255,0.1)",
         "coastlinecolor": "rgb(180, 180, 180)",
         "coastlinewidth": 0.5,
         "lakecolor": "rgb(220, 235, 255)",
         "landcolor": "rgb(243, 243, 238)",
         "projection": {
          "type": "albers usa"
         },
         "scope": "usa",
         "showcoastlines": true,
         "showlakes": true,
         "showland": true,
         "showsubunits": true,
         "subunitcolor": "rgb(200, 200, 200)",
         "subunitwidth": 0.5
        },
        "height": 600,
        "hoverlabel": {
         "bgcolor": "white",
         "font": {
          "family": "Arial",
          "size": 12
         }
        },
        "margin": {
         "b": 0,
         "l": 0,
         "r": 0,
         "t": 120
        },
        "showlegend": false,
        "template": {
         "data": {
          "bar": [
           {
            "error_x": {
             "color": "#2a3f5f"
            },
            "error_y": {
             "color": "#2a3f5f"
            },
            "marker": {
             "line": {
              "color": "#E5ECF6",
              "width": 0.5
             },
             "pattern": {
              "fillmode": "overlay",
              "size": 10,
              "solidity": 0.2
             }
            },
            "type": "bar"
           }
          ],
          "barpolar": [
           {
            "marker": {
             "line": {
              "color": "#E5ECF6",
              "width": 0.5
             },
             "pattern": {
              "fillmode": "overlay",
              "size": 10,
              "solidity": 0.2
             }
            },
            "type": "barpolar"
           }
          ],
          "carpet": [
           {
            "aaxis": {
             "endlinecolor": "#2a3f5f",
             "gridcolor": "white",
             "linecolor": "white",
             "minorgridcolor": "white",
             "startlinecolor": "#2a3f5f"
            },
            "baxis": {
             "endlinecolor": "#2a3f5f",
             "gridcolor": "white",
             "linecolor": "white",
             "minorgridcolor": "white",
             "startlinecolor": "#2a3f5f"
            },
            "type": "carpet"
           }
          ],
          "choropleth": [
           {
            "colorbar": {
             "outlinewidth": 0,
             "ticks": ""
            },
            "type": "choropleth"
           }
          ],
          "contour": [
           {
            "colorbar": {
             "outlinewidth": 0,
             "ticks": ""
            },
            "colorscale": [
             [
              0,
              "#0d0887"
             ],
             [
              0.1111111111111111,
              "#46039f"
             ],
             [
              0.2222222222222222,
              "#7201a8"
             ],
             [
              0.3333333333333333,
              "#9c179e"
             ],
             [
              0.4444444444444444,
              "#bd3786"
             ],
             [
              0.5555555555555556,
              "#d8576b"
             ],
             [
              0.6666666666666666,
              "#ed7953"
             ],
             [
              0.7777777777777778,
              "#fb9f3a"
             ],
             [
              0.8888888888888888,
              "#fdca26"
             ],
             [
              1,
              "#f0f921"
             ]
            ],
            "type": "contour"
           }
          ],
          "contourcarpet": [
           {
            "colorbar": {
             "outlinewidth": 0,
             "ticks": ""
            },
            "type": "contourcarpet"
           }
          ],
          "heatmap": [
           {
            "colorbar": {
             "outlinewidth": 0,
             "ticks": ""
            },
            "colorscale": [
             [
              0,
              "#0d0887"
             ],
             [
              0.1111111111111111,
              "#46039f"
             ],
             [
              0.2222222222222222,
              "#7201a8"
             ],
             [
              0.3333333333333333,
              "#9c179e"
             ],
             [
              0.4444444444444444,
              "#bd3786"
             ],
             [
              0.5555555555555556,
              "#d8576b"
             ],
             [
              0.6666666666666666,
              "#ed7953"
             ],
             [
              0.7777777777777778,
              "#fb9f3a"
             ],
             [
              0.8888888888888888,
              "#fdca26"
             ],
             [
              1,
              "#f0f921"
             ]
            ],
            "type": "heatmap"
           }
          ],
          "histogram": [
           {
            "marker": {
             "pattern": {
              "fillmode": "overlay",
              "size": 10,
              "solidity": 0.2
             }
            },
            "type": "histogram"
           }
          ],
          "histogram2d": [
           {
            "colorbar": {
             "outlinewidth": 0,
             "ticks": ""
            },
            "colorscale": [
             [
              0,
              "#0d0887"
             ],
             [
              0.1111111111111111,
              "#46039f"
             ],
             [
              0.2222222222222222,
              "#7201a8"
             ],
             [
              0.3333333333333333,
              "#9c179e"
             ],
             [
              0.4444444444444444,
              "#bd3786"
             ],
             [
              0.5555555555555556,
              "#d8576b"
             ],
             [
              0.6666666666666666,
              "#ed7953"
             ],
             [
              0.7777777777777778,
              "#fb9f3a"
             ],
             [
              0.8888888888888888,
              "#fdca26"
             ],
             [
              1,
              "#f0f921"
             ]
            ],
            "type": "histogram2d"
           }
          ],
          "histogram2dcontour": [
           {
            "colorbar": {
             "outlinewidth": 0,
             "ticks": ""
            },
            "colorscale": [
             [
              0,
              "#0d0887"
             ],
             [
              0.1111111111111111,
              "#46039f"
             ],
             [
              0.2222222222222222,
              "#7201a8"
             ],
             [
              0.3333333333333333,
              "#9c179e"
             ],
             [
              0.4444444444444444,
              "#bd3786"
             ],
             [
              0.5555555555555556,
              "#d8576b"
             ],
             [
              0.6666666666666666,
              "#ed7953"
             ],
             [
              0.7777777777777778,
              "#fb9f3a"
             ],
             [
              0.8888888888888888,
              "#fdca26"
             ],
             [
              1,
              "#f0f921"
             ]
            ],
            "type": "histogram2dcontour"
           }
          ],
          "mesh3d": [
           {
            "colorbar": {
             "outlinewidth": 0,
             "ticks": ""
            },
            "type": "mesh3d"
           }
          ],
          "parcoords": [
           {
            "line": {
             "colorbar": {
              "outlinewidth": 0,
              "ticks": ""
             }
            },
            "type": "parcoords"
           }
          ],
          "pie": [
           {
            "automargin": true,
            "type": "pie"
           }
          ],
          "scatter": [
           {
            "fillpattern": {
             "fillmode": "overlay",
             "size": 10,
             "solidity": 0.2
            },
            "type": "scatter"
           }
          ],
          "scatter3d": [
           {
            "line": {
             "colorbar": {
              "outlinewidth": 0,
              "ticks": ""
             }
            },
            "marker": {
             "colorbar": {
              "outlinewidth": 0,
              "ticks": ""
             }
            },
            "type": "scatter3d"
           }
          ],
          "scattercarpet": [
           {
            "marker": {
             "colorbar": {
              "outlinewidth": 0,
              "ticks": ""
             }
            },
            "type": "scattercarpet"
           }
          ],
          "scattergeo": [
           {
            "marker": {
             "colorbar": {
              "outlinewidth": 0,
              "ticks": ""
             }
            },
            "type": "scattergeo"
           }
          ],
          "scattergl": [
           {
            "marker": {
             "colorbar": {
              "outlinewidth": 0,
              "ticks": ""
             }
            },
            "type": "scattergl"
           }
          ],
          "scattermap": [
           {
            "marker": {
             "colorbar": {
              "outlinewidth": 0,
              "ticks": ""
             }
            },
            "type": "scattermap"
           }
          ],
          "scattermapbox": [
           {
            "marker": {
             "colorbar": {
              "outlinewidth": 0,
              "ticks": ""
             }
            },
            "type": "scattermapbox"
           }
          ],
          "scatterpolar": [
           {
            "marker": {
             "colorbar": {
              "outlinewidth": 0,
              "ticks": ""
             }
            },
            "type": "scatterpolar"
           }
          ],
          "scatterpolargl": [
           {
            "marker": {
             "colorbar": {
              "outlinewidth": 0,
              "ticks": ""
             }
            },
            "type": "scatterpolargl"
           }
          ],
          "scatterternary": [
           {
            "marker": {
             "colorbar": {
              "outlinewidth": 0,
              "ticks": ""
             }
            },
            "type": "scatterternary"
           }
          ],
          "surface": [
           {
            "colorbar": {
             "outlinewidth": 0,
             "ticks": ""
            },
            "colorscale": [
             [
              0,
              "#0d0887"
             ],
             [
              0.1111111111111111,
              "#46039f"
             ],
             [
              0.2222222222222222,
              "#7201a8"
             ],
             [
              0.3333333333333333,
              "#9c179e"
             ],
             [
              0.4444444444444444,
              "#bd3786"
             ],
             [
              0.5555555555555556,
              "#d8576b"
             ],
             [
              0.6666666666666666,
              "#ed7953"
             ],
             [
              0.7777777777777778,
              "#fb9f3a"
             ],
             [
              0.8888888888888888,
              "#fdca26"
             ],
             [
              1,
              "#f0f921"
             ]
            ],
            "type": "surface"
           }
          ],
          "table": [
           {
            "cells": {
             "fill": {
              "color": "#EBF0F8"
             },
             "line": {
              "color": "white"
             }
            },
            "header": {
             "fill": {
              "color": "#C8D4E3"
             },
             "line": {
              "color": "white"
             }
            },
            "type": "table"
           }
          ]
         },
         "layout": {
          "annotationdefaults": {
           "arrowcolor": "#2a3f5f",
           "arrowhead": 0,
           "arrowwidth": 1
          },
          "autotypenumbers": "strict",
          "coloraxis": {
           "colorbar": {
            "outlinewidth": 0,
            "ticks": ""
           }
          },
          "colorscale": {
           "diverging": [
            [
             0,
             "#8e0152"
            ],
            [
             0.1,
             "#c51b7d"
            ],
            [
             0.2,
             "#de77ae"
            ],
            [
             0.3,
             "#f1b6da"
            ],
            [
             0.4,
             "#fde0ef"
            ],
            [
             0.5,
             "#f7f7f7"
            ],
            [
             0.6,
             "#e6f5d0"
            ],
            [
             0.7,
             "#b8e186"
            ],
            [
             0.8,
             "#7fbc41"
            ],
            [
             0.9,
             "#4d9221"
            ],
            [
             1,
             "#276419"
            ]
           ],
           "sequential": [
            [
             0,
             "#0d0887"
            ],
            [
             0.1111111111111111,
             "#46039f"
            ],
            [
             0.2222222222222222,
             "#7201a8"
            ],
            [
             0.3333333333333333,
             "#9c179e"
            ],
            [
             0.4444444444444444,
             "#bd3786"
            ],
            [
             0.5555555555555556,
             "#d8576b"
            ],
            [
             0.6666666666666666,
             "#ed7953"
            ],
            [
             0.7777777777777778,
             "#fb9f3a"
            ],
            [
             0.8888888888888888,
             "#fdca26"
            ],
            [
             1,
             "#f0f921"
            ]
           ],
           "sequentialminus": [
            [
             0,
             "#0d0887"
            ],
            [
             0.1111111111111111,
             "#46039f"
            ],
            [
             0.2222222222222222,
             "#7201a8"
            ],
            [
             0.3333333333333333,
             "#9c179e"
            ],
            [
             0.4444444444444444,
             "#bd3786"
            ],
            [
             0.5555555555555556,
             "#d8576b"
            ],
            [
             0.6666666666666666,
             "#ed7953"
            ],
            [
             0.7777777777777778,
             "#fb9f3a"
            ],
            [
             0.8888888888888888,
             "#fdca26"
            ],
            [
             1,
             "#f0f921"
            ]
           ]
          },
          "colorway": [
           "#636efa",
           "#EF553B",
           "#00cc96",
           "#ab63fa",
           "#FFA15A",
           "#19d3f3",
           "#FF6692",
           "#B6E880",
           "#FF97FF",
           "#FECB52"
          ],
          "font": {
           "color": "#2a3f5f"
          },
          "geo": {
           "bgcolor": "white",
           "lakecolor": "white",
           "landcolor": "#E5ECF6",
           "showlakes": true,
           "showland": true,
           "subunitcolor": "white"
          },
          "hoverlabel": {
           "align": "left"
          },
          "hovermode": "closest",
          "mapbox": {
           "style": "light"
          },
          "paper_bgcolor": "white",
          "plot_bgcolor": "#E5ECF6",
          "polar": {
           "angularaxis": {
            "gridcolor": "white",
            "linecolor": "white",
            "ticks": ""
           },
           "bgcolor": "#E5ECF6",
           "radialaxis": {
            "gridcolor": "white",
            "linecolor": "white",
            "ticks": ""
           }
          },
          "scene": {
           "xaxis": {
            "backgroundcolor": "#E5ECF6",
            "gridcolor": "white",
            "gridwidth": 2,
            "linecolor": "white",
            "showbackground": true,
            "ticks": "",
            "zerolinecolor": "white"
           },
           "yaxis": {
            "backgroundcolor": "#E5ECF6",
            "gridcolor": "white",
            "gridwidth": 2,
            "linecolor": "white",
            "showbackground": true,
            "ticks": "",
            "zerolinecolor": "white"
           },
           "zaxis": {
            "backgroundcolor": "#E5ECF6",
            "gridcolor": "white",
            "gridwidth": 2,
            "linecolor": "white",
            "showbackground": true,
            "ticks": "",
            "zerolinecolor": "white"
           }
          },
          "shapedefaults": {
           "line": {
            "color": "#2a3f5f"
           }
          },
          "ternary": {
           "aaxis": {
            "gridcolor": "white",
            "linecolor": "white",
            "ticks": ""
           },
           "baxis": {
            "gridcolor": "white",
            "linecolor": "white",
            "ticks": ""
           },
           "bgcolor": "#E5ECF6",
           "caxis": {
            "gridcolor": "white",
            "linecolor": "white",
            "ticks": ""
           }
          },
          "title": {
           "x": 0.05
          },
          "xaxis": {
           "automargin": true,
           "gridcolor": "white",
           "linecolor": "white",
           "ticks": "",
           "title": {
            "standoff": 15
           },
           "zerolinecolor": "white",
           "zerolinewidth": 2
          },
          "yaxis": {
           "automargin": true,
           "gridcolor": "white",
           "linecolor": "white",
           "ticks": "",
           "title": {
            "standoff": 15
           },
           "zerolinecolor": "white",
           "zerolinewidth": 2
          }
         }
        },
        "title": {
         "font": {
          "size": 14
         },
         "text": "<b>Principais Rotas Aéreas - Atraso Médio por Distância</b><br><sub>🎨 Cor: Hora média do voo | 📏 Espessura: Atraso Médio por Distância | 🟢 Origem | 🔴 Destino</sub><br><sub>⭐ <b>Cidades críticas:</b> Chicago, Denver, Atlanta, Dallas/Fort Worth (1.2x mais problemas) | 🔴 <b>Estados críticos:</b> CA, FL, TX, CO (Atraso 1.19x maior)</sub>",
         "x": 0.5,
         "xanchor": "center"
        }
       }
      }
     },
     "metadata": {},
     "output_type": "display_data"
    }
   ],
   "source": [
    "def criar_mapa_rotas_avancado(df, top_n=20, altura=600, selected_metric='avg_delay_per_distance'):\n",
    "    \"\"\"Cria um mapa interativo das rotas de voo com destaque para cidades e estados específicos\"\"\"\n",
    "    \n",
    "    # Configurações das métricas\n",
    "    METRIC_CONFIG = {\n",
    "        'avg_delay': {'col': 'DELAY_OVERALL', 'agg': 'mean', 'title': 'Atraso Médio', 'unit': 'min'},\n",
    "        'delay_count': {'col': 'DELAY', 'agg': 'sum', 'title': 'Quantidade de Atrasos', 'unit': 'voos'},\n",
    "        'cancelled_count': {'col': 'CANCELLED', 'agg': 'sum', 'title': 'Quantidade de Cancelamentos', 'unit': 'voos'},\n",
    "        'diverted_count': {'col': 'DIVERTED', 'agg': 'sum', 'title': 'Quantidade de Desvios', 'unit': 'voos'},\n",
    "        'avg_delay_per_distance': {'col': 'DELAY_PER_DISTANCE', 'agg': 'mean', 'title': 'Atraso Médio por Distância', 'unit': 'min/milha'}\n",
    "    }\n",
    "    \n",
    "    config = METRIC_CONFIG.get(selected_metric, METRIC_CONFIG['avg_delay_per_distance'])\n",
    "    \n",
    "    # Verificar colunas necessárias\n",
    "    REQUIRED_COLS = ['ORIGIN_CITY', 'DEST_CITY', 'ORIGIN_LAT', 'ORIGIN_LON', 'DEST_LAT', 'DEST_LON', 'DISTANCE']\n",
    "    missing_cols = [col for col in REQUIRED_COLS if col not in df.columns]\n",
    "    \n",
    "    if missing_cols:\n",
    "        return _create_error_figure(f\"Dados de coordenadas ou distância não disponíveis: {', '.join(missing_cols)}\", altura)\n",
    "    \n",
    "    # Processar dados das rotas\n",
    "    rotas_data = _processar_dados_rotas(df, config, top_n)\n",
    "    \n",
    "    if rotas_data.empty:\n",
    "        return _create_error_figure(\"Nenhuma rota válida encontrada\", altura)\n",
    "    \n",
    "    # Criar figura\n",
    "    fig = _criar_figura_mapa(rotas_data, config, altura)\n",
    "    \n",
    "    return fig\n",
    "\n",
    "\n",
    "def _processar_dados_rotas(df, config, top_n):\n",
    "    \"\"\"Processa e agrupa os dados das rotas, calculando DELAY_PER_DISTANCE\"\"\"\n",
    "    df['DELAY_OVERALL'] = pd.to_numeric(df['DELAY_OVERALL'], errors='coerce')\n",
    "    df['DISTANCE'] = pd.to_numeric(df['DISTANCE'], errors='coerce')\n",
    "    df = df.dropna(subset=['DELAY_OVERALL', 'DISTANCE'])\n",
    "    \n",
    "    df['DELAY_PER_DISTANCE'] = df.apply(lambda row: row['DELAY_OVERALL'] / row['DISTANCE'] if row['DISTANCE'] != 0 else 0, axis=1)\n",
    "    \n",
    "    agg_dict = {\n",
    "        'DELAY_OVERALL': 'mean',\n",
    "        'DELAY_PER_DISTANCE': 'mean',\n",
    "        'FL_DATE': 'count',\n",
    "        'TIME_HOUR': 'mean'\n",
    "    }\n",
    "    \n",
    "    rotas_data = (\n",
    "        df.groupby([\"ORIGIN_CITY\", \"DEST_CITY\", \"ORIGIN_LAT\", \"ORIGIN_LON\", \"DEST_LAT\", \"DEST_LON\", \"DISTANCE\"], \n",
    "                   as_index=False)\n",
    "        .agg(agg_dict)\n",
    "        .rename(columns={'FL_DATE': 'TOTAL_VOOS'})\n",
    "        .sort_values(by=config['col'], ascending=False)\n",
    "        .head(top_n)\n",
    "        .dropna(subset=['ORIGIN_LAT', 'ORIGIN_LON', 'DEST_LAT', 'DEST_LON'])\n",
    "        .reset_index(drop=True)\n",
    "    )\n",
    "    \n",
    "    return rotas_data\n",
    "\n",
    "\n",
    "def _criar_figura_mapa(rotas_data, config, altura):\n",
    "    \"\"\"Cria a figura do mapa com as rotas\"\"\"\n",
    "    fig = go.Figure()\n",
    "    \n",
    "    # Adicionar marcadores de estados críticos primeiro (atrás das rotas)\n",
    "    _adicionar_marcadores_estados(fig)\n",
    "    \n",
    "    # Calcular espessuras normalizadas\n",
    "    espessuras = _calcular_espessuras(rotas_data, config['col'])\n",
    "    \n",
    "    # Adicionar rotas\n",
    "    _adicionar_rotas(fig, rotas_data, espessuras, config)\n",
    "    \n",
    "    # Adicionar marcadores comuns\n",
    "    _adicionar_marcadores_comuns(fig, rotas_data)\n",
    "    \n",
    "    # Adicionar destaque para cidades específicas (por último, para ficarem visíveis)\n",
    "    _adicionar_destaque_cidades(fig, rotas_data)\n",
    "    \n",
    "    # Atualizar layout\n",
    "    _atualizar_layout(fig, config, altura)\n",
    "    \n",
    "    return fig\n",
    "\n",
    "\n",
    "def _adicionar_rotas(fig, rotas_data, espessuras, config):\n",
    "    \"\"\"Adiciona as linhas das rotas ao mapa\"\"\"\n",
    "    for idx, rota in rotas_data.iterrows():\n",
    "        cor = _calcular_cor_horario(rota['TIME_HOUR'])\n",
    "        \n",
    "        fig.add_trace(go.Scattergeo(\n",
    "            lon=[rota['ORIGIN_LON'], rota['DEST_LON']],\n",
    "            lat=[rota['ORIGIN_LAT'], rota['DEST_LAT']],\n",
    "            mode='lines',\n",
    "            line=dict(width=espessuras[idx], color=cor),\n",
    "            name=f\"{rota['ORIGIN_CITY']} → {rota['DEST_CITY']}\",\n",
    "            showlegend=False,\n",
    "            hovertemplate=(\n",
    "                f\"<b>{rota['ORIGIN_CITY']} → {rota['DEST_CITY']}</b><br>\"\n",
    "                f\"Atraso Médio: {rota['DELAY_OVERALL']:.1f} min<br>\"\n",
    "                f\"{config['title']}: {rota[config['col']]:.3f} {config['unit']}<br>\"\n",
    "                f\"Hora Média: {rota['TIME_HOUR']:.1f}h<br>\"\n",
    "                f\"Total de Voos: {rota['TOTAL_VOOS']}<br>\"\n",
    "                f\"Distância: {rota['DISTANCE']:.0f} milhas<br>\"\n",
    "                \"<extra></extra>\"\n",
    "            )\n",
    "        ))\n",
    "\n",
    "\n",
    "def _adicionar_marcadores_comuns(fig, rotas_data):\n",
    "    \"\"\"Adiciona marcadores de origem e destino comuns\"\"\"\n",
    "    # Marcadores de origem (verde)\n",
    "    fig.add_trace(go.Scattergeo(\n",
    "        lon=rotas_data['ORIGIN_LON'],\n",
    "        lat=rotas_data['ORIGIN_LAT'],\n",
    "        mode='markers',\n",
    "        marker=dict(size=7, color='green', symbol='circle', line=dict(width=1, color='white')),\n",
    "        text=rotas_data['ORIGIN_CITY'],\n",
    "        name=\"Origem\",\n",
    "        hovertemplate=\"<b>%{text}</b><br><i>Aeroporto de Origem</i><extra></extra>\",\n",
    "        showlegend=False\n",
    "    ))\n",
    "    \n",
    "    # Marcadores de destino (vermelho)\n",
    "    fig.add_trace(go.Scattergeo(\n",
    "        lon=rotas_data['DEST_LON'],\n",
    "        lat=rotas_data['DEST_LAT'],\n",
    "        mode='markers',\n",
    "        marker=dict(size=7, color='red', symbol='circle', line=dict(width=1, color='white')),\n",
    "        text=rotas_data['DEST_CITY'],\n",
    "        name=\"Destino\",\n",
    "        hovertemplate=\"<b>%{text}</b><br><i>Aeroporto de Destino</i><extra></extra>\",\n",
    "        showlegend=False\n",
    "    ))\n",
    "\n",
    "\n",
    "def _adicionar_destaque_cidades(fig, rotas_data):\n",
    "    \"\"\"Adiciona destaque especial para cidades específicas\"\"\"\n",
    "    # Coordenadas fixas das cidades críticas\n",
    "    cidades_destaque = {\n",
    "        'Chicago': {'lat': 41.8781, 'lon': -87.6298},\n",
    "        'Denver': {'lat': 39.7392, 'lon': -104.9903},\n",
    "        'Atlanta': {'lat': 33.7490, 'lon': -84.3880},\n",
    "        'Dallas': {'lat': 32.7767, 'lon': -96.7970}\n",
    "    }\n",
    "    \n",
    "    # Adicionar marcadores estrela para cada cidade\n",
    "    for cidade, coords in cidades_destaque.items():\n",
    "        fig.add_trace(go.Scattergeo(\n",
    "            lon=[coords['lon']],\n",
    "            lat=[coords['lat']],\n",
    "            mode='markers+text',\n",
    "            marker=dict(\n",
    "                size=5, \n",
    "                color='#FFD700', \n",
    "                symbol='star', \n",
    "                line=dict(width=3, color='#FF8C00')\n",
    "            ),\n",
    "            text=[cidade],\n",
    "            textposition=\"top center\",\n",
    "            textfont=dict(size=12, color='#000', family='Arial Black'),\n",
    "            name=\"Cidade Crítica\",\n",
    "            hovertemplate=f\"<b>⭐ {cidade}</b><br>\"\n",
    "                         f\"<i>Cidade com métricas críticas</i><br>\"\n",
    "                         f\"• 1.2x mais problemas operacionais<br>\"\n",
    "                         f\"• Cancelamentos e desvios elevados<extra></extra>\",\n",
    "            showlegend=False\n",
    "        ))\n",
    "\n",
    "\n",
    "def _adicionar_marcadores_estados(fig):\n",
    "    \"\"\"Adiciona marcadores discretos para estados críticos\"\"\"\n",
    "    \n",
    "    # Coordenadas aproximadas do centro de cada estado\n",
    "    estados_centros = {\n",
    "        'CA': {'lon': -119.4, 'lat': 36.7, 'nome': 'Califórnia'},\n",
    "        'FL': {'lon': -81.5, 'lat': 27.9, 'nome': 'Flórida'},\n",
    "        'TX': {'lon': -99.9, 'lat': 31.0, 'nome': 'Texas'},\n",
    "        'CO': {'lon': -105.5, 'lat': 39.0, 'nome': 'Colorado'}\n",
    "    }\n",
    "    \n",
    "    # Adicionar marcadores hexagonais sutis para os estados\n",
    "    for estado, dados in estados_centros.items():\n",
    "        fig.add_trace(go.Scattergeo(\n",
    "            lon=[dados['lon']],\n",
    "            lat=[dados['lat']],\n",
    "            mode='markers+text',\n",
    "            marker=dict(\n",
    "                size=35,\n",
    "                color='rgba(255, 100, 100, 0.25)',\n",
    "                symbol='hexagon',\n",
    "                line=dict(width=2, color='rgba(255, 50, 50, 0.6)')\n",
    "            ),\n",
    "            text=[estado],\n",
    "            textfont=dict(size=14, color='rgba(200, 0, 0, 0.8)', family='Arial Black'),\n",
    "            textposition=\"middle center\",\n",
    "            name=f\"Estado Crítico: {dados['nome']}\",\n",
    "            showlegend=False,\n",
    "            hovertemplate=(\n",
    "                f\"<b>🔴 {dados['nome']} ({estado})</b><br>\"\n",
    "                f\"<i>Estado com indicadores críticos</i><br>\"\n",
    "                f\"• Atraso médio 1.19x maior<br>\"\n",
    "                f\"• Risco elevado de problemas<extra></extra>\"\n",
    "            )\n",
    "        ))\n",
    "\n",
    "\n",
    "def _calcular_cor_horario(time_hour):\n",
    "    \"\"\"Calcula cor baseada no horário usando escala HSL\"\"\"\n",
    "    hora_normalizada = time_hour / 23.0\n",
    "    \n",
    "    # Matiz de azul claro para azul escuro/roxo\n",
    "    hue = 200 + (hora_normalizada * 80)\n",
    "    \n",
    "    # Saturação aumenta com o tempo\n",
    "    saturation = 60 + (hora_normalizada * 30)\n",
    "    \n",
    "    # Luminosidade varia: mais clara no meio do dia\n",
    "    if time_hour <= 12:\n",
    "        lightness = 30 + (time_hour / 12.0) * 40\n",
    "    else:\n",
    "        lightness = 70 - ((time_hour - 12) / 11.0) * 40\n",
    "    \n",
    "    hue = max(0, min(hue, 360))\n",
    "    saturation = max(0, min(saturation, 100))\n",
    "    lightness = max(0, min(lightness, 100))\n",
    "    \n",
    "    return f'hsl({hue:.0f}, {saturation:.0f}%, {lightness:.0f}%)'\n",
    "\n",
    "\n",
    "def _calcular_espessuras(rotas_data, col_metric):\n",
    "    \"\"\"Calcula espessuras normalizadas para as rotas com base na métrica\"\"\"\n",
    "    min_metric = rotas_data[col_metric].min()\n",
    "    max_metric = rotas_data[col_metric].max()\n",
    "    \n",
    "    if max_metric <= min_metric or pd.isna(min_metric) or pd.isna(max_metric):\n",
    "        return [3] * len(rotas_data)\n",
    "    \n",
    "    espessuras = []\n",
    "    for valor in rotas_data[col_metric]:\n",
    "        if pd.isna(valor):\n",
    "            espessuras.append(3)\n",
    "            continue\n",
    "        metric_normalizada = (valor - min_metric) / (max_metric - min_metric)\n",
    "        espessura = 1.5 + (metric_normalizada ** 1.5) * 7\n",
    "        espessuras.append(max(1.5, min(espessura, 8.5)))\n",
    "    \n",
    "    return espessuras\n",
    "\n",
    "\n",
    "def _atualizar_layout(fig, config, altura):\n",
    "    \"\"\"Atualiza o layout do mapa\"\"\"\n",
    "    subtitle_text = (\n",
    "        f\"🎨 Cor: Hora média do voo | \"\n",
    "        f\"📏 Espessura: {config['title']} | \"\n",
    "        f\"🟢 Origem | 🔴 Destino\"\n",
    "    )\n",
    "    \n",
    "    destaque_text = (\n",
    "        f\"<br><sub>⭐ <b>Cidades críticas:</b> Chicago, Denver, Atlanta, Dallas/Fort Worth (1.2x mais problemas) | \"\n",
    "        f\"🔴 <b>Estados críticos:</b> CA, FL, TX, CO (Atraso 1.19x maior)</sub>\"\n",
    "    )\n",
    "    \n",
    "    fig.update_layout(\n",
    "        title=dict(\n",
    "            text=f\"<b>Principais Rotas Aéreas - {config['title']}</b><br>\"\n",
    "                 f\"<sub>{subtitle_text}</sub>\"\n",
    "                 f\"{destaque_text}\",\n",
    "            x=0.5,\n",
    "            xanchor='center',\n",
    "            font=dict(size=14)\n",
    "        ),\n",
    "        geo=dict(\n",
    "            scope='usa',\n",
    "            projection_type='albers usa',\n",
    "            showland=True,\n",
    "            landcolor='rgb(243, 243, 238)',\n",
    "            showlakes=True,\n",
    "            lakecolor='rgb(220, 235, 255)',\n",
    "            showsubunits=True,\n",
    "            subunitcolor='rgb(200, 200, 200)',\n",
    "            subunitwidth=0.5,\n",
    "            showcoastlines=True,\n",
    "            coastlinecolor='rgb(180, 180, 180)',\n",
    "            coastlinewidth=0.5,\n",
    "            bgcolor='rgba(255,255,255,0.1)',\n",
    "        ),\n",
    "        height=altura,\n",
    "        margin=dict(l=0, r=0, t=120, b=0),\n",
    "        showlegend=False,\n",
    "        hoverlabel=dict(\n",
    "            bgcolor=\"white\",\n",
    "            font_size=12,\n",
    "            font_family=\"Arial\"\n",
    "        )\n",
    "    )\n",
    "\n",
    "\n",
    "def _create_error_figure(message, altura):\n",
    "    \"\"\"Cria figura de erro\"\"\"\n",
    "    fig = go.Figure()\n",
    "    fig.update_layout(\n",
    "        title=dict(text=message, x=0.5, xanchor='center'),\n",
    "        height=altura,\n",
    "        xaxis=dict(visible=False),\n",
    "        yaxis=dict(visible=False)\n",
    "    )\n",
    "    return fig\n",
    "\n",
    "\n",
    "# Exemplo de uso\n",
    "map_fig = criar_mapa_rotas_avancado(df, top_n=50, altura=600)\n",
    "map_fig.show()"
   ]
  },
  {
   "cell_type": "code",
   "execution_count": 55,
   "id": "daaf3ab8",
   "metadata": {},
   "outputs": [],
   "source": [
    "def plot_line_chart_continuous(df, x_col, y_col, title):\n",
    "    \"\"\"\n",
    "    Plota gráfico de linha minimalista para médias de uma métrica por agrupamento,\n",
    "    incluindo uma linha de referência da média geral.\n",
    "    \n",
    "    Args:\n",
    "        df (pd.DataFrame): Dados de entrada.\n",
    "        x_col (str): Coluna para eixo X (ex.: 'DISTANCE', 'DAY_OF_MONTH', 'TIME_HOUR').\n",
    "        y_col (str): Coluna da métrica (ex.: 'DELAY_OVERALL').\n",
    "        title (str): Título do gráfico.\n",
    "    \"\"\"\n",
    "    # Calcula a média do atraso por grupo\n",
    "    grouped = df.groupby(x_col, observed=True)[y_col].mean().sort_index()\n",
    "\n",
    "    # Média geral\n",
    "    global_mean = df[y_col].mean()\n",
    "\n",
    "    plt.figure(figsize=(9, 5))\n",
    "    sns.lineplot(x=grouped.index, y=grouped.values, color=\"#2166AC\", linewidth=2.5, marker=\"o\")\n",
    "\n",
    "    # Linha da média geral\n",
    "    plt.axhline(global_mean, color=\"#DC1C13\", linestyle=\"--\", linewidth=2, alpha=0.7, label=\"Média Geral\")\n",
    "\n",
    "    # Estilo minimalista\n",
    "    plt.title(title, fontsize=16, fontweight=\"bold\", family=\"Antonio\")\n",
    "    plt.xlabel(x_col, fontsize=12, family=\"Poppins\")\n",
    "    plt.ylabel(y_col, fontsize=12, family=\"Poppins\")\n",
    "\n",
    "    plt.xticks(fontsize=11, family=\"Poppins\")\n",
    "    plt.yticks(fontsize=11, family=\"Poppins\")\n",
    "    sns.despine(left=True, bottom=True)\n",
    "    plt.grid(axis=\"y\", linestyle=\"--\", alpha=0.4)\n",
    "\n",
    "    plt.legend(frameon=False, fontsize=11, loc=\"upper right\", prop={\"family\": \"Poppins\"})\n",
    "    plt.tight_layout()\n",
    "    plt.show()"
   ]
  },
  {
   "cell_type": "code",
   "execution_count": 56,
   "id": "a8d2084a",
   "metadata": {},
   "outputs": [
    {
     "data": {
      "image/png": "[encoded data removed]",
      "text/plain": [
       "<Figure size 900x500 with 1 Axes>"
      ]
     },
     "metadata": {},
     "output_type": "display_data"
    }
   ],
   "source": [
    "plot_line_chart_continuous(df, x_col=\"DISTANCE\", y_col=\"DELAY_OVERALL\", title=\"Distância x Atraso Médio (min)\")"
   ]
  },
  {
   "cell_type": "code",
   "execution_count": 57,
   "id": "ea7f32ef",
   "metadata": {},
   "outputs": [
    {
     "data": {
      "image/png": "[encoded data removed]",
      "text/plain": [
       "<Figure size 900x500 with 1 Axes>"
      ]
     },
     "metadata": {},
     "output_type": "display_data"
    }
   ],
   "source": [
    "plot_line_chart_continuous(df, x_col=\"TIME_HOUR\", y_col=\"DELAY_OVERALL\", title=\"Hora do Dia x Atraso Médio (min)\")"
   ]
  },
  {
   "cell_type": "code",
   "execution_count": 58,
   "id": "4c8cc956",
   "metadata": {},
   "outputs": [
    {
     "data": {
      "image/png": "[encoded data removed]",
      "text/plain": [
       "<Figure size 900x500 with 1 Axes>"
      ]
     },
     "metadata": {},
     "output_type": "display_data"
    }
   ],
   "source": [
    "plot_line_chart_continuous(df, x_col=\"FL_DAY\", y_col=\"DELAY_OVERALL\", title=\"Dia do Mês x Atraso Médio (min)\")"
   ]
  },
  {
   "cell_type": "code",
   "execution_count": 59,
   "id": "a0d49a79",
   "metadata": {},
   "outputs": [],
   "source": [
    "def plot_avg_metric_column(df, group_col, metric_col, top_n=10, title=\"\"):\n",
    "    \"\"\"\n",
    "    Cria gráfico de colunas minimalista para valores médios.\n",
    "    \"\"\"\n",
    "    data = (\n",
    "        df.groupby(group_col, observed=True)[metric_col]\n",
    "        .mean()\n",
    "        .sort_values(ascending=False)\n",
    "        .head(top_n)\n",
    "        .reset_index()\n",
    "    )\n",
    "\n",
    "    plt.figure(figsize=(9, 5))\n",
    "    ax = sns.barplot(\n",
    "        data=data,\n",
    "        x=group_col,\n",
    "        y=metric_col,\n",
    "        color=\"#0077C8\"\n",
    "    )\n",
    "\n",
    "    # Rótulos acima das colunas\n",
    "    for p in ax.patches:\n",
    "        height = p.get_height()\n",
    "        ax.text(\n",
    "            p.get_x() + p.get_width() / 2.,  # centro da barra\n",
    "            height + 0.5,                   # um pouco acima\n",
    "            f'{height:.1f}',\n",
    "            ha=\"center\", va=\"bottom\",\n",
    "            fontsize=11, fontweight=\"medium\", family=\"Poppins\"\n",
    "        )\n",
    "\n",
    "    # Estilo minimalista\n",
    "    plt.title(title, fontsize=16, fontweight=\"bold\", family=\"Antonio\")\n",
    "    plt.xlabel(\"\")  \n",
    "    plt.ylabel(\"\")  \n",
    "    plt.xticks(rotation=45, fontsize=12, family=\"Poppins\")  # inclina rótulos se forem longos\n",
    "    plt.yticks([])  \n",
    "    sns.despine(left=True, bottom=True)\n",
    "    plt.grid(axis=\"y\", linestyle=\"--\", alpha=0.4)\n",
    "    plt.tight_layout()\n",
    "    plt.show()\n"
   ]
  },
  {
   "cell_type": "code",
   "execution_count": 60,
   "id": "99955777",
   "metadata": {},
   "outputs": [
    {
     "data": {
      "image/png": "[encoded data removed]",
      "text/plain": [
       "<Figure size 900x500 with 1 Axes>"
      ]
     },
     "metadata": {},
     "output_type": "display_data"
    }
   ],
   "source": [
    "plot_avg_metric_column(df, \"TIME_PERIOD\", \"DELAY_OVERALL\", top_n=4,\n",
    "                title=\"Maiores atrasos por período do dia (min)\")"
   ]
  }
 ],
 "metadata": {
  "kernelspec": {
   "display_name": "py12_lab",
   "language": "python",
   "name": "python3"
  },
  "language_info": {
   "codemirror_mode": {
    "name": "ipython",
    "version": 3
   },
   "file_extension": ".py",
   "mimetype": "text/x-python",
   "name": "python",
   "nbconvert_exporter": "python",
   "pygments_lexer": "ipython3",
   "version": "3.12.0"
  }
 },
 "nbformat": 4,
 "nbformat_minor": 5
}
